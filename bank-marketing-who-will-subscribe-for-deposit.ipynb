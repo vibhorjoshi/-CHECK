{
 "cells": [
  {
   "cell_type": "markdown",
   "id": "04b81698",
   "metadata": {
    "papermill": {
     "duration": 0.035614,
     "end_time": "2022-07-08T12:47:55.414651",
     "exception": false,
     "start_time": "2022-07-08T12:47:55.379037",
     "status": "completed"
    },
    "tags": []
   },
   "source": [
    "<div style=\"color:white;\n",
    "           display:fill;\n",
    "           border-radius:15px;\n",
    "           background-color:black;\n",
    "           font-size:150%;\n",
    "           font-family:#afd511;\n",
    "           letter-spacing:0.5px\">\n",
    "\n",
    "<h3 style=\"padding: 20px; color:white; text-align:center\"><b>Bank Marketing Campaign</b></h3>\n",
    "</div>"
   ]
  },
  {
   "cell_type": "markdown",
   "id": "f5f40ec6",
   "metadata": {
    "papermill": {
     "duration": 0.031052,
     "end_time": "2022-07-08T12:47:55.477417",
     "exception": false,
     "start_time": "2022-07-08T12:47:55.446365",
     "status": "completed"
    },
    "tags": []
   },
   "source": [
    "<div style=\"color:white;\n",
    "           display:fill;\n",
    "           border-radius:15px;\n",
    "           background-color:blue;\n",
    "           font-size:120%;\n",
    "           font-family:#afd511;\n",
    "           letter-spacing:0.5px\">\n",
    "\n",
    "<h3 style=\"padding: 15px; color:white; text-align:center\"><b>Problem Statement</b></h3>\n",
    "</div>"
   ]
  },
  {
   "cell_type": "markdown",
   "id": "727c8ef3",
   "metadata": {
    "papermill": {
     "duration": 0.031027,
     "end_time": "2022-07-08T12:47:55.539985",
     "exception": false,
     "start_time": "2022-07-08T12:47:55.508958",
     "status": "completed"
    },
    "tags": []
   },
   "source": [
    "The following project focus on the analysis of a dataset of **Bank Marketing** which contains data or information about customers and aims to get useful insights from the data and predict if a new customer will accept a deposit offer or not.\n",
    "#### What Is a Deposit?\n",
    "A deposit is a financial term that means money held at a bank. A deposit is a transaction involving a transfer of money to another party for safekeeping. However, a deposit can refer to a portion of money used as security or collateral for the delivery of a good."
   ]
  },
  {
   "cell_type": "markdown",
   "id": "e08f9958",
   "metadata": {
    "papermill": {
     "duration": 0.031331,
     "end_time": "2022-07-08T12:47:55.603312",
     "exception": false,
     "start_time": "2022-07-08T12:47:55.571981",
     "status": "completed"
    },
    "tags": []
   },
   "source": [
    "![](https://digitalagencynews.com/wp-content/uploads/2017/01/banking-marketing-920x425.jpg)"
   ]
  },
  {
   "cell_type": "markdown",
   "id": "4c2c910a",
   "metadata": {
    "papermill": {
     "duration": 0.031818,
     "end_time": "2022-07-08T12:47:55.667043",
     "exception": false,
     "start_time": "2022-07-08T12:47:55.635225",
     "status": "completed"
    },
    "tags": []
   },
   "source": [
    "<div style=\"color:white;\n",
    "           display:fill;\n",
    "           border-radius:15px;\n",
    "           background-color:blue;\n",
    "           font-size:120%;\n",
    "           font-family:#afd511;\n",
    "           letter-spacing:0.5px\">\n",
    "\n",
    "<h3 style=\"padding: 15px; color:white; text-align:center\"><b>Content</b></h3>\n",
    "</div>"
   ]
  },
  {
   "cell_type": "markdown",
   "id": "55b3af3a",
   "metadata": {
    "papermill": {
     "duration": 0.038562,
     "end_time": "2022-07-08T12:47:55.748084",
     "exception": false,
     "start_time": "2022-07-08T12:47:55.709522",
     "status": "completed"
    },
    "tags": []
   },
   "source": [
    "## Dataset contains Total 17 columns/Features :\n",
    "\n",
    "### Bank Client Data\n",
    "* 1 - **age** : Age of customer(numeric)\n",
    "* 2 - **job** : Job Type (categorical: 'admin.','blue-collar','entrepreneur','housemaid','management','retired','self-employed','services','student','technician','unemployed','unknown')\n",
    "* 3 - **marital** : marital status (categorical: 'divorced','married','single','unknown')\n",
    "* 4 - **education** (categorical: 'basic.4y','basic.6y','basic.9y','high.school','illiterate','professional.course','university.degree','unknown')\n",
    "* 5 - **default**: has credit in default? (categorical: yes/no)\n",
    "* 6 - **balance**: bank balance(RS)\n",
    "* 7 - **housing**: has housing loan? (categorical: yes/no)\n",
    "* 8 - **loan**: has personal loan? (categorical: yes/no)\n",
    "\n",
    "### Info related with the last contact of the current campaign:\n",
    "* 9 - **contact**: contact communication type (categorical: 'cellular','telephone')\n",
    "* 10 - **month**: last contact month of year (categorical: 'jan', 'feb', 'mar', ..., 'nov', 'dec')\n",
    "* 11 - **day**: last contact day of the week (categorical: 'mon','tue','wed','thu','fri')\n",
    "* 12 - **duration**: last contact duration, in seconds (numeric). Important note: this attribute highly affects the output target (e.g., if duration=0 then y='no'). Yet, the duration is not known before a call is performed. Also, after the end of the call y is obviously known. Thus, this input should only be included for benchmark purposes and should be discarded if the intention is to have a realistic predictive model.\n",
    "\n",
    "### Other Attributes:\n",
    "* 13 - **campaign**: number of contacts performed during this campaign and for this client (numeric, includes last contact)\n",
    "* 14 - **pdays**: number of days that passed by after the client was last contacted from a previous campaign (numeric;-1 means client was not previously contacted)\n",
    "* 15 - **previous**: number of contacts performed before this campaign and for this client (numeric)\n",
    "* 16 - **poutcome**: outcome of the previous marketing campaign (categorical: 'failure','nonexistent','success')\n",
    "\n",
    "### Output variable (desired target):\n",
    "* 17 - **deposit** - has the client subscribed a term deposit? (binary: yes/no)"
   ]
  },
  {
   "cell_type": "markdown",
   "id": "757cde7b",
   "metadata": {
    "papermill": {
     "duration": 0.032837,
     "end_time": "2022-07-08T12:47:55.825568",
     "exception": false,
     "start_time": "2022-07-08T12:47:55.792731",
     "status": "completed"
    },
    "tags": []
   },
   "source": [
    "<div style=\"color:white;\n",
    "           display:fill;\n",
    "           border-radius:15px;\n",
    "           background-color:blue;\n",
    "           font-size:120%;\n",
    "           font-family:#afd511;\n",
    "           letter-spacing:0.5px\">\n",
    "\n",
    "<h3 style=\"padding: 15px; color:white; text-align:center\"><b>Table of Content</b></h3>\n",
    "</div>"
   ]
  },
  {
   "cell_type": "markdown",
   "id": "37ffaed4",
   "metadata": {
    "papermill": {
     "duration": 0.031043,
     "end_time": "2022-07-08T12:47:55.888167",
     "exception": false,
     "start_time": "2022-07-08T12:47:55.857124",
     "status": "completed"
    },
    "tags": []
   },
   "source": [
    "## 1. EDA\n",
    "## 2. Data Visualization & Data Cleaning \n",
    "## 3. Feature Engineering & Encoding Category\n",
    "## 4. Data Preprocessing\n",
    "## 5. Model Training and Model Evaluation\n",
    "## 6. Conclusion\n",
    "## 7. Model Deployment"
   ]
  },
  {
   "cell_type": "markdown",
   "id": "d0f6f1a8",
   "metadata": {
    "papermill": {
     "duration": 0.030992,
     "end_time": "2022-07-08T12:47:55.950691",
     "exception": false,
     "start_time": "2022-07-08T12:47:55.919699",
     "status": "completed"
    },
    "tags": []
   },
   "source": [
    "<div style=\"color:white;\n",
    "           display:fill;\n",
    "           border-radius:15px;\n",
    "           background-color:blue;\n",
    "           font-size:120%;\n",
    "           font-family:#afd511;\n",
    "           letter-spacing:0.5px\">\n",
    "\n",
    "<h3 style=\"padding: 15px; color:white; text-align:center\"><b>Exploratory Data Analysis (EDA)</b></h3>\n",
    "</div>"
   ]
  },
  {
   "cell_type": "markdown",
   "id": "b744ed98",
   "metadata": {
    "papermill": {
     "duration": 0.031162,
     "end_time": "2022-07-08T12:47:56.013210",
     "exception": false,
     "start_time": "2022-07-08T12:47:55.982048",
     "status": "completed"
    },
    "tags": []
   },
   "source": [
    "## EDA and Visualization"
   ]
  },
  {
   "cell_type": "markdown",
   "id": "e093b876",
   "metadata": {
    "papermill": {
     "duration": 0.031137,
     "end_time": "2022-07-08T12:47:56.075960",
     "exception": false,
     "start_time": "2022-07-08T12:47:56.044823",
     "status": "completed"
    },
    "tags": []
   },
   "source": [
    "##  Import Library"
   ]
  },
  {
   "cell_type": "code",
   "execution_count": 1,
   "id": "12e3b5e2",
   "metadata": {
    "execution": {
     "iopub.execute_input": "2022-07-08T12:47:56.141894Z",
     "iopub.status.busy": "2022-07-08T12:47:56.141467Z",
     "iopub.status.idle": "2022-07-08T12:47:57.306788Z",
     "shell.execute_reply": "2022-07-08T12:47:57.305638Z"
    },
    "papermill": {
     "duration": 1.201785,
     "end_time": "2022-07-08T12:47:57.309395",
     "exception": false,
     "start_time": "2022-07-08T12:47:56.107610",
     "status": "completed"
    },
    "tags": []
   },
   "outputs": [],
   "source": [
    "import numpy as np\n",
    "import matplotlib.pyplot as plt\n",
    "import pandas as pd\n",
    "import seaborn as sns\n",
    "import warnings\n",
    "warnings.filterwarnings('ignore')"
   ]
  },
  {
   "cell_type": "markdown",
   "id": "24754bb0",
   "metadata": {
    "papermill": {
     "duration": 0.031586,
     "end_time": "2022-07-08T12:47:57.373438",
     "exception": false,
     "start_time": "2022-07-08T12:47:57.341852",
     "status": "completed"
    },
    "tags": []
   },
   "source": [
    "##  Import Dataset"
   ]
  },
  {
   "cell_type": "code",
   "execution_count": 2,
   "id": "4dc39f2e",
   "metadata": {
    "execution": {
     "iopub.execute_input": "2022-07-08T12:47:57.440345Z",
     "iopub.status.busy": "2022-07-08T12:47:57.439959Z",
     "iopub.status.idle": "2022-07-08T12:47:57.513656Z",
     "shell.execute_reply": "2022-07-08T12:47:57.512552Z"
    },
    "papermill": {
     "duration": 0.109016,
     "end_time": "2022-07-08T12:47:57.515969",
     "exception": false,
     "start_time": "2022-07-08T12:47:57.406953",
     "status": "completed"
    },
    "tags": []
   },
   "outputs": [
    {
     "data": {
      "text/html": [
       "<div>\n",
       "<style scoped>\n",
       "    .dataframe tbody tr th:only-of-type {\n",
       "        vertical-align: middle;\n",
       "    }\n",
       "\n",
       "    .dataframe tbody tr th {\n",
       "        vertical-align: top;\n",
       "    }\n",
       "\n",
       "    .dataframe thead th {\n",
       "        text-align: right;\n",
       "    }\n",
       "</style>\n",
       "<table border=\"1\" class=\"dataframe\">\n",
       "  <thead>\n",
       "    <tr style=\"text-align: right;\">\n",
       "      <th></th>\n",
       "      <th>age</th>\n",
       "      <th>job</th>\n",
       "      <th>marital</th>\n",
       "      <th>education</th>\n",
       "      <th>default</th>\n",
       "      <th>balance</th>\n",
       "      <th>housing</th>\n",
       "      <th>loan</th>\n",
       "      <th>contact</th>\n",
       "      <th>day</th>\n",
       "      <th>month</th>\n",
       "      <th>duration</th>\n",
       "      <th>campaign</th>\n",
       "      <th>pdays</th>\n",
       "      <th>previous</th>\n",
       "      <th>poutcome</th>\n",
       "      <th>deposit</th>\n",
       "    </tr>\n",
       "  </thead>\n",
       "  <tbody>\n",
       "    <tr>\n",
       "      <th>0</th>\n",
       "      <td>59</td>\n",
       "      <td>admin.</td>\n",
       "      <td>married</td>\n",
       "      <td>secondary</td>\n",
       "      <td>no</td>\n",
       "      <td>2343</td>\n",
       "      <td>yes</td>\n",
       "      <td>no</td>\n",
       "      <td>unknown</td>\n",
       "      <td>5</td>\n",
       "      <td>may</td>\n",
       "      <td>1042</td>\n",
       "      <td>1</td>\n",
       "      <td>-1</td>\n",
       "      <td>0</td>\n",
       "      <td>unknown</td>\n",
       "      <td>yes</td>\n",
       "    </tr>\n",
       "    <tr>\n",
       "      <th>1</th>\n",
       "      <td>56</td>\n",
       "      <td>admin.</td>\n",
       "      <td>married</td>\n",
       "      <td>secondary</td>\n",
       "      <td>no</td>\n",
       "      <td>45</td>\n",
       "      <td>no</td>\n",
       "      <td>no</td>\n",
       "      <td>unknown</td>\n",
       "      <td>5</td>\n",
       "      <td>may</td>\n",
       "      <td>1467</td>\n",
       "      <td>1</td>\n",
       "      <td>-1</td>\n",
       "      <td>0</td>\n",
       "      <td>unknown</td>\n",
       "      <td>yes</td>\n",
       "    </tr>\n",
       "    <tr>\n",
       "      <th>2</th>\n",
       "      <td>41</td>\n",
       "      <td>technician</td>\n",
       "      <td>married</td>\n",
       "      <td>secondary</td>\n",
       "      <td>no</td>\n",
       "      <td>1270</td>\n",
       "      <td>yes</td>\n",
       "      <td>no</td>\n",
       "      <td>unknown</td>\n",
       "      <td>5</td>\n",
       "      <td>may</td>\n",
       "      <td>1389</td>\n",
       "      <td>1</td>\n",
       "      <td>-1</td>\n",
       "      <td>0</td>\n",
       "      <td>unknown</td>\n",
       "      <td>yes</td>\n",
       "    </tr>\n",
       "    <tr>\n",
       "      <th>3</th>\n",
       "      <td>55</td>\n",
       "      <td>services</td>\n",
       "      <td>married</td>\n",
       "      <td>secondary</td>\n",
       "      <td>no</td>\n",
       "      <td>2476</td>\n",
       "      <td>yes</td>\n",
       "      <td>no</td>\n",
       "      <td>unknown</td>\n",
       "      <td>5</td>\n",
       "      <td>may</td>\n",
       "      <td>579</td>\n",
       "      <td>1</td>\n",
       "      <td>-1</td>\n",
       "      <td>0</td>\n",
       "      <td>unknown</td>\n",
       "      <td>yes</td>\n",
       "    </tr>\n",
       "    <tr>\n",
       "      <th>4</th>\n",
       "      <td>54</td>\n",
       "      <td>admin.</td>\n",
       "      <td>married</td>\n",
       "      <td>tertiary</td>\n",
       "      <td>no</td>\n",
       "      <td>184</td>\n",
       "      <td>no</td>\n",
       "      <td>no</td>\n",
       "      <td>unknown</td>\n",
       "      <td>5</td>\n",
       "      <td>may</td>\n",
       "      <td>673</td>\n",
       "      <td>2</td>\n",
       "      <td>-1</td>\n",
       "      <td>0</td>\n",
       "      <td>unknown</td>\n",
       "      <td>yes</td>\n",
       "    </tr>\n",
       "    <tr>\n",
       "      <th>...</th>\n",
       "      <td>...</td>\n",
       "      <td>...</td>\n",
       "      <td>...</td>\n",
       "      <td>...</td>\n",
       "      <td>...</td>\n",
       "      <td>...</td>\n",
       "      <td>...</td>\n",
       "      <td>...</td>\n",
       "      <td>...</td>\n",
       "      <td>...</td>\n",
       "      <td>...</td>\n",
       "      <td>...</td>\n",
       "      <td>...</td>\n",
       "      <td>...</td>\n",
       "      <td>...</td>\n",
       "      <td>...</td>\n",
       "      <td>...</td>\n",
       "    </tr>\n",
       "    <tr>\n",
       "      <th>11157</th>\n",
       "      <td>33</td>\n",
       "      <td>blue-collar</td>\n",
       "      <td>single</td>\n",
       "      <td>primary</td>\n",
       "      <td>no</td>\n",
       "      <td>1</td>\n",
       "      <td>yes</td>\n",
       "      <td>no</td>\n",
       "      <td>cellular</td>\n",
       "      <td>20</td>\n",
       "      <td>apr</td>\n",
       "      <td>257</td>\n",
       "      <td>1</td>\n",
       "      <td>-1</td>\n",
       "      <td>0</td>\n",
       "      <td>unknown</td>\n",
       "      <td>no</td>\n",
       "    </tr>\n",
       "    <tr>\n",
       "      <th>11158</th>\n",
       "      <td>39</td>\n",
       "      <td>services</td>\n",
       "      <td>married</td>\n",
       "      <td>secondary</td>\n",
       "      <td>no</td>\n",
       "      <td>733</td>\n",
       "      <td>no</td>\n",
       "      <td>no</td>\n",
       "      <td>unknown</td>\n",
       "      <td>16</td>\n",
       "      <td>jun</td>\n",
       "      <td>83</td>\n",
       "      <td>4</td>\n",
       "      <td>-1</td>\n",
       "      <td>0</td>\n",
       "      <td>unknown</td>\n",
       "      <td>no</td>\n",
       "    </tr>\n",
       "    <tr>\n",
       "      <th>11159</th>\n",
       "      <td>32</td>\n",
       "      <td>technician</td>\n",
       "      <td>single</td>\n",
       "      <td>secondary</td>\n",
       "      <td>no</td>\n",
       "      <td>29</td>\n",
       "      <td>no</td>\n",
       "      <td>no</td>\n",
       "      <td>cellular</td>\n",
       "      <td>19</td>\n",
       "      <td>aug</td>\n",
       "      <td>156</td>\n",
       "      <td>2</td>\n",
       "      <td>-1</td>\n",
       "      <td>0</td>\n",
       "      <td>unknown</td>\n",
       "      <td>no</td>\n",
       "    </tr>\n",
       "    <tr>\n",
       "      <th>11160</th>\n",
       "      <td>43</td>\n",
       "      <td>technician</td>\n",
       "      <td>married</td>\n",
       "      <td>secondary</td>\n",
       "      <td>no</td>\n",
       "      <td>0</td>\n",
       "      <td>no</td>\n",
       "      <td>yes</td>\n",
       "      <td>cellular</td>\n",
       "      <td>8</td>\n",
       "      <td>may</td>\n",
       "      <td>9</td>\n",
       "      <td>2</td>\n",
       "      <td>172</td>\n",
       "      <td>5</td>\n",
       "      <td>failure</td>\n",
       "      <td>no</td>\n",
       "    </tr>\n",
       "    <tr>\n",
       "      <th>11161</th>\n",
       "      <td>34</td>\n",
       "      <td>technician</td>\n",
       "      <td>married</td>\n",
       "      <td>secondary</td>\n",
       "      <td>no</td>\n",
       "      <td>0</td>\n",
       "      <td>no</td>\n",
       "      <td>no</td>\n",
       "      <td>cellular</td>\n",
       "      <td>9</td>\n",
       "      <td>jul</td>\n",
       "      <td>628</td>\n",
       "      <td>1</td>\n",
       "      <td>-1</td>\n",
       "      <td>0</td>\n",
       "      <td>unknown</td>\n",
       "      <td>no</td>\n",
       "    </tr>\n",
       "  </tbody>\n",
       "</table>\n",
       "<p>11162 rows × 17 columns</p>\n",
       "</div>"
      ],
      "text/plain": [
       "       age          job  marital  education default  balance housing loan  \\\n",
       "0       59       admin.  married  secondary      no     2343     yes   no   \n",
       "1       56       admin.  married  secondary      no       45      no   no   \n",
       "2       41   technician  married  secondary      no     1270     yes   no   \n",
       "3       55     services  married  secondary      no     2476     yes   no   \n",
       "4       54       admin.  married   tertiary      no      184      no   no   \n",
       "...    ...          ...      ...        ...     ...      ...     ...  ...   \n",
       "11157   33  blue-collar   single    primary      no        1     yes   no   \n",
       "11158   39     services  married  secondary      no      733      no   no   \n",
       "11159   32   technician   single  secondary      no       29      no   no   \n",
       "11160   43   technician  married  secondary      no        0      no  yes   \n",
       "11161   34   technician  married  secondary      no        0      no   no   \n",
       "\n",
       "        contact  day month  duration  campaign  pdays  previous poutcome  \\\n",
       "0       unknown    5   may      1042         1     -1         0  unknown   \n",
       "1       unknown    5   may      1467         1     -1         0  unknown   \n",
       "2       unknown    5   may      1389         1     -1         0  unknown   \n",
       "3       unknown    5   may       579         1     -1         0  unknown   \n",
       "4       unknown    5   may       673         2     -1         0  unknown   \n",
       "...         ...  ...   ...       ...       ...    ...       ...      ...   \n",
       "11157  cellular   20   apr       257         1     -1         0  unknown   \n",
       "11158   unknown   16   jun        83         4     -1         0  unknown   \n",
       "11159  cellular   19   aug       156         2     -1         0  unknown   \n",
       "11160  cellular    8   may         9         2    172         5  failure   \n",
       "11161  cellular    9   jul       628         1     -1         0  unknown   \n",
       "\n",
       "      deposit  \n",
       "0         yes  \n",
       "1         yes  \n",
       "2         yes  \n",
       "3         yes  \n",
       "4         yes  \n",
       "...       ...  \n",
       "11157      no  \n",
       "11158      no  \n",
       "11159      no  \n",
       "11160      no  \n",
       "11161      no  \n",
       "\n",
       "[11162 rows x 17 columns]"
      ]
     },
     "execution_count": 2,
     "metadata": {},
     "output_type": "execute_result"
    }
   ],
   "source": [
    "df = pd.read_csv(\"../input/bank-marketing-dataset/bank.csv\")\n",
    "df"
   ]
  },
  {
   "cell_type": "markdown",
   "id": "7869392d",
   "metadata": {
    "papermill": {
     "duration": 0.031681,
     "end_time": "2022-07-08T12:47:57.580105",
     "exception": false,
     "start_time": "2022-07-08T12:47:57.548424",
     "status": "completed"
    },
    "tags": []
   },
   "source": [
    "## Check Null Values"
   ]
  },
  {
   "cell_type": "code",
   "execution_count": 3,
   "id": "70ab8b36",
   "metadata": {
    "execution": {
     "iopub.execute_input": "2022-07-08T12:47:57.646949Z",
     "iopub.status.busy": "2022-07-08T12:47:57.646249Z",
     "iopub.status.idle": "2022-07-08T12:47:57.659651Z",
     "shell.execute_reply": "2022-07-08T12:47:57.658830Z"
    },
    "papermill": {
     "duration": 0.049056,
     "end_time": "2022-07-08T12:47:57.661922",
     "exception": false,
     "start_time": "2022-07-08T12:47:57.612866",
     "status": "completed"
    },
    "tags": []
   },
   "outputs": [
    {
     "data": {
      "text/plain": [
       "age          0\n",
       "job          0\n",
       "marital      0\n",
       "education    0\n",
       "default      0\n",
       "balance      0\n",
       "housing      0\n",
       "loan         0\n",
       "contact      0\n",
       "day          0\n",
       "month        0\n",
       "duration     0\n",
       "campaign     0\n",
       "pdays        0\n",
       "previous     0\n",
       "poutcome     0\n",
       "deposit      0\n",
       "dtype: int64"
      ]
     },
     "execution_count": 3,
     "metadata": {},
     "output_type": "execute_result"
    }
   ],
   "source": [
    "df.isnull().sum()"
   ]
  },
  {
   "cell_type": "markdown",
   "id": "6d6c8249",
   "metadata": {
    "papermill": {
     "duration": 0.031957,
     "end_time": "2022-07-08T12:47:57.726138",
     "exception": false,
     "start_time": "2022-07-08T12:47:57.694181",
     "status": "completed"
    },
    "tags": []
   },
   "source": [
    "* There is **No null Values** in dataset  "
   ]
  },
  {
   "cell_type": "markdown",
   "id": "686aa0e0",
   "metadata": {
    "papermill": {
     "duration": 0.03223,
     "end_time": "2022-07-08T12:47:57.790538",
     "exception": false,
     "start_time": "2022-07-08T12:47:57.758308",
     "status": "completed"
    },
    "tags": []
   },
   "source": [
    "## Check duplicate values"
   ]
  },
  {
   "cell_type": "code",
   "execution_count": 4,
   "id": "39268cb4",
   "metadata": {
    "execution": {
     "iopub.execute_input": "2022-07-08T12:47:57.858902Z",
     "iopub.status.busy": "2022-07-08T12:47:57.858210Z",
     "iopub.status.idle": "2022-07-08T12:47:57.882208Z",
     "shell.execute_reply": "2022-07-08T12:47:57.881445Z"
    },
    "papermill": {
     "duration": 0.060621,
     "end_time": "2022-07-08T12:47:57.884341",
     "exception": false,
     "start_time": "2022-07-08T12:47:57.823720",
     "status": "completed"
    },
    "tags": []
   },
   "outputs": [
    {
     "data": {
      "text/plain": [
       "0"
      ]
     },
     "execution_count": 4,
     "metadata": {},
     "output_type": "execute_result"
    }
   ],
   "source": [
    "df.duplicated().sum()"
   ]
  },
  {
   "cell_type": "markdown",
   "id": "b4907066",
   "metadata": {
    "papermill": {
     "duration": 0.032945,
     "end_time": "2022-07-08T12:47:57.950340",
     "exception": false,
     "start_time": "2022-07-08T12:47:57.917395",
     "status": "completed"
    },
    "tags": []
   },
   "source": [
    "## Data Types"
   ]
  },
  {
   "cell_type": "code",
   "execution_count": 5,
   "id": "798996a0",
   "metadata": {
    "execution": {
     "iopub.execute_input": "2022-07-08T12:47:58.017076Z",
     "iopub.status.busy": "2022-07-08T12:47:58.016054Z",
     "iopub.status.idle": "2022-07-08T12:47:58.023662Z",
     "shell.execute_reply": "2022-07-08T12:47:58.022633Z"
    },
    "papermill": {
     "duration": 0.042801,
     "end_time": "2022-07-08T12:47:58.025753",
     "exception": false,
     "start_time": "2022-07-08T12:47:57.982952",
     "status": "completed"
    },
    "tags": []
   },
   "outputs": [
    {
     "data": {
      "text/plain": [
       "age           int64\n",
       "job          object\n",
       "marital      object\n",
       "education    object\n",
       "default      object\n",
       "balance       int64\n",
       "housing      object\n",
       "loan         object\n",
       "contact      object\n",
       "day           int64\n",
       "month        object\n",
       "duration      int64\n",
       "campaign      int64\n",
       "pdays         int64\n",
       "previous      int64\n",
       "poutcome     object\n",
       "deposit      object\n",
       "dtype: object"
      ]
     },
     "execution_count": 5,
     "metadata": {},
     "output_type": "execute_result"
    }
   ],
   "source": [
    "df.dtypes"
   ]
  },
  {
   "cell_type": "markdown",
   "id": "b540fb37",
   "metadata": {
    "papermill": {
     "duration": 0.032039,
     "end_time": "2022-07-08T12:47:58.091599",
     "exception": false,
     "start_time": "2022-07-08T12:47:58.059560",
     "status": "completed"
    },
    "tags": []
   },
   "source": [
    "## Sta Info Data"
   ]
  },
  {
   "cell_type": "code",
   "execution_count": 6,
   "id": "5f4d345f",
   "metadata": {
    "execution": {
     "iopub.execute_input": "2022-07-08T12:47:58.158593Z",
     "iopub.status.busy": "2022-07-08T12:47:58.157928Z",
     "iopub.status.idle": "2022-07-08T12:47:58.192867Z",
     "shell.execute_reply": "2022-07-08T12:47:58.191619Z"
    },
    "papermill": {
     "duration": 0.07083,
     "end_time": "2022-07-08T12:47:58.195200",
     "exception": false,
     "start_time": "2022-07-08T12:47:58.124370",
     "status": "completed"
    },
    "tags": []
   },
   "outputs": [
    {
     "data": {
      "text/html": [
       "<div>\n",
       "<style scoped>\n",
       "    .dataframe tbody tr th:only-of-type {\n",
       "        vertical-align: middle;\n",
       "    }\n",
       "\n",
       "    .dataframe tbody tr th {\n",
       "        vertical-align: top;\n",
       "    }\n",
       "\n",
       "    .dataframe thead th {\n",
       "        text-align: right;\n",
       "    }\n",
       "</style>\n",
       "<table border=\"1\" class=\"dataframe\">\n",
       "  <thead>\n",
       "    <tr style=\"text-align: right;\">\n",
       "      <th></th>\n",
       "      <th>age</th>\n",
       "      <th>balance</th>\n",
       "      <th>day</th>\n",
       "      <th>duration</th>\n",
       "      <th>campaign</th>\n",
       "      <th>pdays</th>\n",
       "      <th>previous</th>\n",
       "    </tr>\n",
       "  </thead>\n",
       "  <tbody>\n",
       "    <tr>\n",
       "      <th>count</th>\n",
       "      <td>11162.000000</td>\n",
       "      <td>11162.000000</td>\n",
       "      <td>11162.000000</td>\n",
       "      <td>11162.000000</td>\n",
       "      <td>11162.000000</td>\n",
       "      <td>11162.000000</td>\n",
       "      <td>11162.000000</td>\n",
       "    </tr>\n",
       "    <tr>\n",
       "      <th>mean</th>\n",
       "      <td>41.231948</td>\n",
       "      <td>1528.538524</td>\n",
       "      <td>15.658036</td>\n",
       "      <td>371.993818</td>\n",
       "      <td>2.508421</td>\n",
       "      <td>51.330407</td>\n",
       "      <td>0.832557</td>\n",
       "    </tr>\n",
       "    <tr>\n",
       "      <th>std</th>\n",
       "      <td>11.913369</td>\n",
       "      <td>3225.413326</td>\n",
       "      <td>8.420740</td>\n",
       "      <td>347.128386</td>\n",
       "      <td>2.722077</td>\n",
       "      <td>108.758282</td>\n",
       "      <td>2.292007</td>\n",
       "    </tr>\n",
       "    <tr>\n",
       "      <th>min</th>\n",
       "      <td>18.000000</td>\n",
       "      <td>-6847.000000</td>\n",
       "      <td>1.000000</td>\n",
       "      <td>2.000000</td>\n",
       "      <td>1.000000</td>\n",
       "      <td>-1.000000</td>\n",
       "      <td>0.000000</td>\n",
       "    </tr>\n",
       "    <tr>\n",
       "      <th>25%</th>\n",
       "      <td>32.000000</td>\n",
       "      <td>122.000000</td>\n",
       "      <td>8.000000</td>\n",
       "      <td>138.000000</td>\n",
       "      <td>1.000000</td>\n",
       "      <td>-1.000000</td>\n",
       "      <td>0.000000</td>\n",
       "    </tr>\n",
       "    <tr>\n",
       "      <th>50%</th>\n",
       "      <td>39.000000</td>\n",
       "      <td>550.000000</td>\n",
       "      <td>15.000000</td>\n",
       "      <td>255.000000</td>\n",
       "      <td>2.000000</td>\n",
       "      <td>-1.000000</td>\n",
       "      <td>0.000000</td>\n",
       "    </tr>\n",
       "    <tr>\n",
       "      <th>75%</th>\n",
       "      <td>49.000000</td>\n",
       "      <td>1708.000000</td>\n",
       "      <td>22.000000</td>\n",
       "      <td>496.000000</td>\n",
       "      <td>3.000000</td>\n",
       "      <td>20.750000</td>\n",
       "      <td>1.000000</td>\n",
       "    </tr>\n",
       "    <tr>\n",
       "      <th>max</th>\n",
       "      <td>95.000000</td>\n",
       "      <td>81204.000000</td>\n",
       "      <td>31.000000</td>\n",
       "      <td>3881.000000</td>\n",
       "      <td>63.000000</td>\n",
       "      <td>854.000000</td>\n",
       "      <td>58.000000</td>\n",
       "    </tr>\n",
       "  </tbody>\n",
       "</table>\n",
       "</div>"
      ],
      "text/plain": [
       "                age       balance           day      duration      campaign  \\\n",
       "count  11162.000000  11162.000000  11162.000000  11162.000000  11162.000000   \n",
       "mean      41.231948   1528.538524     15.658036    371.993818      2.508421   \n",
       "std       11.913369   3225.413326      8.420740    347.128386      2.722077   \n",
       "min       18.000000  -6847.000000      1.000000      2.000000      1.000000   \n",
       "25%       32.000000    122.000000      8.000000    138.000000      1.000000   \n",
       "50%       39.000000    550.000000     15.000000    255.000000      2.000000   \n",
       "75%       49.000000   1708.000000     22.000000    496.000000      3.000000   \n",
       "max       95.000000  81204.000000     31.000000   3881.000000     63.000000   \n",
       "\n",
       "              pdays      previous  \n",
       "count  11162.000000  11162.000000  \n",
       "mean      51.330407      0.832557  \n",
       "std      108.758282      2.292007  \n",
       "min       -1.000000      0.000000  \n",
       "25%       -1.000000      0.000000  \n",
       "50%       -1.000000      0.000000  \n",
       "75%       20.750000      1.000000  \n",
       "max      854.000000     58.000000  "
      ]
     },
     "execution_count": 6,
     "metadata": {},
     "output_type": "execute_result"
    }
   ],
   "source": [
    "df.describe()"
   ]
  },
  {
   "cell_type": "code",
   "execution_count": 7,
   "id": "6df668e2",
   "metadata": {
    "execution": {
     "iopub.execute_input": "2022-07-08T12:47:58.262923Z",
     "iopub.status.busy": "2022-07-08T12:47:58.262521Z",
     "iopub.status.idle": "2022-07-08T12:47:58.271849Z",
     "shell.execute_reply": "2022-07-08T12:47:58.270883Z"
    },
    "papermill": {
     "duration": 0.045643,
     "end_time": "2022-07-08T12:47:58.273908",
     "exception": false,
     "start_time": "2022-07-08T12:47:58.228265",
     "status": "completed"
    },
    "tags": []
   },
   "outputs": [
    {
     "data": {
      "text/plain": [
       "no     0.52616\n",
       "yes    0.47384\n",
       "Name: deposit, dtype: float64"
      ]
     },
     "execution_count": 7,
     "metadata": {},
     "output_type": "execute_result"
    }
   ],
   "source": [
    "df['deposit'].value_counts()/df.shape[0]"
   ]
  },
  {
   "cell_type": "markdown",
   "id": "9f57f932",
   "metadata": {
    "papermill": {
     "duration": 0.032792,
     "end_time": "2022-07-08T12:47:58.340206",
     "exception": false,
     "start_time": "2022-07-08T12:47:58.307414",
     "status": "completed"
    },
    "tags": []
   },
   "source": [
    "## Data Balance\n",
    "* Check data is balance or not i.e Total % of Yes/No category"
   ]
  },
  {
   "cell_type": "code",
   "execution_count": 8,
   "id": "686a0c3c",
   "metadata": {
    "execution": {
     "iopub.execute_input": "2022-07-08T12:47:58.408351Z",
     "iopub.status.busy": "2022-07-08T12:47:58.407220Z",
     "iopub.status.idle": "2022-07-08T12:47:58.676733Z",
     "shell.execute_reply": "2022-07-08T12:47:58.675909Z"
    },
    "papermill": {
     "duration": 0.305696,
     "end_time": "2022-07-08T12:47:58.678698",
     "exception": false,
     "start_time": "2022-07-08T12:47:58.373002",
     "status": "completed"
    },
    "tags": []
   },
   "outputs": [
    {
     "data": {
      "image/png": "[encoded data removed]",
      "text/plain": [
       "<Figure size 864x360 with 2 Axes>"
      ]
     },
     "metadata": {
      "needs_background": "light"
     },
     "output_type": "display_data"
    }
   ],
   "source": [
    "plt.figure(figsize=(12,5))\n",
    "plt.subplot(1,2,1)\n",
    "sns.countplot(x='deposit',data=df)\n",
    "plt.title(\"Category of Yes and No\")\n",
    "plt.subplot(1,2,2)\n",
    "labels =df['deposit'].value_counts(sort = True).index\n",
    "sizes = df['deposit'].value_counts(sort = True)\n",
    "plt.pie(sizes,labels=labels,autopct='%1.1f%%', shadow=True, startangle=270,)\n",
    "plt.title('Total yes and No categ',size = 12)\n",
    "plt.show()"
   ]
  },
  {
   "cell_type": "markdown",
   "id": "c74f9178",
   "metadata": {
    "papermill": {
     "duration": 0.033325,
     "end_time": "2022-07-08T12:47:58.746035",
     "exception": false,
     "start_time": "2022-07-08T12:47:58.712710",
     "status": "completed"
    },
    "tags": []
   },
   "source": [
    "* As seen Data is balance i.e **50-50 %** of yes/no binary cateogry\n",
    "* If not balance then its can balance by random oversampling "
   ]
  },
  {
   "cell_type": "markdown",
   "id": "0f7d7136",
   "metadata": {
    "papermill": {
     "duration": 0.034688,
     "end_time": "2022-07-08T12:47:58.814676",
     "exception": false,
     "start_time": "2022-07-08T12:47:58.779988",
     "status": "completed"
    },
    "tags": []
   },
   "source": [
    "<div style=\"color:white;\n",
    "           display:fill;\n",
    "           border-radius:15px;\n",
    "           background-color:blue;\n",
    "           font-size:120%;\n",
    "           font-family:#afd511;\n",
    "           letter-spacing:0.5px\">\n",
    "\n",
    "<h3 style=\"padding: 15px; color:white; text-align:center\"><b>Data Visualization & Data Cleaning</b></h3>\n",
    "</div>"
   ]
  },
  {
   "cell_type": "markdown",
   "id": "aba9884c",
   "metadata": {
    "papermill": {
     "duration": 0.03318,
     "end_time": "2022-07-08T12:47:58.882380",
     "exception": false,
     "start_time": "2022-07-08T12:47:58.849200",
     "status": "completed"
    },
    "tags": []
   },
   "source": [
    "## A . Visualization of Catg features:"
   ]
  },
  {
   "cell_type": "code",
   "execution_count": 9,
   "id": "b14a4cc2",
   "metadata": {
    "execution": {
     "iopub.execute_input": "2022-07-08T12:47:58.952085Z",
     "iopub.status.busy": "2022-07-08T12:47:58.950992Z",
     "iopub.status.idle": "2022-07-08T12:47:58.960663Z",
     "shell.execute_reply": "2022-07-08T12:47:58.959857Z"
    },
    "papermill": {
     "duration": 0.047134,
     "end_time": "2022-07-08T12:47:58.962667",
     "exception": false,
     "start_time": "2022-07-08T12:47:58.915533",
     "status": "completed"
    },
    "tags": []
   },
   "outputs": [
    {
     "data": {
      "text/plain": [
       "Index(['marital', 'education', 'default', 'housing', 'loan', 'contact',\n",
       "       'month', 'poutcome'],\n",
       "      dtype='object')"
      ]
     },
     "execution_count": 9,
     "metadata": {},
     "output_type": "execute_result"
    }
   ],
   "source": [
    "df_cat = df.select_dtypes(include='object').columns.drop([\"deposit\",\"job\"])\n",
    "df_cat"
   ]
  },
  {
   "cell_type": "markdown",
   "id": "b5338c3b",
   "metadata": {
    "papermill": {
     "duration": 0.032849,
     "end_time": "2022-07-08T12:47:59.028349",
     "exception": false,
     "start_time": "2022-07-08T12:47:58.995500",
     "status": "completed"
    },
    "tags": []
   },
   "source": [
    "### Count Plot"
   ]
  },
  {
   "cell_type": "code",
   "execution_count": 10,
   "id": "0620ce2e",
   "metadata": {
    "execution": {
     "iopub.execute_input": "2022-07-08T12:47:59.095754Z",
     "iopub.status.busy": "2022-07-08T12:47:59.095335Z",
     "iopub.status.idle": "2022-07-08T12:48:00.756320Z",
     "shell.execute_reply": "2022-07-08T12:48:00.755010Z"
    },
    "papermill": {
     "duration": 1.697818,
     "end_time": "2022-07-08T12:48:00.758854",
     "exception": false,
     "start_time": "2022-07-08T12:47:59.061036",
     "status": "completed"
    },
    "tags": []
   },
   "outputs": [
    {
     "data": {
      "image/png": "[encoded data removed]",
      "text/plain": [
       "<Figure size 936x1080 with 8 Axes>"
      ]
     },
     "metadata": {
      "needs_background": "light"
     },
     "output_type": "display_data"
    },
    {
     "data": {
      "image/png": "[encoded data removed]",
      "text/plain": [
       "<Figure size 1008x360 with 1 Axes>"
      ]
     },
     "metadata": {
      "needs_background": "light"
     },
     "output_type": "display_data"
    }
   ],
   "source": [
    "plt.figure(figsize=(13,15))\n",
    "for i,cat_fea in enumerate(df_cat):\n",
    "    plt.subplot(4,2,i+1)\n",
    "    sns.countplot(x=cat_fea,hue='deposit',data=df,edgecolor=\"black\")\n",
    "    plt.title(\"Countplot of {}  by deposit\".format(cat_fea))\n",
    "plt.tight_layout()    \n",
    "plt.show()\n",
    "plt.figure(figsize=[14,5])\n",
    "sns.countplot(x='job', hue='deposit',edgecolor=\"black\",data=df)\n",
    "plt.title(\"Countplot of job by deposit\")\n",
    "plt.show()"
   ]
  },
  {
   "cell_type": "markdown",
   "id": "cd3f6451",
   "metadata": {
    "papermill": {
     "duration": 0.035287,
     "end_time": "2022-07-08T12:48:00.829822",
     "exception": false,
     "start_time": "2022-07-08T12:48:00.794535",
     "status": "completed"
    },
    "tags": []
   },
   "source": [
    "## conclusion"
   ]
  },
  {
   "cell_type": "markdown",
   "id": "0661918d",
   "metadata": {
    "papermill": {
     "duration": 0.034536,
     "end_time": "2022-07-08T12:48:00.900333",
     "exception": false,
     "start_time": "2022-07-08T12:48:00.865797",
     "status": "completed"
    },
    "tags": []
   },
   "source": [
    "* **single person** is more likely to subscribed for deposit as compared to married one\n",
    "* people with no **housing loan** are more likely to subscribed the term deposit\n",
    "* **cellular contact** has more chances that person will subscribed the term deposit while unknown has very very less\n",
    "* In month of may the most of call was done(around 2500), while in Dec month this was very very less(below 200) \n",
    "* **students and retired** people has more likely to subscribed the term deposit"
   ]
  },
  {
   "cell_type": "markdown",
   "id": "1ffa7652",
   "metadata": {
    "papermill": {
     "duration": 0.034567,
     "end_time": "2022-07-08T12:48:00.970559",
     "exception": false,
     "start_time": "2022-07-08T12:48:00.935992",
     "status": "completed"
    },
    "tags": []
   },
   "source": [
    "## B.  Visualization of Num features"
   ]
  },
  {
   "cell_type": "markdown",
   "id": "6a502875",
   "metadata": {
    "papermill": {
     "duration": 0.034177,
     "end_time": "2022-07-08T12:48:01.039912",
     "exception": false,
     "start_time": "2022-07-08T12:48:01.005735",
     "status": "completed"
    },
    "tags": []
   },
   "source": [
    "### 1. Scater Plot"
   ]
  },
  {
   "cell_type": "code",
   "execution_count": 11,
   "id": "b053b390",
   "metadata": {
    "execution": {
     "iopub.execute_input": "2022-07-08T12:48:01.112038Z",
     "iopub.status.busy": "2022-07-08T12:48:01.111678Z",
     "iopub.status.idle": "2022-07-08T12:48:02.300902Z",
     "shell.execute_reply": "2022-07-08T12:48:02.299743Z"
    },
    "papermill": {
     "duration": 1.228911,
     "end_time": "2022-07-08T12:48:02.304024",
     "exception": false,
     "start_time": "2022-07-08T12:48:01.075113",
     "status": "completed"
    },
    "tags": []
   },
   "outputs": [
    {
     "name": "stdout",
     "output_type": "stream",
     "text": [
      "0 age\n",
      "1 balance\n",
      "2 day\n",
      "3 duration\n",
      "4 campaign\n",
      "5 pdays\n",
      "6 previous\n",
      "7 deposit\n"
     ]
    },
    {
     "data": {
      "image/png": "[encoded data removed]",
      "text/plain": [
       "<Figure size 1080x1296 with 8 Axes>"
      ]
     },
     "metadata": {
      "needs_background": "light"
     },
     "output_type": "display_data"
    }
   ],
   "source": [
    "df_num = df[['age', 'balance', 'day', 'duration', 'campaign', 'pdays', 'previous','deposit']]\n",
    "col = ['age', 'balance', 'day', 'duration', 'campaign', 'pdays', 'previous','deposit']\n",
    "plt.figure(figsize=(15,18))\n",
    "for i,v in enumerate(col):\n",
    "    print(i,v)\n",
    "    plt.subplot(4,2,i+1)\n",
    "    sns.scatterplot(x=v,y='deposit' ,data=df_num,color='blue')\n",
    "    plt.title(\"scatterplot of {}  by deposit\".format(v),size=20,color=\"red\")\n",
    "    plt.xlabel(\"{}\".format(v),size=15)\n",
    "    plt.ylabel(\"Deposit\",size=15)\n",
    "plt.tight_layout()\n",
    "plt.show()"
   ]
  },
  {
   "cell_type": "markdown",
   "id": "1416241e",
   "metadata": {
    "papermill": {
     "duration": 0.035722,
     "end_time": "2022-07-08T12:48:02.376398",
     "exception": false,
     "start_time": "2022-07-08T12:48:02.340676",
     "status": "completed"
    },
    "tags": []
   },
   "source": [
    "### 2. Box Plot"
   ]
  },
  {
   "cell_type": "markdown",
   "id": "b02ba848",
   "metadata": {
    "papermill": {
     "duration": 0.037054,
     "end_time": "2022-07-08T12:48:02.450984",
     "exception": false,
     "start_time": "2022-07-08T12:48:02.413930",
     "status": "completed"
    },
    "tags": []
   },
   "source": [
    "* If our dataset is small, we can detect the outlier by just looking at the dataset. But what if we have a huge dataset, \n",
    "* how do we identify the outliers then? We need to use visualization and mathematical techniques.\n",
    "\n",
    "* Below are some of the techniques of detecting outliers\n",
    "\n",
    "* Boxplots\n",
    "* Z-score"
   ]
  },
  {
   "cell_type": "code",
   "execution_count": 12,
   "id": "8faf24a2",
   "metadata": {
    "execution": {
     "iopub.execute_input": "2022-07-08T12:48:02.525319Z",
     "iopub.status.busy": "2022-07-08T12:48:02.524339Z",
     "iopub.status.idle": "2022-07-08T12:48:03.438315Z",
     "shell.execute_reply": "2022-07-08T12:48:03.436909Z"
    },
    "papermill": {
     "duration": 0.953877,
     "end_time": "2022-07-08T12:48:03.440867",
     "exception": false,
     "start_time": "2022-07-08T12:48:02.486990",
     "status": "completed"
    },
    "tags": []
   },
   "outputs": [
    {
     "name": "stdout",
     "output_type": "stream",
     "text": [
      "0 age\n",
      "1 balance\n",
      "2 day\n",
      "3 duration\n",
      "4 campaign\n",
      "5 pdays\n",
      "6 previous\n"
     ]
    },
    {
     "data": {
      "image/png": "[encoded data removed]",
      "text/plain": [
       "<Figure size 1080x1296 with 7 Axes>"
      ]
     },
     "metadata": {
      "needs_background": "light"
     },
     "output_type": "display_data"
    }
   ],
   "source": [
    "df_num = df[['age', 'balance', 'day', 'duration', 'campaign', 'pdays', 'previous']]\n",
    "col = ['age', 'balance', 'day', 'duration', 'campaign', 'pdays', 'previous']\n",
    "plt.figure(figsize=(15,18))\n",
    "for i,v in enumerate(col):\n",
    "    print(i,v)\n",
    "    plt.subplot(4,2,i+1)\n",
    "    sns.boxplot(x=v,data=df_num,color='green')\n",
    "    plt.title(\"Boxplot of {}\".format(v),size=20,color=\"red\")\n",
    "    plt.xlabel(\"{}\".format(v),size=15)\n",
    "plt.tight_layout()\n",
    "plt.show()"
   ]
  },
  {
   "cell_type": "markdown",
   "id": "65dcbcbf",
   "metadata": {
    "papermill": {
     "duration": 0.036765,
     "end_time": "2022-07-08T12:48:03.514714",
     "exception": false,
     "start_time": "2022-07-08T12:48:03.477949",
     "status": "completed"
    },
    "tags": []
   },
   "source": [
    "## Conclusion"
   ]
  },
  {
   "cell_type": "markdown",
   "id": "fd92cee1",
   "metadata": {
    "papermill": {
     "duration": 0.036741,
     "end_time": "2022-07-08T12:48:03.652618",
     "exception": false,
     "start_time": "2022-07-08T12:48:03.615877",
     "status": "completed"
    },
    "tags": []
   },
   "source": [
    "* **Duration is matter most** clearly seen from above plot higher the duration more the chances that person will subscrised for deposit\n",
    "* lower **Campaign** higher the chances that person will subscrised for deposit\n",
    "* **pdays** should be more\n",
    "* People those susbcribed for deposit has higher **balance** "
   ]
  },
  {
   "cell_type": "markdown",
   "id": "bc74dc85",
   "metadata": {
    "papermill": {
     "duration": 0.038574,
     "end_time": "2022-07-08T12:48:03.729030",
     "exception": false,
     "start_time": "2022-07-08T12:48:03.690456",
     "status": "completed"
    },
    "tags": []
   },
   "source": [
    "## Handling Outliers"
   ]
  },
  {
   "cell_type": "markdown",
   "id": "2e9e8278",
   "metadata": {
    "papermill": {
     "duration": 0.03713,
     "end_time": "2022-07-08T12:48:03.804387",
     "exception": false,
     "start_time": "2022-07-08T12:48:03.767257",
     "status": "completed"
    },
    "tags": []
   },
   "source": [
    "### 1. Balance"
   ]
  },
  {
   "cell_type": "code",
   "execution_count": 13,
   "id": "de130981",
   "metadata": {
    "execution": {
     "iopub.execute_input": "2022-07-08T12:48:03.881222Z",
     "iopub.status.busy": "2022-07-08T12:48:03.880603Z",
     "iopub.status.idle": "2022-07-08T12:48:03.888640Z",
     "shell.execute_reply": "2022-07-08T12:48:03.887530Z"
    },
    "papermill": {
     "duration": 0.048498,
     "end_time": "2022-07-08T12:48:03.890768",
     "exception": false,
     "start_time": "2022-07-08T12:48:03.842270",
     "status": "completed"
    },
    "tags": []
   },
   "outputs": [
    {
     "data": {
      "text/plain": [
       "0.061637699337036375"
      ]
     },
     "execution_count": 13,
     "metadata": {},
     "output_type": "execute_result"
    }
   ],
   "source": [
    "len(df[df['balance']<0])/len(df)"
   ]
  },
  {
   "cell_type": "code",
   "execution_count": 14,
   "id": "dee6f550",
   "metadata": {
    "execution": {
     "iopub.execute_input": "2022-07-08T12:48:03.968123Z",
     "iopub.status.busy": "2022-07-08T12:48:03.967358Z",
     "iopub.status.idle": "2022-07-08T12:48:03.992879Z",
     "shell.execute_reply": "2022-07-08T12:48:03.991584Z"
    },
    "papermill": {
     "duration": 0.067146,
     "end_time": "2022-07-08T12:48:03.995465",
     "exception": false,
     "start_time": "2022-07-08T12:48:03.928319",
     "status": "completed"
    },
    "tags": []
   },
   "outputs": [
    {
     "data": {
      "text/html": [
       "<div>\n",
       "<style scoped>\n",
       "    .dataframe tbody tr th:only-of-type {\n",
       "        vertical-align: middle;\n",
       "    }\n",
       "\n",
       "    .dataframe tbody tr th {\n",
       "        vertical-align: top;\n",
       "    }\n",
       "\n",
       "    .dataframe thead th {\n",
       "        text-align: right;\n",
       "    }\n",
       "</style>\n",
       "<table border=\"1\" class=\"dataframe\">\n",
       "  <thead>\n",
       "    <tr style=\"text-align: right;\">\n",
       "      <th></th>\n",
       "      <th>age</th>\n",
       "      <th>job</th>\n",
       "      <th>marital</th>\n",
       "      <th>education</th>\n",
       "      <th>default</th>\n",
       "      <th>balance</th>\n",
       "      <th>housing</th>\n",
       "      <th>loan</th>\n",
       "      <th>contact</th>\n",
       "      <th>day</th>\n",
       "      <th>month</th>\n",
       "      <th>duration</th>\n",
       "      <th>campaign</th>\n",
       "      <th>pdays</th>\n",
       "      <th>previous</th>\n",
       "      <th>poutcome</th>\n",
       "      <th>deposit</th>\n",
       "    </tr>\n",
       "  </thead>\n",
       "  <tbody>\n",
       "    <tr>\n",
       "      <th>17</th>\n",
       "      <td>49</td>\n",
       "      <td>services</td>\n",
       "      <td>married</td>\n",
       "      <td>secondary</td>\n",
       "      <td>no</td>\n",
       "      <td>-8</td>\n",
       "      <td>yes</td>\n",
       "      <td>no</td>\n",
       "      <td>unknown</td>\n",
       "      <td>8</td>\n",
       "      <td>may</td>\n",
       "      <td>1119</td>\n",
       "      <td>1</td>\n",
       "      <td>-1</td>\n",
       "      <td>0</td>\n",
       "      <td>unknown</td>\n",
       "      <td>yes</td>\n",
       "    </tr>\n",
       "    <tr>\n",
       "      <th>23</th>\n",
       "      <td>43</td>\n",
       "      <td>blue-collar</td>\n",
       "      <td>married</td>\n",
       "      <td>primary</td>\n",
       "      <td>no</td>\n",
       "      <td>-192</td>\n",
       "      <td>yes</td>\n",
       "      <td>no</td>\n",
       "      <td>unknown</td>\n",
       "      <td>8</td>\n",
       "      <td>may</td>\n",
       "      <td>1120</td>\n",
       "      <td>2</td>\n",
       "      <td>-1</td>\n",
       "      <td>0</td>\n",
       "      <td>unknown</td>\n",
       "      <td>yes</td>\n",
       "    </tr>\n",
       "    <tr>\n",
       "      <th>30</th>\n",
       "      <td>32</td>\n",
       "      <td>blue-collar</td>\n",
       "      <td>married</td>\n",
       "      <td>secondary</td>\n",
       "      <td>yes</td>\n",
       "      <td>-1</td>\n",
       "      <td>yes</td>\n",
       "      <td>no</td>\n",
       "      <td>unknown</td>\n",
       "      <td>9</td>\n",
       "      <td>may</td>\n",
       "      <td>653</td>\n",
       "      <td>1</td>\n",
       "      <td>-1</td>\n",
       "      <td>0</td>\n",
       "      <td>unknown</td>\n",
       "      <td>yes</td>\n",
       "    </tr>\n",
       "    <tr>\n",
       "      <th>42</th>\n",
       "      <td>45</td>\n",
       "      <td>entrepreneur</td>\n",
       "      <td>divorced</td>\n",
       "      <td>tertiary</td>\n",
       "      <td>no</td>\n",
       "      <td>-395</td>\n",
       "      <td>yes</td>\n",
       "      <td>no</td>\n",
       "      <td>unknown</td>\n",
       "      <td>13</td>\n",
       "      <td>may</td>\n",
       "      <td>470</td>\n",
       "      <td>1</td>\n",
       "      <td>-1</td>\n",
       "      <td>0</td>\n",
       "      <td>unknown</td>\n",
       "      <td>yes</td>\n",
       "    </tr>\n",
       "    <tr>\n",
       "      <th>59</th>\n",
       "      <td>57</td>\n",
       "      <td>technician</td>\n",
       "      <td>married</td>\n",
       "      <td>tertiary</td>\n",
       "      <td>no</td>\n",
       "      <td>-1</td>\n",
       "      <td>no</td>\n",
       "      <td>no</td>\n",
       "      <td>unknown</td>\n",
       "      <td>14</td>\n",
       "      <td>may</td>\n",
       "      <td>850</td>\n",
       "      <td>2</td>\n",
       "      <td>-1</td>\n",
       "      <td>0</td>\n",
       "      <td>unknown</td>\n",
       "      <td>yes</td>\n",
       "    </tr>\n",
       "    <tr>\n",
       "      <th>...</th>\n",
       "      <td>...</td>\n",
       "      <td>...</td>\n",
       "      <td>...</td>\n",
       "      <td>...</td>\n",
       "      <td>...</td>\n",
       "      <td>...</td>\n",
       "      <td>...</td>\n",
       "      <td>...</td>\n",
       "      <td>...</td>\n",
       "      <td>...</td>\n",
       "      <td>...</td>\n",
       "      <td>...</td>\n",
       "      <td>...</td>\n",
       "      <td>...</td>\n",
       "      <td>...</td>\n",
       "      <td>...</td>\n",
       "      <td>...</td>\n",
       "    </tr>\n",
       "    <tr>\n",
       "      <th>11119</th>\n",
       "      <td>39</td>\n",
       "      <td>management</td>\n",
       "      <td>married</td>\n",
       "      <td>tertiary</td>\n",
       "      <td>no</td>\n",
       "      <td>-974</td>\n",
       "      <td>no</td>\n",
       "      <td>yes</td>\n",
       "      <td>cellular</td>\n",
       "      <td>13</td>\n",
       "      <td>aug</td>\n",
       "      <td>130</td>\n",
       "      <td>4</td>\n",
       "      <td>-1</td>\n",
       "      <td>0</td>\n",
       "      <td>unknown</td>\n",
       "      <td>no</td>\n",
       "    </tr>\n",
       "    <tr>\n",
       "      <th>11120</th>\n",
       "      <td>50</td>\n",
       "      <td>management</td>\n",
       "      <td>married</td>\n",
       "      <td>tertiary</td>\n",
       "      <td>no</td>\n",
       "      <td>-516</td>\n",
       "      <td>yes</td>\n",
       "      <td>no</td>\n",
       "      <td>unknown</td>\n",
       "      <td>15</td>\n",
       "      <td>may</td>\n",
       "      <td>226</td>\n",
       "      <td>2</td>\n",
       "      <td>-1</td>\n",
       "      <td>0</td>\n",
       "      <td>unknown</td>\n",
       "      <td>no</td>\n",
       "    </tr>\n",
       "    <tr>\n",
       "      <th>11132</th>\n",
       "      <td>32</td>\n",
       "      <td>blue-collar</td>\n",
       "      <td>married</td>\n",
       "      <td>secondary</td>\n",
       "      <td>no</td>\n",
       "      <td>-325</td>\n",
       "      <td>yes</td>\n",
       "      <td>yes</td>\n",
       "      <td>unknown</td>\n",
       "      <td>21</td>\n",
       "      <td>may</td>\n",
       "      <td>171</td>\n",
       "      <td>1</td>\n",
       "      <td>-1</td>\n",
       "      <td>0</td>\n",
       "      <td>unknown</td>\n",
       "      <td>no</td>\n",
       "    </tr>\n",
       "    <tr>\n",
       "      <th>11145</th>\n",
       "      <td>60</td>\n",
       "      <td>retired</td>\n",
       "      <td>divorced</td>\n",
       "      <td>tertiary</td>\n",
       "      <td>no</td>\n",
       "      <td>-134</td>\n",
       "      <td>no</td>\n",
       "      <td>no</td>\n",
       "      <td>cellular</td>\n",
       "      <td>12</td>\n",
       "      <td>may</td>\n",
       "      <td>243</td>\n",
       "      <td>1</td>\n",
       "      <td>271</td>\n",
       "      <td>4</td>\n",
       "      <td>failure</td>\n",
       "      <td>no</td>\n",
       "    </tr>\n",
       "    <tr>\n",
       "      <th>11156</th>\n",
       "      <td>34</td>\n",
       "      <td>blue-collar</td>\n",
       "      <td>single</td>\n",
       "      <td>secondary</td>\n",
       "      <td>no</td>\n",
       "      <td>-72</td>\n",
       "      <td>yes</td>\n",
       "      <td>no</td>\n",
       "      <td>cellular</td>\n",
       "      <td>7</td>\n",
       "      <td>jul</td>\n",
       "      <td>273</td>\n",
       "      <td>5</td>\n",
       "      <td>-1</td>\n",
       "      <td>0</td>\n",
       "      <td>unknown</td>\n",
       "      <td>no</td>\n",
       "    </tr>\n",
       "  </tbody>\n",
       "</table>\n",
       "<p>696 rows × 17 columns</p>\n",
       "</div>"
      ],
      "text/plain": [
       "       age           job   marital  education default  balance housing loan  \\\n",
       "17      49      services   married  secondary      no       -8     yes   no   \n",
       "23      43   blue-collar   married    primary      no     -192     yes   no   \n",
       "30      32   blue-collar   married  secondary     yes       -1     yes   no   \n",
       "42      45  entrepreneur  divorced   tertiary      no     -395     yes   no   \n",
       "59      57    technician   married   tertiary      no       -1      no   no   \n",
       "...    ...           ...       ...        ...     ...      ...     ...  ...   \n",
       "11119   39    management   married   tertiary      no     -974      no  yes   \n",
       "11120   50    management   married   tertiary      no     -516     yes   no   \n",
       "11132   32   blue-collar   married  secondary      no     -325     yes  yes   \n",
       "11145   60       retired  divorced   tertiary      no     -134      no   no   \n",
       "11156   34   blue-collar    single  secondary      no      -72     yes   no   \n",
       "\n",
       "        contact  day month  duration  campaign  pdays  previous poutcome  \\\n",
       "17      unknown    8   may      1119         1     -1         0  unknown   \n",
       "23      unknown    8   may      1120         2     -1         0  unknown   \n",
       "30      unknown    9   may       653         1     -1         0  unknown   \n",
       "42      unknown   13   may       470         1     -1         0  unknown   \n",
       "59      unknown   14   may       850         2     -1         0  unknown   \n",
       "...         ...  ...   ...       ...       ...    ...       ...      ...   \n",
       "11119  cellular   13   aug       130         4     -1         0  unknown   \n",
       "11120   unknown   15   may       226         2     -1         0  unknown   \n",
       "11132   unknown   21   may       171         1     -1         0  unknown   \n",
       "11145  cellular   12   may       243         1    271         4  failure   \n",
       "11156  cellular    7   jul       273         5     -1         0  unknown   \n",
       "\n",
       "      deposit  \n",
       "17        yes  \n",
       "23        yes  \n",
       "30        yes  \n",
       "42        yes  \n",
       "59        yes  \n",
       "...       ...  \n",
       "11119      no  \n",
       "11120      no  \n",
       "11132      no  \n",
       "11145      no  \n",
       "11156      no  \n",
       "\n",
       "[696 rows x 17 columns]"
      ]
     },
     "execution_count": 14,
     "metadata": {},
     "output_type": "execute_result"
    }
   ],
   "source": [
    "df[(df['balance']>40000)|(df['balance']<0)]"
   ]
  },
  {
   "cell_type": "markdown",
   "id": "e1b34675",
   "metadata": {
    "papermill": {
     "duration": 0.038776,
     "end_time": "2022-07-08T12:48:04.072417",
     "exception": false,
     "start_time": "2022-07-08T12:48:04.033641",
     "status": "completed"
    },
    "tags": []
   },
   "source": [
    "### Drops Negavive values of balance"
   ]
  },
  {
   "cell_type": "markdown",
   "id": "c54b0063",
   "metadata": {
    "papermill": {
     "duration": 0.037425,
     "end_time": "2022-07-08T12:48:04.147549",
     "exception": false,
     "start_time": "2022-07-08T12:48:04.110124",
     "status": "completed"
    },
    "tags": []
   },
   "source": [
    "* As we know Bank balace should not be negative\n",
    "* There are some records with negative balance and very high balace which acts as major outliers\n",
    "* So we will drop this"
   ]
  },
  {
   "cell_type": "code",
   "execution_count": 15,
   "id": "7661031b",
   "metadata": {
    "execution": {
     "iopub.execute_input": "2022-07-08T12:48:04.227183Z",
     "iopub.status.busy": "2022-07-08T12:48:04.226402Z",
     "iopub.status.idle": "2022-07-08T12:48:04.235601Z",
     "shell.execute_reply": "2022-07-08T12:48:04.234645Z"
    },
    "papermill": {
     "duration": 0.051842,
     "end_time": "2022-07-08T12:48:04.238009",
     "exception": false,
     "start_time": "2022-07-08T12:48:04.186167",
     "status": "completed"
    },
    "tags": []
   },
   "outputs": [],
   "source": [
    "df.drop(df[(df['balance']>40000)|(df['balance']<0)].index,inplace=True,axis=0)"
   ]
  },
  {
   "cell_type": "markdown",
   "id": "682f8a3b",
   "metadata": {
    "papermill": {
     "duration": 0.038017,
     "end_time": "2022-07-08T12:48:04.314015",
     "exception": false,
     "start_time": "2022-07-08T12:48:04.275998",
     "status": "completed"
    },
    "tags": []
   },
   "source": [
    "### 2. Duration"
   ]
  },
  {
   "cell_type": "code",
   "execution_count": 16,
   "id": "b7bcf633",
   "metadata": {
    "execution": {
     "iopub.execute_input": "2022-07-08T12:48:04.390990Z",
     "iopub.status.busy": "2022-07-08T12:48:04.390196Z",
     "iopub.status.idle": "2022-07-08T12:48:04.407932Z",
     "shell.execute_reply": "2022-07-08T12:48:04.406805Z"
    },
    "papermill": {
     "duration": 0.058764,
     "end_time": "2022-07-08T12:48:04.410149",
     "exception": false,
     "start_time": "2022-07-08T12:48:04.351385",
     "status": "completed"
    },
    "tags": []
   },
   "outputs": [
    {
     "data": {
      "text/html": [
       "<div>\n",
       "<style scoped>\n",
       "    .dataframe tbody tr th:only-of-type {\n",
       "        vertical-align: middle;\n",
       "    }\n",
       "\n",
       "    .dataframe tbody tr th {\n",
       "        vertical-align: top;\n",
       "    }\n",
       "\n",
       "    .dataframe thead th {\n",
       "        text-align: right;\n",
       "    }\n",
       "</style>\n",
       "<table border=\"1\" class=\"dataframe\">\n",
       "  <thead>\n",
       "    <tr style=\"text-align: right;\">\n",
       "      <th></th>\n",
       "      <th>age</th>\n",
       "      <th>job</th>\n",
       "      <th>marital</th>\n",
       "      <th>education</th>\n",
       "      <th>default</th>\n",
       "      <th>balance</th>\n",
       "      <th>housing</th>\n",
       "      <th>loan</th>\n",
       "      <th>contact</th>\n",
       "      <th>day</th>\n",
       "      <th>month</th>\n",
       "      <th>duration</th>\n",
       "      <th>campaign</th>\n",
       "      <th>pdays</th>\n",
       "      <th>previous</th>\n",
       "      <th>poutcome</th>\n",
       "      <th>deposit</th>\n",
       "    </tr>\n",
       "  </thead>\n",
       "  <tbody>\n",
       "    <tr>\n",
       "      <th>153</th>\n",
       "      <td>44</td>\n",
       "      <td>services</td>\n",
       "      <td>divorced</td>\n",
       "      <td>secondary</td>\n",
       "      <td>no</td>\n",
       "      <td>51</td>\n",
       "      <td>yes</td>\n",
       "      <td>yes</td>\n",
       "      <td>unknown</td>\n",
       "      <td>27</td>\n",
       "      <td>may</td>\n",
       "      <td>3094</td>\n",
       "      <td>2</td>\n",
       "      <td>-1</td>\n",
       "      <td>0</td>\n",
       "      <td>unknown</td>\n",
       "      <td>yes</td>\n",
       "    </tr>\n",
       "    <tr>\n",
       "      <th>271</th>\n",
       "      <td>59</td>\n",
       "      <td>management</td>\n",
       "      <td>married</td>\n",
       "      <td>secondary</td>\n",
       "      <td>no</td>\n",
       "      <td>1321</td>\n",
       "      <td>no</td>\n",
       "      <td>no</td>\n",
       "      <td>unknown</td>\n",
       "      <td>9</td>\n",
       "      <td>jun</td>\n",
       "      <td>3881</td>\n",
       "      <td>3</td>\n",
       "      <td>-1</td>\n",
       "      <td>0</td>\n",
       "      <td>unknown</td>\n",
       "      <td>yes</td>\n",
       "    </tr>\n",
       "    <tr>\n",
       "      <th>1351</th>\n",
       "      <td>47</td>\n",
       "      <td>blue-collar</td>\n",
       "      <td>married</td>\n",
       "      <td>secondary</td>\n",
       "      <td>no</td>\n",
       "      <td>238</td>\n",
       "      <td>yes</td>\n",
       "      <td>yes</td>\n",
       "      <td>cellular</td>\n",
       "      <td>13</td>\n",
       "      <td>mar</td>\n",
       "      <td>3076</td>\n",
       "      <td>1</td>\n",
       "      <td>-1</td>\n",
       "      <td>0</td>\n",
       "      <td>unknown</td>\n",
       "      <td>yes</td>\n",
       "    </tr>\n",
       "    <tr>\n",
       "      <th>4364</th>\n",
       "      <td>53</td>\n",
       "      <td>admin.</td>\n",
       "      <td>married</td>\n",
       "      <td>secondary</td>\n",
       "      <td>no</td>\n",
       "      <td>849</td>\n",
       "      <td>yes</td>\n",
       "      <td>no</td>\n",
       "      <td>cellular</td>\n",
       "      <td>6</td>\n",
       "      <td>feb</td>\n",
       "      <td>3102</td>\n",
       "      <td>3</td>\n",
       "      <td>-1</td>\n",
       "      <td>0</td>\n",
       "      <td>unknown</td>\n",
       "      <td>yes</td>\n",
       "    </tr>\n",
       "    <tr>\n",
       "      <th>7198</th>\n",
       "      <td>30</td>\n",
       "      <td>admin.</td>\n",
       "      <td>married</td>\n",
       "      <td>secondary</td>\n",
       "      <td>no</td>\n",
       "      <td>1310</td>\n",
       "      <td>no</td>\n",
       "      <td>no</td>\n",
       "      <td>telephone</td>\n",
       "      <td>27</td>\n",
       "      <td>oct</td>\n",
       "      <td>3284</td>\n",
       "      <td>1</td>\n",
       "      <td>-1</td>\n",
       "      <td>0</td>\n",
       "      <td>unknown</td>\n",
       "      <td>no</td>\n",
       "    </tr>\n",
       "  </tbody>\n",
       "</table>\n",
       "</div>"
      ],
      "text/plain": [
       "      age          job   marital  education default  balance housing loan  \\\n",
       "153    44     services  divorced  secondary      no       51     yes  yes   \n",
       "271    59   management   married  secondary      no     1321      no   no   \n",
       "1351   47  blue-collar   married  secondary      no      238     yes  yes   \n",
       "4364   53       admin.   married  secondary      no      849     yes   no   \n",
       "7198   30       admin.   married  secondary      no     1310      no   no   \n",
       "\n",
       "        contact  day month  duration  campaign  pdays  previous poutcome  \\\n",
       "153     unknown   27   may      3094         2     -1         0  unknown   \n",
       "271     unknown    9   jun      3881         3     -1         0  unknown   \n",
       "1351   cellular   13   mar      3076         1     -1         0  unknown   \n",
       "4364   cellular    6   feb      3102         3     -1         0  unknown   \n",
       "7198  telephone   27   oct      3284         1     -1         0  unknown   \n",
       "\n",
       "     deposit  \n",
       "153      yes  \n",
       "271      yes  \n",
       "1351     yes  \n",
       "4364     yes  \n",
       "7198      no  "
      ]
     },
     "execution_count": 16,
     "metadata": {},
     "output_type": "execute_result"
    }
   ],
   "source": [
    "df[df['duration']>3000]"
   ]
  },
  {
   "cell_type": "markdown",
   "id": "1a228732",
   "metadata": {
    "papermill": {
     "duration": 0.038565,
     "end_time": "2022-07-08T12:48:04.486851",
     "exception": false,
     "start_time": "2022-07-08T12:48:04.448286",
     "status": "completed"
    },
    "tags": []
   },
   "source": [
    "#### Drop records with duration above 3000 which acts as major outliers"
   ]
  },
  {
   "cell_type": "code",
   "execution_count": 17,
   "id": "543ebc9e",
   "metadata": {
    "execution": {
     "iopub.execute_input": "2022-07-08T12:48:04.567093Z",
     "iopub.status.busy": "2022-07-08T12:48:04.566342Z",
     "iopub.status.idle": "2022-07-08T12:48:04.574135Z",
     "shell.execute_reply": "2022-07-08T12:48:04.573334Z"
    },
    "papermill": {
     "duration": 0.050544,
     "end_time": "2022-07-08T12:48:04.576452",
     "exception": false,
     "start_time": "2022-07-08T12:48:04.525908",
     "status": "completed"
    },
    "tags": []
   },
   "outputs": [],
   "source": [
    "df.drop(df[df['duration']>3000].index,inplace=True,axis=0)"
   ]
  },
  {
   "cell_type": "markdown",
   "id": "e69a44b3",
   "metadata": {
    "papermill": {
     "duration": 0.037964,
     "end_time": "2022-07-08T12:48:04.652823",
     "exception": false,
     "start_time": "2022-07-08T12:48:04.614859",
     "status": "completed"
    },
    "tags": []
   },
   "source": [
    "### 3. campaign"
   ]
  },
  {
   "cell_type": "code",
   "execution_count": 18,
   "id": "7dbf2144",
   "metadata": {
    "execution": {
     "iopub.execute_input": "2022-07-08T12:48:04.731497Z",
     "iopub.status.busy": "2022-07-08T12:48:04.731104Z",
     "iopub.status.idle": "2022-07-08T12:48:04.748316Z",
     "shell.execute_reply": "2022-07-08T12:48:04.747124Z"
    },
    "papermill": {
     "duration": 0.059395,
     "end_time": "2022-07-08T12:48:04.750512",
     "exception": false,
     "start_time": "2022-07-08T12:48:04.691117",
     "status": "completed"
    },
    "tags": []
   },
   "outputs": [
    {
     "data": {
      "text/html": [
       "<div>\n",
       "<style scoped>\n",
       "    .dataframe tbody tr th:only-of-type {\n",
       "        vertical-align: middle;\n",
       "    }\n",
       "\n",
       "    .dataframe tbody tr th {\n",
       "        vertical-align: top;\n",
       "    }\n",
       "\n",
       "    .dataframe thead th {\n",
       "        text-align: right;\n",
       "    }\n",
       "</style>\n",
       "<table border=\"1\" class=\"dataframe\">\n",
       "  <thead>\n",
       "    <tr style=\"text-align: right;\">\n",
       "      <th></th>\n",
       "      <th>age</th>\n",
       "      <th>job</th>\n",
       "      <th>marital</th>\n",
       "      <th>education</th>\n",
       "      <th>default</th>\n",
       "      <th>balance</th>\n",
       "      <th>housing</th>\n",
       "      <th>loan</th>\n",
       "      <th>contact</th>\n",
       "      <th>day</th>\n",
       "      <th>month</th>\n",
       "      <th>duration</th>\n",
       "      <th>campaign</th>\n",
       "      <th>pdays</th>\n",
       "      <th>previous</th>\n",
       "      <th>poutcome</th>\n",
       "      <th>deposit</th>\n",
       "    </tr>\n",
       "  </thead>\n",
       "  <tbody>\n",
       "    <tr>\n",
       "      <th>6927</th>\n",
       "      <td>51</td>\n",
       "      <td>blue-collar</td>\n",
       "      <td>married</td>\n",
       "      <td>unknown</td>\n",
       "      <td>no</td>\n",
       "      <td>41</td>\n",
       "      <td>yes</td>\n",
       "      <td>no</td>\n",
       "      <td>telephone</td>\n",
       "      <td>9</td>\n",
       "      <td>jul</td>\n",
       "      <td>16</td>\n",
       "      <td>43</td>\n",
       "      <td>-1</td>\n",
       "      <td>0</td>\n",
       "      <td>unknown</td>\n",
       "      <td>no</td>\n",
       "    </tr>\n",
       "    <tr>\n",
       "      <th>7139</th>\n",
       "      <td>42</td>\n",
       "      <td>blue-collar</td>\n",
       "      <td>married</td>\n",
       "      <td>primary</td>\n",
       "      <td>no</td>\n",
       "      <td>170</td>\n",
       "      <td>yes</td>\n",
       "      <td>no</td>\n",
       "      <td>unknown</td>\n",
       "      <td>19</td>\n",
       "      <td>may</td>\n",
       "      <td>51</td>\n",
       "      <td>41</td>\n",
       "      <td>-1</td>\n",
       "      <td>0</td>\n",
       "      <td>unknown</td>\n",
       "      <td>no</td>\n",
       "    </tr>\n",
       "    <tr>\n",
       "      <th>7240</th>\n",
       "      <td>33</td>\n",
       "      <td>blue-collar</td>\n",
       "      <td>married</td>\n",
       "      <td>secondary</td>\n",
       "      <td>no</td>\n",
       "      <td>0</td>\n",
       "      <td>yes</td>\n",
       "      <td>yes</td>\n",
       "      <td>cellular</td>\n",
       "      <td>31</td>\n",
       "      <td>jul</td>\n",
       "      <td>16</td>\n",
       "      <td>43</td>\n",
       "      <td>-1</td>\n",
       "      <td>0</td>\n",
       "      <td>unknown</td>\n",
       "      <td>no</td>\n",
       "    </tr>\n",
       "    <tr>\n",
       "      <th>7635</th>\n",
       "      <td>45</td>\n",
       "      <td>management</td>\n",
       "      <td>married</td>\n",
       "      <td>unknown</td>\n",
       "      <td>no</td>\n",
       "      <td>9051</td>\n",
       "      <td>yes</td>\n",
       "      <td>no</td>\n",
       "      <td>unknown</td>\n",
       "      <td>19</td>\n",
       "      <td>may</td>\n",
       "      <td>124</td>\n",
       "      <td>63</td>\n",
       "      <td>-1</td>\n",
       "      <td>0</td>\n",
       "      <td>unknown</td>\n",
       "      <td>no</td>\n",
       "    </tr>\n",
       "  </tbody>\n",
       "</table>\n",
       "</div>"
      ],
      "text/plain": [
       "      age          job  marital  education default  balance housing loan  \\\n",
       "6927   51  blue-collar  married    unknown      no       41     yes   no   \n",
       "7139   42  blue-collar  married    primary      no      170     yes   no   \n",
       "7240   33  blue-collar  married  secondary      no        0     yes  yes   \n",
       "7635   45   management  married    unknown      no     9051     yes   no   \n",
       "\n",
       "        contact  day month  duration  campaign  pdays  previous poutcome  \\\n",
       "6927  telephone    9   jul        16        43     -1         0  unknown   \n",
       "7139    unknown   19   may        51        41     -1         0  unknown   \n",
       "7240   cellular   31   jul        16        43     -1         0  unknown   \n",
       "7635    unknown   19   may       124        63     -1         0  unknown   \n",
       "\n",
       "     deposit  \n",
       "6927      no  \n",
       "7139      no  \n",
       "7240      no  \n",
       "7635      no  "
      ]
     },
     "execution_count": 18,
     "metadata": {},
     "output_type": "execute_result"
    }
   ],
   "source": [
    "df[df['campaign']>40]"
   ]
  },
  {
   "cell_type": "markdown",
   "id": "9b3d4021",
   "metadata": {
    "papermill": {
     "duration": 0.037869,
     "end_time": "2022-07-08T12:48:04.826224",
     "exception": false,
     "start_time": "2022-07-08T12:48:04.788355",
     "status": "completed"
    },
    "tags": []
   },
   "source": [
    "### Drop major outliers of compaign column"
   ]
  },
  {
   "cell_type": "code",
   "execution_count": 19,
   "id": "3f8421e4",
   "metadata": {
    "execution": {
     "iopub.execute_input": "2022-07-08T12:48:04.906327Z",
     "iopub.status.busy": "2022-07-08T12:48:04.905899Z",
     "iopub.status.idle": "2022-07-08T12:48:04.914070Z",
     "shell.execute_reply": "2022-07-08T12:48:04.913312Z"
    },
    "papermill": {
     "duration": 0.050273,
     "end_time": "2022-07-08T12:48:04.916251",
     "exception": false,
     "start_time": "2022-07-08T12:48:04.865978",
     "status": "completed"
    },
    "tags": []
   },
   "outputs": [],
   "source": [
    "df.drop(df[df['campaign']>30].index,axis=0,inplace=True)"
   ]
  },
  {
   "cell_type": "markdown",
   "id": "91614287",
   "metadata": {
    "papermill": {
     "duration": 0.038059,
     "end_time": "2022-07-08T12:48:04.993616",
     "exception": false,
     "start_time": "2022-07-08T12:48:04.955557",
     "status": "completed"
    },
    "tags": []
   },
   "source": [
    "### 4. pdays"
   ]
  },
  {
   "cell_type": "code",
   "execution_count": 20,
   "id": "f2fb22ad",
   "metadata": {
    "execution": {
     "iopub.execute_input": "2022-07-08T12:48:05.072079Z",
     "iopub.status.busy": "2022-07-08T12:48:05.071308Z",
     "iopub.status.idle": "2022-07-08T12:48:05.095582Z",
     "shell.execute_reply": "2022-07-08T12:48:05.094332Z"
    },
    "papermill": {
     "duration": 0.066087,
     "end_time": "2022-07-08T12:48:05.097957",
     "exception": false,
     "start_time": "2022-07-08T12:48:05.031870",
     "status": "completed"
    },
    "tags": []
   },
   "outputs": [
    {
     "data": {
      "text/html": [
       "<div>\n",
       "<style scoped>\n",
       "    .dataframe tbody tr th:only-of-type {\n",
       "        vertical-align: middle;\n",
       "    }\n",
       "\n",
       "    .dataframe tbody tr th {\n",
       "        vertical-align: top;\n",
       "    }\n",
       "\n",
       "    .dataframe thead th {\n",
       "        text-align: right;\n",
       "    }\n",
       "</style>\n",
       "<table border=\"1\" class=\"dataframe\">\n",
       "  <thead>\n",
       "    <tr style=\"text-align: right;\">\n",
       "      <th></th>\n",
       "      <th>age</th>\n",
       "      <th>job</th>\n",
       "      <th>marital</th>\n",
       "      <th>education</th>\n",
       "      <th>default</th>\n",
       "      <th>balance</th>\n",
       "      <th>housing</th>\n",
       "      <th>loan</th>\n",
       "      <th>contact</th>\n",
       "      <th>day</th>\n",
       "      <th>month</th>\n",
       "      <th>duration</th>\n",
       "      <th>campaign</th>\n",
       "      <th>pdays</th>\n",
       "      <th>previous</th>\n",
       "      <th>poutcome</th>\n",
       "      <th>deposit</th>\n",
       "    </tr>\n",
       "  </thead>\n",
       "  <tbody>\n",
       "    <tr>\n",
       "      <th>0</th>\n",
       "      <td>59</td>\n",
       "      <td>admin.</td>\n",
       "      <td>married</td>\n",
       "      <td>secondary</td>\n",
       "      <td>no</td>\n",
       "      <td>2343</td>\n",
       "      <td>yes</td>\n",
       "      <td>no</td>\n",
       "      <td>unknown</td>\n",
       "      <td>5</td>\n",
       "      <td>may</td>\n",
       "      <td>1042</td>\n",
       "      <td>1</td>\n",
       "      <td>-1</td>\n",
       "      <td>0</td>\n",
       "      <td>unknown</td>\n",
       "      <td>yes</td>\n",
       "    </tr>\n",
       "    <tr>\n",
       "      <th>1</th>\n",
       "      <td>56</td>\n",
       "      <td>admin.</td>\n",
       "      <td>married</td>\n",
       "      <td>secondary</td>\n",
       "      <td>no</td>\n",
       "      <td>45</td>\n",
       "      <td>no</td>\n",
       "      <td>no</td>\n",
       "      <td>unknown</td>\n",
       "      <td>5</td>\n",
       "      <td>may</td>\n",
       "      <td>1467</td>\n",
       "      <td>1</td>\n",
       "      <td>-1</td>\n",
       "      <td>0</td>\n",
       "      <td>unknown</td>\n",
       "      <td>yes</td>\n",
       "    </tr>\n",
       "    <tr>\n",
       "      <th>2</th>\n",
       "      <td>41</td>\n",
       "      <td>technician</td>\n",
       "      <td>married</td>\n",
       "      <td>secondary</td>\n",
       "      <td>no</td>\n",
       "      <td>1270</td>\n",
       "      <td>yes</td>\n",
       "      <td>no</td>\n",
       "      <td>unknown</td>\n",
       "      <td>5</td>\n",
       "      <td>may</td>\n",
       "      <td>1389</td>\n",
       "      <td>1</td>\n",
       "      <td>-1</td>\n",
       "      <td>0</td>\n",
       "      <td>unknown</td>\n",
       "      <td>yes</td>\n",
       "    </tr>\n",
       "    <tr>\n",
       "      <th>3</th>\n",
       "      <td>55</td>\n",
       "      <td>services</td>\n",
       "      <td>married</td>\n",
       "      <td>secondary</td>\n",
       "      <td>no</td>\n",
       "      <td>2476</td>\n",
       "      <td>yes</td>\n",
       "      <td>no</td>\n",
       "      <td>unknown</td>\n",
       "      <td>5</td>\n",
       "      <td>may</td>\n",
       "      <td>579</td>\n",
       "      <td>1</td>\n",
       "      <td>-1</td>\n",
       "      <td>0</td>\n",
       "      <td>unknown</td>\n",
       "      <td>yes</td>\n",
       "    </tr>\n",
       "    <tr>\n",
       "      <th>4</th>\n",
       "      <td>54</td>\n",
       "      <td>admin.</td>\n",
       "      <td>married</td>\n",
       "      <td>tertiary</td>\n",
       "      <td>no</td>\n",
       "      <td>184</td>\n",
       "      <td>no</td>\n",
       "      <td>no</td>\n",
       "      <td>unknown</td>\n",
       "      <td>5</td>\n",
       "      <td>may</td>\n",
       "      <td>673</td>\n",
       "      <td>2</td>\n",
       "      <td>-1</td>\n",
       "      <td>0</td>\n",
       "      <td>unknown</td>\n",
       "      <td>yes</td>\n",
       "    </tr>\n",
       "    <tr>\n",
       "      <th>...</th>\n",
       "      <td>...</td>\n",
       "      <td>...</td>\n",
       "      <td>...</td>\n",
       "      <td>...</td>\n",
       "      <td>...</td>\n",
       "      <td>...</td>\n",
       "      <td>...</td>\n",
       "      <td>...</td>\n",
       "      <td>...</td>\n",
       "      <td>...</td>\n",
       "      <td>...</td>\n",
       "      <td>...</td>\n",
       "      <td>...</td>\n",
       "      <td>...</td>\n",
       "      <td>...</td>\n",
       "      <td>...</td>\n",
       "      <td>...</td>\n",
       "    </tr>\n",
       "    <tr>\n",
       "      <th>11154</th>\n",
       "      <td>52</td>\n",
       "      <td>technician</td>\n",
       "      <td>married</td>\n",
       "      <td>tertiary</td>\n",
       "      <td>no</td>\n",
       "      <td>523</td>\n",
       "      <td>yes</td>\n",
       "      <td>yes</td>\n",
       "      <td>cellular</td>\n",
       "      <td>8</td>\n",
       "      <td>jul</td>\n",
       "      <td>113</td>\n",
       "      <td>1</td>\n",
       "      <td>-1</td>\n",
       "      <td>0</td>\n",
       "      <td>unknown</td>\n",
       "      <td>no</td>\n",
       "    </tr>\n",
       "    <tr>\n",
       "      <th>11157</th>\n",
       "      <td>33</td>\n",
       "      <td>blue-collar</td>\n",
       "      <td>single</td>\n",
       "      <td>primary</td>\n",
       "      <td>no</td>\n",
       "      <td>1</td>\n",
       "      <td>yes</td>\n",
       "      <td>no</td>\n",
       "      <td>cellular</td>\n",
       "      <td>20</td>\n",
       "      <td>apr</td>\n",
       "      <td>257</td>\n",
       "      <td>1</td>\n",
       "      <td>-1</td>\n",
       "      <td>0</td>\n",
       "      <td>unknown</td>\n",
       "      <td>no</td>\n",
       "    </tr>\n",
       "    <tr>\n",
       "      <th>11158</th>\n",
       "      <td>39</td>\n",
       "      <td>services</td>\n",
       "      <td>married</td>\n",
       "      <td>secondary</td>\n",
       "      <td>no</td>\n",
       "      <td>733</td>\n",
       "      <td>no</td>\n",
       "      <td>no</td>\n",
       "      <td>unknown</td>\n",
       "      <td>16</td>\n",
       "      <td>jun</td>\n",
       "      <td>83</td>\n",
       "      <td>4</td>\n",
       "      <td>-1</td>\n",
       "      <td>0</td>\n",
       "      <td>unknown</td>\n",
       "      <td>no</td>\n",
       "    </tr>\n",
       "    <tr>\n",
       "      <th>11159</th>\n",
       "      <td>32</td>\n",
       "      <td>technician</td>\n",
       "      <td>single</td>\n",
       "      <td>secondary</td>\n",
       "      <td>no</td>\n",
       "      <td>29</td>\n",
       "      <td>no</td>\n",
       "      <td>no</td>\n",
       "      <td>cellular</td>\n",
       "      <td>19</td>\n",
       "      <td>aug</td>\n",
       "      <td>156</td>\n",
       "      <td>2</td>\n",
       "      <td>-1</td>\n",
       "      <td>0</td>\n",
       "      <td>unknown</td>\n",
       "      <td>no</td>\n",
       "    </tr>\n",
       "    <tr>\n",
       "      <th>11161</th>\n",
       "      <td>34</td>\n",
       "      <td>technician</td>\n",
       "      <td>married</td>\n",
       "      <td>secondary</td>\n",
       "      <td>no</td>\n",
       "      <td>0</td>\n",
       "      <td>no</td>\n",
       "      <td>no</td>\n",
       "      <td>cellular</td>\n",
       "      <td>9</td>\n",
       "      <td>jul</td>\n",
       "      <td>628</td>\n",
       "      <td>1</td>\n",
       "      <td>-1</td>\n",
       "      <td>0</td>\n",
       "      <td>unknown</td>\n",
       "      <td>no</td>\n",
       "    </tr>\n",
       "  </tbody>\n",
       "</table>\n",
       "<p>7705 rows × 17 columns</p>\n",
       "</div>"
      ],
      "text/plain": [
       "       age          job  marital  education default  balance housing loan  \\\n",
       "0       59       admin.  married  secondary      no     2343     yes   no   \n",
       "1       56       admin.  married  secondary      no       45      no   no   \n",
       "2       41   technician  married  secondary      no     1270     yes   no   \n",
       "3       55     services  married  secondary      no     2476     yes   no   \n",
       "4       54       admin.  married   tertiary      no      184      no   no   \n",
       "...    ...          ...      ...        ...     ...      ...     ...  ...   \n",
       "11154   52   technician  married   tertiary      no      523     yes  yes   \n",
       "11157   33  blue-collar   single    primary      no        1     yes   no   \n",
       "11158   39     services  married  secondary      no      733      no   no   \n",
       "11159   32   technician   single  secondary      no       29      no   no   \n",
       "11161   34   technician  married  secondary      no        0      no   no   \n",
       "\n",
       "        contact  day month  duration  campaign  pdays  previous poutcome  \\\n",
       "0       unknown    5   may      1042         1     -1         0  unknown   \n",
       "1       unknown    5   may      1467         1     -1         0  unknown   \n",
       "2       unknown    5   may      1389         1     -1         0  unknown   \n",
       "3       unknown    5   may       579         1     -1         0  unknown   \n",
       "4       unknown    5   may       673         2     -1         0  unknown   \n",
       "...         ...  ...   ...       ...       ...    ...       ...      ...   \n",
       "11154  cellular    8   jul       113         1     -1         0  unknown   \n",
       "11157  cellular   20   apr       257         1     -1         0  unknown   \n",
       "11158   unknown   16   jun        83         4     -1         0  unknown   \n",
       "11159  cellular   19   aug       156         2     -1         0  unknown   \n",
       "11161  cellular    9   jul       628         1     -1         0  unknown   \n",
       "\n",
       "      deposit  \n",
       "0         yes  \n",
       "1         yes  \n",
       "2         yes  \n",
       "3         yes  \n",
       "4         yes  \n",
       "...       ...  \n",
       "11154      no  \n",
       "11157      no  \n",
       "11158      no  \n",
       "11159      no  \n",
       "11161      no  \n",
       "\n",
       "[7705 rows x 17 columns]"
      ]
     },
     "execution_count": 20,
     "metadata": {},
     "output_type": "execute_result"
    }
   ],
   "source": [
    "df[df['pdays']==-1]"
   ]
  },
  {
   "cell_type": "code",
   "execution_count": 21,
   "id": "1f820551",
   "metadata": {
    "execution": {
     "iopub.execute_input": "2022-07-08T12:48:05.178254Z",
     "iopub.status.busy": "2022-07-08T12:48:05.177843Z",
     "iopub.status.idle": "2022-07-08T12:48:05.203896Z",
     "shell.execute_reply": "2022-07-08T12:48:05.202757Z"
    },
    "papermill": {
     "duration": 0.068771,
     "end_time": "2022-07-08T12:48:05.206171",
     "exception": false,
     "start_time": "2022-07-08T12:48:05.137400",
     "status": "completed"
    },
    "tags": []
   },
   "outputs": [
    {
     "data": {
      "text/html": [
       "<div>\n",
       "<style scoped>\n",
       "    .dataframe tbody tr th:only-of-type {\n",
       "        vertical-align: middle;\n",
       "    }\n",
       "\n",
       "    .dataframe tbody tr th {\n",
       "        vertical-align: top;\n",
       "    }\n",
       "\n",
       "    .dataframe thead th {\n",
       "        text-align: right;\n",
       "    }\n",
       "</style>\n",
       "<table border=\"1\" class=\"dataframe\">\n",
       "  <thead>\n",
       "    <tr style=\"text-align: right;\">\n",
       "      <th></th>\n",
       "      <th>age</th>\n",
       "      <th>job</th>\n",
       "      <th>marital</th>\n",
       "      <th>education</th>\n",
       "      <th>default</th>\n",
       "      <th>balance</th>\n",
       "      <th>housing</th>\n",
       "      <th>loan</th>\n",
       "      <th>contact</th>\n",
       "      <th>day</th>\n",
       "      <th>month</th>\n",
       "      <th>duration</th>\n",
       "      <th>campaign</th>\n",
       "      <th>pdays</th>\n",
       "      <th>previous</th>\n",
       "      <th>poutcome</th>\n",
       "      <th>deposit</th>\n",
       "    </tr>\n",
       "  </thead>\n",
       "  <tbody>\n",
       "    <tr>\n",
       "      <th>0</th>\n",
       "      <td>59</td>\n",
       "      <td>admin.</td>\n",
       "      <td>married</td>\n",
       "      <td>secondary</td>\n",
       "      <td>no</td>\n",
       "      <td>2343</td>\n",
       "      <td>yes</td>\n",
       "      <td>no</td>\n",
       "      <td>unknown</td>\n",
       "      <td>5</td>\n",
       "      <td>may</td>\n",
       "      <td>1042</td>\n",
       "      <td>1</td>\n",
       "      <td>-1</td>\n",
       "      <td>0</td>\n",
       "      <td>unknown</td>\n",
       "      <td>yes</td>\n",
       "    </tr>\n",
       "    <tr>\n",
       "      <th>1</th>\n",
       "      <td>56</td>\n",
       "      <td>admin.</td>\n",
       "      <td>married</td>\n",
       "      <td>secondary</td>\n",
       "      <td>no</td>\n",
       "      <td>45</td>\n",
       "      <td>no</td>\n",
       "      <td>no</td>\n",
       "      <td>unknown</td>\n",
       "      <td>5</td>\n",
       "      <td>may</td>\n",
       "      <td>1467</td>\n",
       "      <td>1</td>\n",
       "      <td>-1</td>\n",
       "      <td>0</td>\n",
       "      <td>unknown</td>\n",
       "      <td>yes</td>\n",
       "    </tr>\n",
       "    <tr>\n",
       "      <th>2</th>\n",
       "      <td>41</td>\n",
       "      <td>technician</td>\n",
       "      <td>married</td>\n",
       "      <td>secondary</td>\n",
       "      <td>no</td>\n",
       "      <td>1270</td>\n",
       "      <td>yes</td>\n",
       "      <td>no</td>\n",
       "      <td>unknown</td>\n",
       "      <td>5</td>\n",
       "      <td>may</td>\n",
       "      <td>1389</td>\n",
       "      <td>1</td>\n",
       "      <td>-1</td>\n",
       "      <td>0</td>\n",
       "      <td>unknown</td>\n",
       "      <td>yes</td>\n",
       "    </tr>\n",
       "    <tr>\n",
       "      <th>3</th>\n",
       "      <td>55</td>\n",
       "      <td>services</td>\n",
       "      <td>married</td>\n",
       "      <td>secondary</td>\n",
       "      <td>no</td>\n",
       "      <td>2476</td>\n",
       "      <td>yes</td>\n",
       "      <td>no</td>\n",
       "      <td>unknown</td>\n",
       "      <td>5</td>\n",
       "      <td>may</td>\n",
       "      <td>579</td>\n",
       "      <td>1</td>\n",
       "      <td>-1</td>\n",
       "      <td>0</td>\n",
       "      <td>unknown</td>\n",
       "      <td>yes</td>\n",
       "    </tr>\n",
       "    <tr>\n",
       "      <th>4</th>\n",
       "      <td>54</td>\n",
       "      <td>admin.</td>\n",
       "      <td>married</td>\n",
       "      <td>tertiary</td>\n",
       "      <td>no</td>\n",
       "      <td>184</td>\n",
       "      <td>no</td>\n",
       "      <td>no</td>\n",
       "      <td>unknown</td>\n",
       "      <td>5</td>\n",
       "      <td>may</td>\n",
       "      <td>673</td>\n",
       "      <td>2</td>\n",
       "      <td>-1</td>\n",
       "      <td>0</td>\n",
       "      <td>unknown</td>\n",
       "      <td>yes</td>\n",
       "    </tr>\n",
       "    <tr>\n",
       "      <th>...</th>\n",
       "      <td>...</td>\n",
       "      <td>...</td>\n",
       "      <td>...</td>\n",
       "      <td>...</td>\n",
       "      <td>...</td>\n",
       "      <td>...</td>\n",
       "      <td>...</td>\n",
       "      <td>...</td>\n",
       "      <td>...</td>\n",
       "      <td>...</td>\n",
       "      <td>...</td>\n",
       "      <td>...</td>\n",
       "      <td>...</td>\n",
       "      <td>...</td>\n",
       "      <td>...</td>\n",
       "      <td>...</td>\n",
       "      <td>...</td>\n",
       "    </tr>\n",
       "    <tr>\n",
       "      <th>11154</th>\n",
       "      <td>52</td>\n",
       "      <td>technician</td>\n",
       "      <td>married</td>\n",
       "      <td>tertiary</td>\n",
       "      <td>no</td>\n",
       "      <td>523</td>\n",
       "      <td>yes</td>\n",
       "      <td>yes</td>\n",
       "      <td>cellular</td>\n",
       "      <td>8</td>\n",
       "      <td>jul</td>\n",
       "      <td>113</td>\n",
       "      <td>1</td>\n",
       "      <td>-1</td>\n",
       "      <td>0</td>\n",
       "      <td>unknown</td>\n",
       "      <td>no</td>\n",
       "    </tr>\n",
       "    <tr>\n",
       "      <th>11157</th>\n",
       "      <td>33</td>\n",
       "      <td>blue-collar</td>\n",
       "      <td>single</td>\n",
       "      <td>primary</td>\n",
       "      <td>no</td>\n",
       "      <td>1</td>\n",
       "      <td>yes</td>\n",
       "      <td>no</td>\n",
       "      <td>cellular</td>\n",
       "      <td>20</td>\n",
       "      <td>apr</td>\n",
       "      <td>257</td>\n",
       "      <td>1</td>\n",
       "      <td>-1</td>\n",
       "      <td>0</td>\n",
       "      <td>unknown</td>\n",
       "      <td>no</td>\n",
       "    </tr>\n",
       "    <tr>\n",
       "      <th>11158</th>\n",
       "      <td>39</td>\n",
       "      <td>services</td>\n",
       "      <td>married</td>\n",
       "      <td>secondary</td>\n",
       "      <td>no</td>\n",
       "      <td>733</td>\n",
       "      <td>no</td>\n",
       "      <td>no</td>\n",
       "      <td>unknown</td>\n",
       "      <td>16</td>\n",
       "      <td>jun</td>\n",
       "      <td>83</td>\n",
       "      <td>4</td>\n",
       "      <td>-1</td>\n",
       "      <td>0</td>\n",
       "      <td>unknown</td>\n",
       "      <td>no</td>\n",
       "    </tr>\n",
       "    <tr>\n",
       "      <th>11159</th>\n",
       "      <td>32</td>\n",
       "      <td>technician</td>\n",
       "      <td>single</td>\n",
       "      <td>secondary</td>\n",
       "      <td>no</td>\n",
       "      <td>29</td>\n",
       "      <td>no</td>\n",
       "      <td>no</td>\n",
       "      <td>cellular</td>\n",
       "      <td>19</td>\n",
       "      <td>aug</td>\n",
       "      <td>156</td>\n",
       "      <td>2</td>\n",
       "      <td>-1</td>\n",
       "      <td>0</td>\n",
       "      <td>unknown</td>\n",
       "      <td>no</td>\n",
       "    </tr>\n",
       "    <tr>\n",
       "      <th>11161</th>\n",
       "      <td>34</td>\n",
       "      <td>technician</td>\n",
       "      <td>married</td>\n",
       "      <td>secondary</td>\n",
       "      <td>no</td>\n",
       "      <td>0</td>\n",
       "      <td>no</td>\n",
       "      <td>no</td>\n",
       "      <td>cellular</td>\n",
       "      <td>9</td>\n",
       "      <td>jul</td>\n",
       "      <td>628</td>\n",
       "      <td>1</td>\n",
       "      <td>-1</td>\n",
       "      <td>0</td>\n",
       "      <td>unknown</td>\n",
       "      <td>no</td>\n",
       "    </tr>\n",
       "  </tbody>\n",
       "</table>\n",
       "<p>7707 rows × 17 columns</p>\n",
       "</div>"
      ],
      "text/plain": [
       "       age          job  marital  education default  balance housing loan  \\\n",
       "0       59       admin.  married  secondary      no     2343     yes   no   \n",
       "1       56       admin.  married  secondary      no       45      no   no   \n",
       "2       41   technician  married  secondary      no     1270     yes   no   \n",
       "3       55     services  married  secondary      no     2476     yes   no   \n",
       "4       54       admin.  married   tertiary      no      184      no   no   \n",
       "...    ...          ...      ...        ...     ...      ...     ...  ...   \n",
       "11154   52   technician  married   tertiary      no      523     yes  yes   \n",
       "11157   33  blue-collar   single    primary      no        1     yes   no   \n",
       "11158   39     services  married  secondary      no      733      no   no   \n",
       "11159   32   technician   single  secondary      no       29      no   no   \n",
       "11161   34   technician  married  secondary      no        0      no   no   \n",
       "\n",
       "        contact  day month  duration  campaign  pdays  previous poutcome  \\\n",
       "0       unknown    5   may      1042         1     -1         0  unknown   \n",
       "1       unknown    5   may      1467         1     -1         0  unknown   \n",
       "2       unknown    5   may      1389         1     -1         0  unknown   \n",
       "3       unknown    5   may       579         1     -1         0  unknown   \n",
       "4       unknown    5   may       673         2     -1         0  unknown   \n",
       "...         ...  ...   ...       ...       ...    ...       ...      ...   \n",
       "11154  cellular    8   jul       113         1     -1         0  unknown   \n",
       "11157  cellular   20   apr       257         1     -1         0  unknown   \n",
       "11158   unknown   16   jun        83         4     -1         0  unknown   \n",
       "11159  cellular   19   aug       156         2     -1         0  unknown   \n",
       "11161  cellular    9   jul       628         1     -1         0  unknown   \n",
       "\n",
       "      deposit  \n",
       "0         yes  \n",
       "1         yes  \n",
       "2         yes  \n",
       "3         yes  \n",
       "4         yes  \n",
       "...       ...  \n",
       "11154      no  \n",
       "11157      no  \n",
       "11158      no  \n",
       "11159      no  \n",
       "11161      no  \n",
       "\n",
       "[7707 rows x 17 columns]"
      ]
     },
     "execution_count": 21,
     "metadata": {},
     "output_type": "execute_result"
    }
   ],
   "source": [
    "df[df['poutcome']=='unknown']"
   ]
  },
  {
   "cell_type": "code",
   "execution_count": 22,
   "id": "dcf63726",
   "metadata": {
    "execution": {
     "iopub.execute_input": "2022-07-08T12:48:05.288073Z",
     "iopub.status.busy": "2022-07-08T12:48:05.286921Z",
     "iopub.status.idle": "2022-07-08T12:48:05.312084Z",
     "shell.execute_reply": "2022-07-08T12:48:05.310926Z"
    },
    "papermill": {
     "duration": 0.068516,
     "end_time": "2022-07-08T12:48:05.314511",
     "exception": false,
     "start_time": "2022-07-08T12:48:05.245995",
     "status": "completed"
    },
    "tags": []
   },
   "outputs": [
    {
     "data": {
      "text/html": [
       "<div>\n",
       "<style scoped>\n",
       "    .dataframe tbody tr th:only-of-type {\n",
       "        vertical-align: middle;\n",
       "    }\n",
       "\n",
       "    .dataframe tbody tr th {\n",
       "        vertical-align: top;\n",
       "    }\n",
       "\n",
       "    .dataframe thead th {\n",
       "        text-align: right;\n",
       "    }\n",
       "</style>\n",
       "<table border=\"1\" class=\"dataframe\">\n",
       "  <thead>\n",
       "    <tr style=\"text-align: right;\">\n",
       "      <th></th>\n",
       "      <th>age</th>\n",
       "      <th>job</th>\n",
       "      <th>marital</th>\n",
       "      <th>education</th>\n",
       "      <th>default</th>\n",
       "      <th>balance</th>\n",
       "      <th>housing</th>\n",
       "      <th>loan</th>\n",
       "      <th>contact</th>\n",
       "      <th>day</th>\n",
       "      <th>month</th>\n",
       "      <th>duration</th>\n",
       "      <th>campaign</th>\n",
       "      <th>pdays</th>\n",
       "      <th>previous</th>\n",
       "      <th>poutcome</th>\n",
       "      <th>deposit</th>\n",
       "    </tr>\n",
       "  </thead>\n",
       "  <tbody>\n",
       "    <tr>\n",
       "      <th>0</th>\n",
       "      <td>59</td>\n",
       "      <td>admin.</td>\n",
       "      <td>married</td>\n",
       "      <td>secondary</td>\n",
       "      <td>no</td>\n",
       "      <td>2343</td>\n",
       "      <td>yes</td>\n",
       "      <td>no</td>\n",
       "      <td>unknown</td>\n",
       "      <td>5</td>\n",
       "      <td>may</td>\n",
       "      <td>1042</td>\n",
       "      <td>1</td>\n",
       "      <td>-1</td>\n",
       "      <td>0</td>\n",
       "      <td>unknown</td>\n",
       "      <td>yes</td>\n",
       "    </tr>\n",
       "    <tr>\n",
       "      <th>1</th>\n",
       "      <td>56</td>\n",
       "      <td>admin.</td>\n",
       "      <td>married</td>\n",
       "      <td>secondary</td>\n",
       "      <td>no</td>\n",
       "      <td>45</td>\n",
       "      <td>no</td>\n",
       "      <td>no</td>\n",
       "      <td>unknown</td>\n",
       "      <td>5</td>\n",
       "      <td>may</td>\n",
       "      <td>1467</td>\n",
       "      <td>1</td>\n",
       "      <td>-1</td>\n",
       "      <td>0</td>\n",
       "      <td>unknown</td>\n",
       "      <td>yes</td>\n",
       "    </tr>\n",
       "    <tr>\n",
       "      <th>2</th>\n",
       "      <td>41</td>\n",
       "      <td>technician</td>\n",
       "      <td>married</td>\n",
       "      <td>secondary</td>\n",
       "      <td>no</td>\n",
       "      <td>1270</td>\n",
       "      <td>yes</td>\n",
       "      <td>no</td>\n",
       "      <td>unknown</td>\n",
       "      <td>5</td>\n",
       "      <td>may</td>\n",
       "      <td>1389</td>\n",
       "      <td>1</td>\n",
       "      <td>-1</td>\n",
       "      <td>0</td>\n",
       "      <td>unknown</td>\n",
       "      <td>yes</td>\n",
       "    </tr>\n",
       "    <tr>\n",
       "      <th>3</th>\n",
       "      <td>55</td>\n",
       "      <td>services</td>\n",
       "      <td>married</td>\n",
       "      <td>secondary</td>\n",
       "      <td>no</td>\n",
       "      <td>2476</td>\n",
       "      <td>yes</td>\n",
       "      <td>no</td>\n",
       "      <td>unknown</td>\n",
       "      <td>5</td>\n",
       "      <td>may</td>\n",
       "      <td>579</td>\n",
       "      <td>1</td>\n",
       "      <td>-1</td>\n",
       "      <td>0</td>\n",
       "      <td>unknown</td>\n",
       "      <td>yes</td>\n",
       "    </tr>\n",
       "    <tr>\n",
       "      <th>4</th>\n",
       "      <td>54</td>\n",
       "      <td>admin.</td>\n",
       "      <td>married</td>\n",
       "      <td>tertiary</td>\n",
       "      <td>no</td>\n",
       "      <td>184</td>\n",
       "      <td>no</td>\n",
       "      <td>no</td>\n",
       "      <td>unknown</td>\n",
       "      <td>5</td>\n",
       "      <td>may</td>\n",
       "      <td>673</td>\n",
       "      <td>2</td>\n",
       "      <td>-1</td>\n",
       "      <td>0</td>\n",
       "      <td>unknown</td>\n",
       "      <td>yes</td>\n",
       "    </tr>\n",
       "    <tr>\n",
       "      <th>...</th>\n",
       "      <td>...</td>\n",
       "      <td>...</td>\n",
       "      <td>...</td>\n",
       "      <td>...</td>\n",
       "      <td>...</td>\n",
       "      <td>...</td>\n",
       "      <td>...</td>\n",
       "      <td>...</td>\n",
       "      <td>...</td>\n",
       "      <td>...</td>\n",
       "      <td>...</td>\n",
       "      <td>...</td>\n",
       "      <td>...</td>\n",
       "      <td>...</td>\n",
       "      <td>...</td>\n",
       "      <td>...</td>\n",
       "      <td>...</td>\n",
       "    </tr>\n",
       "    <tr>\n",
       "      <th>11154</th>\n",
       "      <td>52</td>\n",
       "      <td>technician</td>\n",
       "      <td>married</td>\n",
       "      <td>tertiary</td>\n",
       "      <td>no</td>\n",
       "      <td>523</td>\n",
       "      <td>yes</td>\n",
       "      <td>yes</td>\n",
       "      <td>cellular</td>\n",
       "      <td>8</td>\n",
       "      <td>jul</td>\n",
       "      <td>113</td>\n",
       "      <td>1</td>\n",
       "      <td>-1</td>\n",
       "      <td>0</td>\n",
       "      <td>unknown</td>\n",
       "      <td>no</td>\n",
       "    </tr>\n",
       "    <tr>\n",
       "      <th>11157</th>\n",
       "      <td>33</td>\n",
       "      <td>blue-collar</td>\n",
       "      <td>single</td>\n",
       "      <td>primary</td>\n",
       "      <td>no</td>\n",
       "      <td>1</td>\n",
       "      <td>yes</td>\n",
       "      <td>no</td>\n",
       "      <td>cellular</td>\n",
       "      <td>20</td>\n",
       "      <td>apr</td>\n",
       "      <td>257</td>\n",
       "      <td>1</td>\n",
       "      <td>-1</td>\n",
       "      <td>0</td>\n",
       "      <td>unknown</td>\n",
       "      <td>no</td>\n",
       "    </tr>\n",
       "    <tr>\n",
       "      <th>11158</th>\n",
       "      <td>39</td>\n",
       "      <td>services</td>\n",
       "      <td>married</td>\n",
       "      <td>secondary</td>\n",
       "      <td>no</td>\n",
       "      <td>733</td>\n",
       "      <td>no</td>\n",
       "      <td>no</td>\n",
       "      <td>unknown</td>\n",
       "      <td>16</td>\n",
       "      <td>jun</td>\n",
       "      <td>83</td>\n",
       "      <td>4</td>\n",
       "      <td>-1</td>\n",
       "      <td>0</td>\n",
       "      <td>unknown</td>\n",
       "      <td>no</td>\n",
       "    </tr>\n",
       "    <tr>\n",
       "      <th>11159</th>\n",
       "      <td>32</td>\n",
       "      <td>technician</td>\n",
       "      <td>single</td>\n",
       "      <td>secondary</td>\n",
       "      <td>no</td>\n",
       "      <td>29</td>\n",
       "      <td>no</td>\n",
       "      <td>no</td>\n",
       "      <td>cellular</td>\n",
       "      <td>19</td>\n",
       "      <td>aug</td>\n",
       "      <td>156</td>\n",
       "      <td>2</td>\n",
       "      <td>-1</td>\n",
       "      <td>0</td>\n",
       "      <td>unknown</td>\n",
       "      <td>no</td>\n",
       "    </tr>\n",
       "    <tr>\n",
       "      <th>11161</th>\n",
       "      <td>34</td>\n",
       "      <td>technician</td>\n",
       "      <td>married</td>\n",
       "      <td>secondary</td>\n",
       "      <td>no</td>\n",
       "      <td>0</td>\n",
       "      <td>no</td>\n",
       "      <td>no</td>\n",
       "      <td>cellular</td>\n",
       "      <td>9</td>\n",
       "      <td>jul</td>\n",
       "      <td>628</td>\n",
       "      <td>1</td>\n",
       "      <td>-1</td>\n",
       "      <td>0</td>\n",
       "      <td>unknown</td>\n",
       "      <td>no</td>\n",
       "    </tr>\n",
       "  </tbody>\n",
       "</table>\n",
       "<p>7705 rows × 17 columns</p>\n",
       "</div>"
      ],
      "text/plain": [
       "       age          job  marital  education default  balance housing loan  \\\n",
       "0       59       admin.  married  secondary      no     2343     yes   no   \n",
       "1       56       admin.  married  secondary      no       45      no   no   \n",
       "2       41   technician  married  secondary      no     1270     yes   no   \n",
       "3       55     services  married  secondary      no     2476     yes   no   \n",
       "4       54       admin.  married   tertiary      no      184      no   no   \n",
       "...    ...          ...      ...        ...     ...      ...     ...  ...   \n",
       "11154   52   technician  married   tertiary      no      523     yes  yes   \n",
       "11157   33  blue-collar   single    primary      no        1     yes   no   \n",
       "11158   39     services  married  secondary      no      733      no   no   \n",
       "11159   32   technician   single  secondary      no       29      no   no   \n",
       "11161   34   technician  married  secondary      no        0      no   no   \n",
       "\n",
       "        contact  day month  duration  campaign  pdays  previous poutcome  \\\n",
       "0       unknown    5   may      1042         1     -1         0  unknown   \n",
       "1       unknown    5   may      1467         1     -1         0  unknown   \n",
       "2       unknown    5   may      1389         1     -1         0  unknown   \n",
       "3       unknown    5   may       579         1     -1         0  unknown   \n",
       "4       unknown    5   may       673         2     -1         0  unknown   \n",
       "...         ...  ...   ...       ...       ...    ...       ...      ...   \n",
       "11154  cellular    8   jul       113         1     -1         0  unknown   \n",
       "11157  cellular   20   apr       257         1     -1         0  unknown   \n",
       "11158   unknown   16   jun        83         4     -1         0  unknown   \n",
       "11159  cellular   19   aug       156         2     -1         0  unknown   \n",
       "11161  cellular    9   jul       628         1     -1         0  unknown   \n",
       "\n",
       "      deposit  \n",
       "0         yes  \n",
       "1         yes  \n",
       "2         yes  \n",
       "3         yes  \n",
       "4         yes  \n",
       "...       ...  \n",
       "11154      no  \n",
       "11157      no  \n",
       "11158      no  \n",
       "11159      no  \n",
       "11161      no  \n",
       "\n",
       "[7705 rows x 17 columns]"
      ]
     },
     "execution_count": 22,
     "metadata": {},
     "output_type": "execute_result"
    }
   ],
   "source": [
    "df[df['previous']==0]"
   ]
  },
  {
   "cell_type": "markdown",
   "id": "72e3598e",
   "metadata": {
    "papermill": {
     "duration": 0.038997,
     "end_time": "2022-07-08T12:48:05.392875",
     "exception": false,
     "start_time": "2022-07-08T12:48:05.353878",
     "status": "completed"
    },
    "tags": []
   },
   "source": [
    "### Concluion\n",
    "* As seen above **pdays -1** means these peoples are new or involving 1st time in campaign and \n",
    "* they have **no previous contact** so **previous ==0** and **poutcomes is unknown** for all -1 values of pdays\n",
    "*  we will drop pdays columns "
   ]
  },
  {
   "cell_type": "markdown",
   "id": "0bc91404",
   "metadata": {
    "papermill": {
     "duration": 0.039924,
     "end_time": "2022-07-08T12:48:05.472685",
     "exception": false,
     "start_time": "2022-07-08T12:48:05.432761",
     "status": "completed"
    },
    "tags": []
   },
   "source": [
    "### Drop pdays columns from above conclusion"
   ]
  },
  {
   "cell_type": "code",
   "execution_count": 23,
   "id": "12303965",
   "metadata": {
    "execution": {
     "iopub.execute_input": "2022-07-08T12:48:05.553634Z",
     "iopub.status.busy": "2022-07-08T12:48:05.553270Z",
     "iopub.status.idle": "2022-07-08T12:48:05.559987Z",
     "shell.execute_reply": "2022-07-08T12:48:05.559249Z"
    },
    "papermill": {
     "duration": 0.049809,
     "end_time": "2022-07-08T12:48:05.562026",
     "exception": false,
     "start_time": "2022-07-08T12:48:05.512217",
     "status": "completed"
    },
    "tags": []
   },
   "outputs": [],
   "source": [
    "df.drop(\"pdays\",inplace=True,axis=1)"
   ]
  },
  {
   "cell_type": "markdown",
   "id": "11bf5ac8",
   "metadata": {
    "papermill": {
     "duration": 0.0394,
     "end_time": "2022-07-08T12:48:05.640877",
     "exception": false,
     "start_time": "2022-07-08T12:48:05.601477",
     "status": "completed"
    },
    "tags": []
   },
   "source": [
    "### 5. Previous"
   ]
  },
  {
   "cell_type": "code",
   "execution_count": 24,
   "id": "69902558",
   "metadata": {
    "execution": {
     "iopub.execute_input": "2022-07-08T12:48:05.724034Z",
     "iopub.status.busy": "2022-07-08T12:48:05.723062Z",
     "iopub.status.idle": "2022-07-08T12:48:05.740790Z",
     "shell.execute_reply": "2022-07-08T12:48:05.739594Z"
    },
    "papermill": {
     "duration": 0.061735,
     "end_time": "2022-07-08T12:48:05.743076",
     "exception": false,
     "start_time": "2022-07-08T12:48:05.681341",
     "status": "completed"
    },
    "tags": []
   },
   "outputs": [
    {
     "data": {
      "text/html": [
       "<div>\n",
       "<style scoped>\n",
       "    .dataframe tbody tr th:only-of-type {\n",
       "        vertical-align: middle;\n",
       "    }\n",
       "\n",
       "    .dataframe tbody tr th {\n",
       "        vertical-align: top;\n",
       "    }\n",
       "\n",
       "    .dataframe thead th {\n",
       "        text-align: right;\n",
       "    }\n",
       "</style>\n",
       "<table border=\"1\" class=\"dataframe\">\n",
       "  <thead>\n",
       "    <tr style=\"text-align: right;\">\n",
       "      <th></th>\n",
       "      <th>age</th>\n",
       "      <th>job</th>\n",
       "      <th>marital</th>\n",
       "      <th>education</th>\n",
       "      <th>default</th>\n",
       "      <th>balance</th>\n",
       "      <th>housing</th>\n",
       "      <th>loan</th>\n",
       "      <th>contact</th>\n",
       "      <th>day</th>\n",
       "      <th>month</th>\n",
       "      <th>duration</th>\n",
       "      <th>campaign</th>\n",
       "      <th>previous</th>\n",
       "      <th>poutcome</th>\n",
       "      <th>deposit</th>\n",
       "    </tr>\n",
       "  </thead>\n",
       "  <tbody>\n",
       "    <tr>\n",
       "      <th>2013</th>\n",
       "      <td>46</td>\n",
       "      <td>blue-collar</td>\n",
       "      <td>married</td>\n",
       "      <td>primary</td>\n",
       "      <td>no</td>\n",
       "      <td>1085</td>\n",
       "      <td>yes</td>\n",
       "      <td>yes</td>\n",
       "      <td>cellular</td>\n",
       "      <td>15</td>\n",
       "      <td>may</td>\n",
       "      <td>523</td>\n",
       "      <td>2</td>\n",
       "      <td>58</td>\n",
       "      <td>other</td>\n",
       "      <td>yes</td>\n",
       "    </tr>\n",
       "    <tr>\n",
       "      <th>3677</th>\n",
       "      <td>37</td>\n",
       "      <td>technician</td>\n",
       "      <td>married</td>\n",
       "      <td>secondary</td>\n",
       "      <td>no</td>\n",
       "      <td>432</td>\n",
       "      <td>yes</td>\n",
       "      <td>no</td>\n",
       "      <td>cellular</td>\n",
       "      <td>6</td>\n",
       "      <td>jul</td>\n",
       "      <td>386</td>\n",
       "      <td>3</td>\n",
       "      <td>55</td>\n",
       "      <td>failure</td>\n",
       "      <td>yes</td>\n",
       "    </tr>\n",
       "    <tr>\n",
       "      <th>6274</th>\n",
       "      <td>27</td>\n",
       "      <td>blue-collar</td>\n",
       "      <td>married</td>\n",
       "      <td>secondary</td>\n",
       "      <td>no</td>\n",
       "      <td>821</td>\n",
       "      <td>yes</td>\n",
       "      <td>yes</td>\n",
       "      <td>unknown</td>\n",
       "      <td>16</td>\n",
       "      <td>sep</td>\n",
       "      <td>23</td>\n",
       "      <td>1</td>\n",
       "      <td>41</td>\n",
       "      <td>other</td>\n",
       "      <td>no</td>\n",
       "    </tr>\n",
       "    <tr>\n",
       "      <th>8713</th>\n",
       "      <td>35</td>\n",
       "      <td>technician</td>\n",
       "      <td>single</td>\n",
       "      <td>secondary</td>\n",
       "      <td>no</td>\n",
       "      <td>4645</td>\n",
       "      <td>yes</td>\n",
       "      <td>no</td>\n",
       "      <td>cellular</td>\n",
       "      <td>11</td>\n",
       "      <td>jan</td>\n",
       "      <td>502</td>\n",
       "      <td>3</td>\n",
       "      <td>40</td>\n",
       "      <td>other</td>\n",
       "      <td>no</td>\n",
       "    </tr>\n",
       "    <tr>\n",
       "      <th>10121</th>\n",
       "      <td>27</td>\n",
       "      <td>student</td>\n",
       "      <td>single</td>\n",
       "      <td>secondary</td>\n",
       "      <td>no</td>\n",
       "      <td>91</td>\n",
       "      <td>no</td>\n",
       "      <td>no</td>\n",
       "      <td>telephone</td>\n",
       "      <td>4</td>\n",
       "      <td>dec</td>\n",
       "      <td>157</td>\n",
       "      <td>6</td>\n",
       "      <td>37</td>\n",
       "      <td>other</td>\n",
       "      <td>no</td>\n",
       "    </tr>\n",
       "  </tbody>\n",
       "</table>\n",
       "</div>"
      ],
      "text/plain": [
       "       age          job  marital  education default  balance housing loan  \\\n",
       "2013    46  blue-collar  married    primary      no     1085     yes  yes   \n",
       "3677    37   technician  married  secondary      no      432     yes   no   \n",
       "6274    27  blue-collar  married  secondary      no      821     yes  yes   \n",
       "8713    35   technician   single  secondary      no     4645     yes   no   \n",
       "10121   27      student   single  secondary      no       91      no   no   \n",
       "\n",
       "         contact  day month  duration  campaign  previous poutcome deposit  \n",
       "2013    cellular   15   may       523         2        58    other     yes  \n",
       "3677    cellular    6   jul       386         3        55  failure     yes  \n",
       "6274     unknown   16   sep        23         1        41    other      no  \n",
       "8713    cellular   11   jan       502         3        40    other      no  \n",
       "10121  telephone    4   dec       157         6        37    other      no  "
      ]
     },
     "execution_count": 24,
     "metadata": {},
     "output_type": "execute_result"
    }
   ],
   "source": [
    "df[df['previous']>30]"
   ]
  },
  {
   "cell_type": "markdown",
   "id": "863b8d96",
   "metadata": {
    "papermill": {
     "duration": 0.040327,
     "end_time": "2022-07-08T12:48:05.822791",
     "exception": false,
     "start_time": "2022-07-08T12:48:05.782464",
     "status": "completed"
    },
    "tags": []
   },
   "source": [
    "### Drop outliers in previous features"
   ]
  },
  {
   "cell_type": "code",
   "execution_count": 25,
   "id": "e6e2675c",
   "metadata": {
    "execution": {
     "iopub.execute_input": "2022-07-08T12:48:05.922441Z",
     "iopub.status.busy": "2022-07-08T12:48:05.921657Z",
     "iopub.status.idle": "2022-07-08T12:48:05.929772Z",
     "shell.execute_reply": "2022-07-08T12:48:05.928606Z"
    },
    "papermill": {
     "duration": 0.052367,
     "end_time": "2022-07-08T12:48:05.932184",
     "exception": false,
     "start_time": "2022-07-08T12:48:05.879817",
     "status": "completed"
    },
    "tags": []
   },
   "outputs": [],
   "source": [
    "df.drop(df[df['previous']>30].index,axis=0,inplace=True)"
   ]
  },
  {
   "cell_type": "code",
   "execution_count": 26,
   "id": "fd7c7262",
   "metadata": {
    "execution": {
     "iopub.execute_input": "2022-07-08T12:48:06.016103Z",
     "iopub.status.busy": "2022-07-08T12:48:06.015707Z",
     "iopub.status.idle": "2022-07-08T12:48:06.191632Z",
     "shell.execute_reply": "2022-07-08T12:48:06.190825Z"
    },
    "papermill": {
     "duration": 0.220821,
     "end_time": "2022-07-08T12:48:06.193799",
     "exception": false,
     "start_time": "2022-07-08T12:48:05.972978",
     "status": "completed"
    },
    "tags": []
   },
   "outputs": [
    {
     "data": {
      "image/png": "[encoded data removed]",
      "text/plain": [
       "<Figure size 432x288 with 1 Axes>"
      ]
     },
     "metadata": {
      "needs_background": "light"
     },
     "output_type": "display_data"
    }
   ],
   "source": [
    "#df1 = df[df['balance']>0]\n",
    "plt.hist(x=\"campaign\",data=df,color='green')\n",
    "plt.show()"
   ]
  },
  {
   "cell_type": "code",
   "execution_count": 27,
   "id": "f4345521",
   "metadata": {
    "execution": {
     "iopub.execute_input": "2022-07-08T12:48:06.276085Z",
     "iopub.status.busy": "2022-07-08T12:48:06.275142Z",
     "iopub.status.idle": "2022-07-08T12:48:06.280195Z",
     "shell.execute_reply": "2022-07-08T12:48:06.279364Z"
    },
    "papermill": {
     "duration": 0.048973,
     "end_time": "2022-07-08T12:48:06.282517",
     "exception": false,
     "start_time": "2022-07-08T12:48:06.233544",
     "status": "completed"
    },
    "tags": []
   },
   "outputs": [],
   "source": [
    "df1 = df.copy()"
   ]
  },
  {
   "cell_type": "markdown",
   "id": "251c104b",
   "metadata": {
    "papermill": {
     "duration": 0.040451,
     "end_time": "2022-07-08T12:48:06.363399",
     "exception": false,
     "start_time": "2022-07-08T12:48:06.322948",
     "status": "completed"
    },
    "tags": []
   },
   "source": [
    "## conclusion :"
   ]
  },
  {
   "cell_type": "markdown",
   "id": "c77396f3",
   "metadata": {
    "papermill": {
     "duration": 0.040148,
     "end_time": "2022-07-08T12:48:06.443809",
     "exception": false,
     "start_time": "2022-07-08T12:48:06.403661",
     "status": "completed"
    },
    "tags": []
   },
   "source": [
    "* Duration is matter most clearly seen from above plot higher the duration more the chances that person will subscrised for deposit\n",
    "* Campaign should be low as possible\n",
    "* pdays should be more\n",
    "* People those susbcribed for deposit has higher balance"
   ]
  },
  {
   "cell_type": "markdown",
   "id": "a7c3c50f",
   "metadata": {
    "papermill": {
     "duration": 0.040496,
     "end_time": "2022-07-08T12:48:06.524984",
     "exception": false,
     "start_time": "2022-07-08T12:48:06.484488",
     "status": "completed"
    },
    "tags": []
   },
   "source": [
    "## Correlation Heatmap"
   ]
  },
  {
   "cell_type": "code",
   "execution_count": 28,
   "id": "d0c284aa",
   "metadata": {
    "execution": {
     "iopub.execute_input": "2022-07-08T12:48:06.606875Z",
     "iopub.status.busy": "2022-07-08T12:48:06.606006Z",
     "iopub.status.idle": "2022-07-08T12:48:06.981093Z",
     "shell.execute_reply": "2022-07-08T12:48:06.979949Z"
    },
    "papermill": {
     "duration": 0.418413,
     "end_time": "2022-07-08T12:48:06.983504",
     "exception": false,
     "start_time": "2022-07-08T12:48:06.565091",
     "status": "completed"
    },
    "tags": []
   },
   "outputs": [
    {
     "data": {
      "image/png": "[encoded data removed]",
      "text/plain": [
       "<Figure size 720x504 with 2 Axes>"
      ]
     },
     "metadata": {
      "needs_background": "light"
     },
     "output_type": "display_data"
    }
   ],
   "source": [
    "#Pearson’s Correlations, which measures the strength of a linear relationship\n",
    "df_num = df[['age', 'balance', 'day', 'duration', 'campaign', 'previous']]\n",
    "plt.figure(figsize=(10,7))\n",
    "sns.heatmap(data=df_num.corr(), annot=True)\n",
    "plt.show()"
   ]
  },
  {
   "cell_type": "markdown",
   "id": "d6e92671",
   "metadata": {
    "papermill": {
     "duration": 0.041344,
     "end_time": "2022-07-08T12:48:07.066467",
     "exception": false,
     "start_time": "2022-07-08T12:48:07.025123",
     "status": "completed"
    },
    "tags": []
   },
   "source": [
    "* There is No Multi-colinearity Problem as No relation with inputs columns"
   ]
  },
  {
   "cell_type": "markdown",
   "id": "b1611997",
   "metadata": {
    "papermill": {
     "duration": 0.042615,
     "end_time": "2022-07-08T12:48:07.149735",
     "exception": false,
     "start_time": "2022-07-08T12:48:07.107120",
     "status": "completed"
    },
    "tags": []
   },
   "source": [
    "<div style=\"color:white;\n",
    "           display:fill;\n",
    "           border-radius:15px;\n",
    "           background-color:blue;\n",
    "           font-size:120%;\n",
    "           font-family:#afd511;\n",
    "           letter-spacing:0.5px\">\n",
    "\n",
    "<h3 style=\"padding: 15px; color:white; text-align:center\"><b>Encoding Category</b></h3>\n",
    "</div>"
   ]
  },
  {
   "cell_type": "markdown",
   "id": "996ecc4c",
   "metadata": {
    "papermill": {
     "duration": 0.040648,
     "end_time": "2022-07-08T12:48:07.232501",
     "exception": false,
     "start_time": "2022-07-08T12:48:07.191853",
     "status": "completed"
    },
    "tags": []
   },
   "source": [
    "## Encoding of Categ Features\n",
    "* A categorical variable is one that has two or more categories (values). \n",
    "* There are two types of categorical variable, nominal and ordinal. A nominal variable has no intrinsic ordering to its categories. For example, gender is a categorical variable having two categories (male and female) with no intrinsic ordering to the categories. An ordinal variable has a clear ordering."
   ]
  },
  {
   "cell_type": "code",
   "execution_count": 29,
   "id": "0153a924",
   "metadata": {
    "execution": {
     "iopub.execute_input": "2022-07-08T12:48:07.315733Z",
     "iopub.status.busy": "2022-07-08T12:48:07.315351Z",
     "iopub.status.idle": "2022-07-08T12:48:07.319952Z",
     "shell.execute_reply": "2022-07-08T12:48:07.318718Z"
    },
    "papermill": {
     "duration": 0.048975,
     "end_time": "2022-07-08T12:48:07.322121",
     "exception": false,
     "start_time": "2022-07-08T12:48:07.273146",
     "status": "completed"
    },
    "tags": []
   },
   "outputs": [],
   "source": [
    "#create dict for binary encoding\n",
    "dic = {\"yes\":1,\"no\":0}"
   ]
  },
  {
   "cell_type": "code",
   "execution_count": 30,
   "id": "029b568b",
   "metadata": {
    "execution": {
     "iopub.execute_input": "2022-07-08T12:48:07.405050Z",
     "iopub.status.busy": "2022-07-08T12:48:07.404688Z",
     "iopub.status.idle": "2022-07-08T12:48:07.574916Z",
     "shell.execute_reply": "2022-07-08T12:48:07.573647Z"
    },
    "papermill": {
     "duration": 0.214867,
     "end_time": "2022-07-08T12:48:07.577523",
     "exception": false,
     "start_time": "2022-07-08T12:48:07.362656",
     "status": "completed"
    },
    "tags": []
   },
   "outputs": [],
   "source": [
    "from sklearn.preprocessing import LabelEncoder\n",
    "dic = {\"yes\":1,\"no\":0}\n",
    "lst = [\"deposit\",\"loan\",\"default\",\"housing\"]\n",
    "for i in lst:\n",
    "    df[i] = df[i].map(dic)"
   ]
  },
  {
   "cell_type": "code",
   "execution_count": 31,
   "id": "3c924e3b",
   "metadata": {
    "execution": {
     "iopub.execute_input": "2022-07-08T12:48:07.661104Z",
     "iopub.status.busy": "2022-07-08T12:48:07.660728Z",
     "iopub.status.idle": "2022-07-08T12:48:07.674110Z",
     "shell.execute_reply": "2022-07-08T12:48:07.672987Z"
    },
    "papermill": {
     "duration": 0.058014,
     "end_time": "2022-07-08T12:48:07.676275",
     "exception": false,
     "start_time": "2022-07-08T12:48:07.618261",
     "status": "completed"
    },
    "tags": []
   },
   "outputs": [],
   "source": [
    "# Ordinal Encoding\n",
    "l=['month',\"contact\",\"poutcome\"]\n",
    "for i in l:\n",
    "    le=LabelEncoder()\n",
    "    df[i]=le.fit_transform(df[i].values)"
   ]
  },
  {
   "cell_type": "code",
   "execution_count": 32,
   "id": "91fb243a",
   "metadata": {
    "execution": {
     "iopub.execute_input": "2022-07-08T12:48:07.761675Z",
     "iopub.status.busy": "2022-07-08T12:48:07.761317Z",
     "iopub.status.idle": "2022-07-08T12:48:07.775942Z",
     "shell.execute_reply": "2022-07-08T12:48:07.774729Z"
    },
    "papermill": {
     "duration": 0.061264,
     "end_time": "2022-07-08T12:48:07.778406",
     "exception": false,
     "start_time": "2022-07-08T12:48:07.717142",
     "status": "completed"
    },
    "tags": []
   },
   "outputs": [],
   "source": [
    "# OneHot Encoding \n",
    "df = pd.get_dummies(df, columns = ['job','marital','education'])"
   ]
  },
  {
   "cell_type": "code",
   "execution_count": 33,
   "id": "3bb18875",
   "metadata": {
    "execution": {
     "iopub.execute_input": "2022-07-08T12:48:07.862893Z",
     "iopub.status.busy": "2022-07-08T12:48:07.862488Z",
     "iopub.status.idle": "2022-07-08T12:48:07.884758Z",
     "shell.execute_reply": "2022-07-08T12:48:07.883976Z"
    },
    "papermill": {
     "duration": 0.067487,
     "end_time": "2022-07-08T12:48:07.886747",
     "exception": false,
     "start_time": "2022-07-08T12:48:07.819260",
     "status": "completed"
    },
    "tags": []
   },
   "outputs": [
    {
     "data": {
      "text/html": [
       "<div>\n",
       "<style scoped>\n",
       "    .dataframe tbody tr th:only-of-type {\n",
       "        vertical-align: middle;\n",
       "    }\n",
       "\n",
       "    .dataframe tbody tr th {\n",
       "        vertical-align: top;\n",
       "    }\n",
       "\n",
       "    .dataframe thead th {\n",
       "        text-align: right;\n",
       "    }\n",
       "</style>\n",
       "<table border=\"1\" class=\"dataframe\">\n",
       "  <thead>\n",
       "    <tr style=\"text-align: right;\">\n",
       "      <th></th>\n",
       "      <th>age</th>\n",
       "      <th>default</th>\n",
       "      <th>balance</th>\n",
       "      <th>housing</th>\n",
       "      <th>loan</th>\n",
       "      <th>contact</th>\n",
       "      <th>day</th>\n",
       "      <th>month</th>\n",
       "      <th>duration</th>\n",
       "      <th>campaign</th>\n",
       "      <th>...</th>\n",
       "      <th>job_technician</th>\n",
       "      <th>job_unemployed</th>\n",
       "      <th>job_unknown</th>\n",
       "      <th>marital_divorced</th>\n",
       "      <th>marital_married</th>\n",
       "      <th>marital_single</th>\n",
       "      <th>education_primary</th>\n",
       "      <th>education_secondary</th>\n",
       "      <th>education_tertiary</th>\n",
       "      <th>education_unknown</th>\n",
       "    </tr>\n",
       "  </thead>\n",
       "  <tbody>\n",
       "    <tr>\n",
       "      <th>0</th>\n",
       "      <td>59</td>\n",
       "      <td>0</td>\n",
       "      <td>2343</td>\n",
       "      <td>1</td>\n",
       "      <td>0</td>\n",
       "      <td>2</td>\n",
       "      <td>5</td>\n",
       "      <td>8</td>\n",
       "      <td>1042</td>\n",
       "      <td>1</td>\n",
       "      <td>...</td>\n",
       "      <td>0</td>\n",
       "      <td>0</td>\n",
       "      <td>0</td>\n",
       "      <td>0</td>\n",
       "      <td>1</td>\n",
       "      <td>0</td>\n",
       "      <td>0</td>\n",
       "      <td>1</td>\n",
       "      <td>0</td>\n",
       "      <td>0</td>\n",
       "    </tr>\n",
       "    <tr>\n",
       "      <th>1</th>\n",
       "      <td>56</td>\n",
       "      <td>0</td>\n",
       "      <td>45</td>\n",
       "      <td>0</td>\n",
       "      <td>0</td>\n",
       "      <td>2</td>\n",
       "      <td>5</td>\n",
       "      <td>8</td>\n",
       "      <td>1467</td>\n",
       "      <td>1</td>\n",
       "      <td>...</td>\n",
       "      <td>0</td>\n",
       "      <td>0</td>\n",
       "      <td>0</td>\n",
       "      <td>0</td>\n",
       "      <td>1</td>\n",
       "      <td>0</td>\n",
       "      <td>0</td>\n",
       "      <td>1</td>\n",
       "      <td>0</td>\n",
       "      <td>0</td>\n",
       "    </tr>\n",
       "    <tr>\n",
       "      <th>2</th>\n",
       "      <td>41</td>\n",
       "      <td>0</td>\n",
       "      <td>1270</td>\n",
       "      <td>1</td>\n",
       "      <td>0</td>\n",
       "      <td>2</td>\n",
       "      <td>5</td>\n",
       "      <td>8</td>\n",
       "      <td>1389</td>\n",
       "      <td>1</td>\n",
       "      <td>...</td>\n",
       "      <td>1</td>\n",
       "      <td>0</td>\n",
       "      <td>0</td>\n",
       "      <td>0</td>\n",
       "      <td>1</td>\n",
       "      <td>0</td>\n",
       "      <td>0</td>\n",
       "      <td>1</td>\n",
       "      <td>0</td>\n",
       "      <td>0</td>\n",
       "    </tr>\n",
       "    <tr>\n",
       "      <th>3</th>\n",
       "      <td>55</td>\n",
       "      <td>0</td>\n",
       "      <td>2476</td>\n",
       "      <td>1</td>\n",
       "      <td>0</td>\n",
       "      <td>2</td>\n",
       "      <td>5</td>\n",
       "      <td>8</td>\n",
       "      <td>579</td>\n",
       "      <td>1</td>\n",
       "      <td>...</td>\n",
       "      <td>0</td>\n",
       "      <td>0</td>\n",
       "      <td>0</td>\n",
       "      <td>0</td>\n",
       "      <td>1</td>\n",
       "      <td>0</td>\n",
       "      <td>0</td>\n",
       "      <td>1</td>\n",
       "      <td>0</td>\n",
       "      <td>0</td>\n",
       "    </tr>\n",
       "    <tr>\n",
       "      <th>4</th>\n",
       "      <td>54</td>\n",
       "      <td>0</td>\n",
       "      <td>184</td>\n",
       "      <td>0</td>\n",
       "      <td>0</td>\n",
       "      <td>2</td>\n",
       "      <td>5</td>\n",
       "      <td>8</td>\n",
       "      <td>673</td>\n",
       "      <td>2</td>\n",
       "      <td>...</td>\n",
       "      <td>0</td>\n",
       "      <td>0</td>\n",
       "      <td>0</td>\n",
       "      <td>0</td>\n",
       "      <td>1</td>\n",
       "      <td>0</td>\n",
       "      <td>0</td>\n",
       "      <td>0</td>\n",
       "      <td>1</td>\n",
       "      <td>0</td>\n",
       "    </tr>\n",
       "    <tr>\n",
       "      <th>...</th>\n",
       "      <td>...</td>\n",
       "      <td>...</td>\n",
       "      <td>...</td>\n",
       "      <td>...</td>\n",
       "      <td>...</td>\n",
       "      <td>...</td>\n",
       "      <td>...</td>\n",
       "      <td>...</td>\n",
       "      <td>...</td>\n",
       "      <td>...</td>\n",
       "      <td>...</td>\n",
       "      <td>...</td>\n",
       "      <td>...</td>\n",
       "      <td>...</td>\n",
       "      <td>...</td>\n",
       "      <td>...</td>\n",
       "      <td>...</td>\n",
       "      <td>...</td>\n",
       "      <td>...</td>\n",
       "      <td>...</td>\n",
       "      <td>...</td>\n",
       "    </tr>\n",
       "    <tr>\n",
       "      <th>11157</th>\n",
       "      <td>33</td>\n",
       "      <td>0</td>\n",
       "      <td>1</td>\n",
       "      <td>1</td>\n",
       "      <td>0</td>\n",
       "      <td>0</td>\n",
       "      <td>20</td>\n",
       "      <td>0</td>\n",
       "      <td>257</td>\n",
       "      <td>1</td>\n",
       "      <td>...</td>\n",
       "      <td>0</td>\n",
       "      <td>0</td>\n",
       "      <td>0</td>\n",
       "      <td>0</td>\n",
       "      <td>0</td>\n",
       "      <td>1</td>\n",
       "      <td>1</td>\n",
       "      <td>0</td>\n",
       "      <td>0</td>\n",
       "      <td>0</td>\n",
       "    </tr>\n",
       "    <tr>\n",
       "      <th>11158</th>\n",
       "      <td>39</td>\n",
       "      <td>0</td>\n",
       "      <td>733</td>\n",
       "      <td>0</td>\n",
       "      <td>0</td>\n",
       "      <td>2</td>\n",
       "      <td>16</td>\n",
       "      <td>6</td>\n",
       "      <td>83</td>\n",
       "      <td>4</td>\n",
       "      <td>...</td>\n",
       "      <td>0</td>\n",
       "      <td>0</td>\n",
       "      <td>0</td>\n",
       "      <td>0</td>\n",
       "      <td>1</td>\n",
       "      <td>0</td>\n",
       "      <td>0</td>\n",
       "      <td>1</td>\n",
       "      <td>0</td>\n",
       "      <td>0</td>\n",
       "    </tr>\n",
       "    <tr>\n",
       "      <th>11159</th>\n",
       "      <td>32</td>\n",
       "      <td>0</td>\n",
       "      <td>29</td>\n",
       "      <td>0</td>\n",
       "      <td>0</td>\n",
       "      <td>0</td>\n",
       "      <td>19</td>\n",
       "      <td>1</td>\n",
       "      <td>156</td>\n",
       "      <td>2</td>\n",
       "      <td>...</td>\n",
       "      <td>1</td>\n",
       "      <td>0</td>\n",
       "      <td>0</td>\n",
       "      <td>0</td>\n",
       "      <td>0</td>\n",
       "      <td>1</td>\n",
       "      <td>0</td>\n",
       "      <td>1</td>\n",
       "      <td>0</td>\n",
       "      <td>0</td>\n",
       "    </tr>\n",
       "    <tr>\n",
       "      <th>11160</th>\n",
       "      <td>43</td>\n",
       "      <td>0</td>\n",
       "      <td>0</td>\n",
       "      <td>0</td>\n",
       "      <td>1</td>\n",
       "      <td>0</td>\n",
       "      <td>8</td>\n",
       "      <td>8</td>\n",
       "      <td>9</td>\n",
       "      <td>2</td>\n",
       "      <td>...</td>\n",
       "      <td>1</td>\n",
       "      <td>0</td>\n",
       "      <td>0</td>\n",
       "      <td>0</td>\n",
       "      <td>1</td>\n",
       "      <td>0</td>\n",
       "      <td>0</td>\n",
       "      <td>1</td>\n",
       "      <td>0</td>\n",
       "      <td>0</td>\n",
       "    </tr>\n",
       "    <tr>\n",
       "      <th>11161</th>\n",
       "      <td>34</td>\n",
       "      <td>0</td>\n",
       "      <td>0</td>\n",
       "      <td>0</td>\n",
       "      <td>0</td>\n",
       "      <td>0</td>\n",
       "      <td>9</td>\n",
       "      <td>5</td>\n",
       "      <td>628</td>\n",
       "      <td>1</td>\n",
       "      <td>...</td>\n",
       "      <td>1</td>\n",
       "      <td>0</td>\n",
       "      <td>0</td>\n",
       "      <td>0</td>\n",
       "      <td>1</td>\n",
       "      <td>0</td>\n",
       "      <td>0</td>\n",
       "      <td>1</td>\n",
       "      <td>0</td>\n",
       "      <td>0</td>\n",
       "    </tr>\n",
       "  </tbody>\n",
       "</table>\n",
       "<p>10449 rows × 32 columns</p>\n",
       "</div>"
      ],
      "text/plain": [
       "       age  default  balance  housing  loan  contact  day  month  duration  \\\n",
       "0       59        0     2343        1     0        2    5      8      1042   \n",
       "1       56        0       45        0     0        2    5      8      1467   \n",
       "2       41        0     1270        1     0        2    5      8      1389   \n",
       "3       55        0     2476        1     0        2    5      8       579   \n",
       "4       54        0      184        0     0        2    5      8       673   \n",
       "...    ...      ...      ...      ...   ...      ...  ...    ...       ...   \n",
       "11157   33        0        1        1     0        0   20      0       257   \n",
       "11158   39        0      733        0     0        2   16      6        83   \n",
       "11159   32        0       29        0     0        0   19      1       156   \n",
       "11160   43        0        0        0     1        0    8      8         9   \n",
       "11161   34        0        0        0     0        0    9      5       628   \n",
       "\n",
       "       campaign  ...  job_technician  job_unemployed  job_unknown  \\\n",
       "0             1  ...               0               0            0   \n",
       "1             1  ...               0               0            0   \n",
       "2             1  ...               1               0            0   \n",
       "3             1  ...               0               0            0   \n",
       "4             2  ...               0               0            0   \n",
       "...         ...  ...             ...             ...          ...   \n",
       "11157         1  ...               0               0            0   \n",
       "11158         4  ...               0               0            0   \n",
       "11159         2  ...               1               0            0   \n",
       "11160         2  ...               1               0            0   \n",
       "11161         1  ...               1               0            0   \n",
       "\n",
       "       marital_divorced  marital_married  marital_single  education_primary  \\\n",
       "0                     0                1               0                  0   \n",
       "1                     0                1               0                  0   \n",
       "2                     0                1               0                  0   \n",
       "3                     0                1               0                  0   \n",
       "4                     0                1               0                  0   \n",
       "...                 ...              ...             ...                ...   \n",
       "11157                 0                0               1                  1   \n",
       "11158                 0                1               0                  0   \n",
       "11159                 0                0               1                  0   \n",
       "11160                 0                1               0                  0   \n",
       "11161                 0                1               0                  0   \n",
       "\n",
       "       education_secondary  education_tertiary  education_unknown  \n",
       "0                        1                   0                  0  \n",
       "1                        1                   0                  0  \n",
       "2                        1                   0                  0  \n",
       "3                        1                   0                  0  \n",
       "4                        0                   1                  0  \n",
       "...                    ...                 ...                ...  \n",
       "11157                    0                   0                  0  \n",
       "11158                    1                   0                  0  \n",
       "11159                    1                   0                  0  \n",
       "11160                    1                   0                  0  \n",
       "11161                    1                   0                  0  \n",
       "\n",
       "[10449 rows x 32 columns]"
      ]
     },
     "execution_count": 33,
     "metadata": {},
     "output_type": "execute_result"
    }
   ],
   "source": [
    "df"
   ]
  },
  {
   "cell_type": "markdown",
   "id": "6eb8366c",
   "metadata": {
    "papermill": {
     "duration": 0.040892,
     "end_time": "2022-07-08T12:48:07.970288",
     "exception": false,
     "start_time": "2022-07-08T12:48:07.929396",
     "status": "completed"
    },
    "tags": []
   },
   "source": [
    "### Reset Index - \n",
    "* Make correction in Index No"
   ]
  },
  {
   "cell_type": "code",
   "execution_count": 34,
   "id": "8dc94bb0",
   "metadata": {
    "execution": {
     "iopub.execute_input": "2022-07-08T12:48:08.054134Z",
     "iopub.status.busy": "2022-07-08T12:48:08.053746Z",
     "iopub.status.idle": "2022-07-08T12:48:08.060501Z",
     "shell.execute_reply": "2022-07-08T12:48:08.059286Z"
    },
    "papermill": {
     "duration": 0.051305,
     "end_time": "2022-07-08T12:48:08.062661",
     "exception": false,
     "start_time": "2022-07-08T12:48:08.011356",
     "status": "completed"
    },
    "tags": []
   },
   "outputs": [],
   "source": [
    "df=df.reset_index()"
   ]
  },
  {
   "cell_type": "code",
   "execution_count": 35,
   "id": "6fa271e6",
   "metadata": {
    "execution": {
     "iopub.execute_input": "2022-07-08T12:48:08.148641Z",
     "iopub.status.busy": "2022-07-08T12:48:08.148254Z",
     "iopub.status.idle": "2022-07-08T12:48:08.156585Z",
     "shell.execute_reply": "2022-07-08T12:48:08.155140Z"
    },
    "papermill": {
     "duration": 0.054095,
     "end_time": "2022-07-08T12:48:08.158987",
     "exception": false,
     "start_time": "2022-07-08T12:48:08.104892",
     "status": "completed"
    },
    "tags": []
   },
   "outputs": [],
   "source": [
    "df.drop('index',axis=1,inplace=True)"
   ]
  },
  {
   "cell_type": "code",
   "execution_count": 36,
   "id": "f828ad4a",
   "metadata": {
    "execution": {
     "iopub.execute_input": "2022-07-08T12:48:08.243256Z",
     "iopub.status.busy": "2022-07-08T12:48:08.242835Z",
     "iopub.status.idle": "2022-07-08T12:48:08.264647Z",
     "shell.execute_reply": "2022-07-08T12:48:08.263532Z"
    },
    "papermill": {
     "duration": 0.066742,
     "end_time": "2022-07-08T12:48:08.266773",
     "exception": false,
     "start_time": "2022-07-08T12:48:08.200031",
     "status": "completed"
    },
    "tags": []
   },
   "outputs": [
    {
     "data": {
      "text/html": [
       "<div>\n",
       "<style scoped>\n",
       "    .dataframe tbody tr th:only-of-type {\n",
       "        vertical-align: middle;\n",
       "    }\n",
       "\n",
       "    .dataframe tbody tr th {\n",
       "        vertical-align: top;\n",
       "    }\n",
       "\n",
       "    .dataframe thead th {\n",
       "        text-align: right;\n",
       "    }\n",
       "</style>\n",
       "<table border=\"1\" class=\"dataframe\">\n",
       "  <thead>\n",
       "    <tr style=\"text-align: right;\">\n",
       "      <th></th>\n",
       "      <th>age</th>\n",
       "      <th>default</th>\n",
       "      <th>balance</th>\n",
       "      <th>housing</th>\n",
       "      <th>loan</th>\n",
       "      <th>contact</th>\n",
       "      <th>day</th>\n",
       "      <th>month</th>\n",
       "      <th>duration</th>\n",
       "      <th>campaign</th>\n",
       "      <th>...</th>\n",
       "      <th>job_technician</th>\n",
       "      <th>job_unemployed</th>\n",
       "      <th>job_unknown</th>\n",
       "      <th>marital_divorced</th>\n",
       "      <th>marital_married</th>\n",
       "      <th>marital_single</th>\n",
       "      <th>education_primary</th>\n",
       "      <th>education_secondary</th>\n",
       "      <th>education_tertiary</th>\n",
       "      <th>education_unknown</th>\n",
       "    </tr>\n",
       "  </thead>\n",
       "  <tbody>\n",
       "    <tr>\n",
       "      <th>0</th>\n",
       "      <td>59</td>\n",
       "      <td>0</td>\n",
       "      <td>2343</td>\n",
       "      <td>1</td>\n",
       "      <td>0</td>\n",
       "      <td>2</td>\n",
       "      <td>5</td>\n",
       "      <td>8</td>\n",
       "      <td>1042</td>\n",
       "      <td>1</td>\n",
       "      <td>...</td>\n",
       "      <td>0</td>\n",
       "      <td>0</td>\n",
       "      <td>0</td>\n",
       "      <td>0</td>\n",
       "      <td>1</td>\n",
       "      <td>0</td>\n",
       "      <td>0</td>\n",
       "      <td>1</td>\n",
       "      <td>0</td>\n",
       "      <td>0</td>\n",
       "    </tr>\n",
       "    <tr>\n",
       "      <th>1</th>\n",
       "      <td>56</td>\n",
       "      <td>0</td>\n",
       "      <td>45</td>\n",
       "      <td>0</td>\n",
       "      <td>0</td>\n",
       "      <td>2</td>\n",
       "      <td>5</td>\n",
       "      <td>8</td>\n",
       "      <td>1467</td>\n",
       "      <td>1</td>\n",
       "      <td>...</td>\n",
       "      <td>0</td>\n",
       "      <td>0</td>\n",
       "      <td>0</td>\n",
       "      <td>0</td>\n",
       "      <td>1</td>\n",
       "      <td>0</td>\n",
       "      <td>0</td>\n",
       "      <td>1</td>\n",
       "      <td>0</td>\n",
       "      <td>0</td>\n",
       "    </tr>\n",
       "    <tr>\n",
       "      <th>2</th>\n",
       "      <td>41</td>\n",
       "      <td>0</td>\n",
       "      <td>1270</td>\n",
       "      <td>1</td>\n",
       "      <td>0</td>\n",
       "      <td>2</td>\n",
       "      <td>5</td>\n",
       "      <td>8</td>\n",
       "      <td>1389</td>\n",
       "      <td>1</td>\n",
       "      <td>...</td>\n",
       "      <td>1</td>\n",
       "      <td>0</td>\n",
       "      <td>0</td>\n",
       "      <td>0</td>\n",
       "      <td>1</td>\n",
       "      <td>0</td>\n",
       "      <td>0</td>\n",
       "      <td>1</td>\n",
       "      <td>0</td>\n",
       "      <td>0</td>\n",
       "    </tr>\n",
       "    <tr>\n",
       "      <th>3</th>\n",
       "      <td>55</td>\n",
       "      <td>0</td>\n",
       "      <td>2476</td>\n",
       "      <td>1</td>\n",
       "      <td>0</td>\n",
       "      <td>2</td>\n",
       "      <td>5</td>\n",
       "      <td>8</td>\n",
       "      <td>579</td>\n",
       "      <td>1</td>\n",
       "      <td>...</td>\n",
       "      <td>0</td>\n",
       "      <td>0</td>\n",
       "      <td>0</td>\n",
       "      <td>0</td>\n",
       "      <td>1</td>\n",
       "      <td>0</td>\n",
       "      <td>0</td>\n",
       "      <td>1</td>\n",
       "      <td>0</td>\n",
       "      <td>0</td>\n",
       "    </tr>\n",
       "    <tr>\n",
       "      <th>4</th>\n",
       "      <td>54</td>\n",
       "      <td>0</td>\n",
       "      <td>184</td>\n",
       "      <td>0</td>\n",
       "      <td>0</td>\n",
       "      <td>2</td>\n",
       "      <td>5</td>\n",
       "      <td>8</td>\n",
       "      <td>673</td>\n",
       "      <td>2</td>\n",
       "      <td>...</td>\n",
       "      <td>0</td>\n",
       "      <td>0</td>\n",
       "      <td>0</td>\n",
       "      <td>0</td>\n",
       "      <td>1</td>\n",
       "      <td>0</td>\n",
       "      <td>0</td>\n",
       "      <td>0</td>\n",
       "      <td>1</td>\n",
       "      <td>0</td>\n",
       "    </tr>\n",
       "    <tr>\n",
       "      <th>...</th>\n",
       "      <td>...</td>\n",
       "      <td>...</td>\n",
       "      <td>...</td>\n",
       "      <td>...</td>\n",
       "      <td>...</td>\n",
       "      <td>...</td>\n",
       "      <td>...</td>\n",
       "      <td>...</td>\n",
       "      <td>...</td>\n",
       "      <td>...</td>\n",
       "      <td>...</td>\n",
       "      <td>...</td>\n",
       "      <td>...</td>\n",
       "      <td>...</td>\n",
       "      <td>...</td>\n",
       "      <td>...</td>\n",
       "      <td>...</td>\n",
       "      <td>...</td>\n",
       "      <td>...</td>\n",
       "      <td>...</td>\n",
       "      <td>...</td>\n",
       "    </tr>\n",
       "    <tr>\n",
       "      <th>10444</th>\n",
       "      <td>33</td>\n",
       "      <td>0</td>\n",
       "      <td>1</td>\n",
       "      <td>1</td>\n",
       "      <td>0</td>\n",
       "      <td>0</td>\n",
       "      <td>20</td>\n",
       "      <td>0</td>\n",
       "      <td>257</td>\n",
       "      <td>1</td>\n",
       "      <td>...</td>\n",
       "      <td>0</td>\n",
       "      <td>0</td>\n",
       "      <td>0</td>\n",
       "      <td>0</td>\n",
       "      <td>0</td>\n",
       "      <td>1</td>\n",
       "      <td>1</td>\n",
       "      <td>0</td>\n",
       "      <td>0</td>\n",
       "      <td>0</td>\n",
       "    </tr>\n",
       "    <tr>\n",
       "      <th>10445</th>\n",
       "      <td>39</td>\n",
       "      <td>0</td>\n",
       "      <td>733</td>\n",
       "      <td>0</td>\n",
       "      <td>0</td>\n",
       "      <td>2</td>\n",
       "      <td>16</td>\n",
       "      <td>6</td>\n",
       "      <td>83</td>\n",
       "      <td>4</td>\n",
       "      <td>...</td>\n",
       "      <td>0</td>\n",
       "      <td>0</td>\n",
       "      <td>0</td>\n",
       "      <td>0</td>\n",
       "      <td>1</td>\n",
       "      <td>0</td>\n",
       "      <td>0</td>\n",
       "      <td>1</td>\n",
       "      <td>0</td>\n",
       "      <td>0</td>\n",
       "    </tr>\n",
       "    <tr>\n",
       "      <th>10446</th>\n",
       "      <td>32</td>\n",
       "      <td>0</td>\n",
       "      <td>29</td>\n",
       "      <td>0</td>\n",
       "      <td>0</td>\n",
       "      <td>0</td>\n",
       "      <td>19</td>\n",
       "      <td>1</td>\n",
       "      <td>156</td>\n",
       "      <td>2</td>\n",
       "      <td>...</td>\n",
       "      <td>1</td>\n",
       "      <td>0</td>\n",
       "      <td>0</td>\n",
       "      <td>0</td>\n",
       "      <td>0</td>\n",
       "      <td>1</td>\n",
       "      <td>0</td>\n",
       "      <td>1</td>\n",
       "      <td>0</td>\n",
       "      <td>0</td>\n",
       "    </tr>\n",
       "    <tr>\n",
       "      <th>10447</th>\n",
       "      <td>43</td>\n",
       "      <td>0</td>\n",
       "      <td>0</td>\n",
       "      <td>0</td>\n",
       "      <td>1</td>\n",
       "      <td>0</td>\n",
       "      <td>8</td>\n",
       "      <td>8</td>\n",
       "      <td>9</td>\n",
       "      <td>2</td>\n",
       "      <td>...</td>\n",
       "      <td>1</td>\n",
       "      <td>0</td>\n",
       "      <td>0</td>\n",
       "      <td>0</td>\n",
       "      <td>1</td>\n",
       "      <td>0</td>\n",
       "      <td>0</td>\n",
       "      <td>1</td>\n",
       "      <td>0</td>\n",
       "      <td>0</td>\n",
       "    </tr>\n",
       "    <tr>\n",
       "      <th>10448</th>\n",
       "      <td>34</td>\n",
       "      <td>0</td>\n",
       "      <td>0</td>\n",
       "      <td>0</td>\n",
       "      <td>0</td>\n",
       "      <td>0</td>\n",
       "      <td>9</td>\n",
       "      <td>5</td>\n",
       "      <td>628</td>\n",
       "      <td>1</td>\n",
       "      <td>...</td>\n",
       "      <td>1</td>\n",
       "      <td>0</td>\n",
       "      <td>0</td>\n",
       "      <td>0</td>\n",
       "      <td>1</td>\n",
       "      <td>0</td>\n",
       "      <td>0</td>\n",
       "      <td>1</td>\n",
       "      <td>0</td>\n",
       "      <td>0</td>\n",
       "    </tr>\n",
       "  </tbody>\n",
       "</table>\n",
       "<p>10449 rows × 32 columns</p>\n",
       "</div>"
      ],
      "text/plain": [
       "       age  default  balance  housing  loan  contact  day  month  duration  \\\n",
       "0       59        0     2343        1     0        2    5      8      1042   \n",
       "1       56        0       45        0     0        2    5      8      1467   \n",
       "2       41        0     1270        1     0        2    5      8      1389   \n",
       "3       55        0     2476        1     0        2    5      8       579   \n",
       "4       54        0      184        0     0        2    5      8       673   \n",
       "...    ...      ...      ...      ...   ...      ...  ...    ...       ...   \n",
       "10444   33        0        1        1     0        0   20      0       257   \n",
       "10445   39        0      733        0     0        2   16      6        83   \n",
       "10446   32        0       29        0     0        0   19      1       156   \n",
       "10447   43        0        0        0     1        0    8      8         9   \n",
       "10448   34        0        0        0     0        0    9      5       628   \n",
       "\n",
       "       campaign  ...  job_technician  job_unemployed  job_unknown  \\\n",
       "0             1  ...               0               0            0   \n",
       "1             1  ...               0               0            0   \n",
       "2             1  ...               1               0            0   \n",
       "3             1  ...               0               0            0   \n",
       "4             2  ...               0               0            0   \n",
       "...         ...  ...             ...             ...          ...   \n",
       "10444         1  ...               0               0            0   \n",
       "10445         4  ...               0               0            0   \n",
       "10446         2  ...               1               0            0   \n",
       "10447         2  ...               1               0            0   \n",
       "10448         1  ...               1               0            0   \n",
       "\n",
       "       marital_divorced  marital_married  marital_single  education_primary  \\\n",
       "0                     0                1               0                  0   \n",
       "1                     0                1               0                  0   \n",
       "2                     0                1               0                  0   \n",
       "3                     0                1               0                  0   \n",
       "4                     0                1               0                  0   \n",
       "...                 ...              ...             ...                ...   \n",
       "10444                 0                0               1                  1   \n",
       "10445                 0                1               0                  0   \n",
       "10446                 0                0               1                  0   \n",
       "10447                 0                1               0                  0   \n",
       "10448                 0                1               0                  0   \n",
       "\n",
       "       education_secondary  education_tertiary  education_unknown  \n",
       "0                        1                   0                  0  \n",
       "1                        1                   0                  0  \n",
       "2                        1                   0                  0  \n",
       "3                        1                   0                  0  \n",
       "4                        0                   1                  0  \n",
       "...                    ...                 ...                ...  \n",
       "10444                    0                   0                  0  \n",
       "10445                    1                   0                  0  \n",
       "10446                    1                   0                  0  \n",
       "10447                    1                   0                  0  \n",
       "10448                    1                   0                  0  \n",
       "\n",
       "[10449 rows x 32 columns]"
      ]
     },
     "execution_count": 36,
     "metadata": {},
     "output_type": "execute_result"
    }
   ],
   "source": [
    "df"
   ]
  },
  {
   "cell_type": "markdown",
   "id": "3a4240fb",
   "metadata": {
    "papermill": {
     "duration": 0.041133,
     "end_time": "2022-07-08T12:48:08.349622",
     "exception": false,
     "start_time": "2022-07-08T12:48:08.308489",
     "status": "completed"
    },
    "tags": []
   },
   "source": [
    "<div style=\"color:white;\n",
    "           display:fill;\n",
    "           border-radius:15px;\n",
    "           background-color:blue;\n",
    "           font-size:120%;\n",
    "           font-family:#afd511;\n",
    "           letter-spacing:0.5px\">\n",
    "\n",
    "<h3 style=\"padding: 15px; color:white; text-align:center\"><b>Data Preprocessing</b></h3>\n",
    "</div>"
   ]
  },
  {
   "cell_type": "markdown",
   "id": "5d83764c",
   "metadata": {
    "papermill": {
     "duration": 0.041334,
     "end_time": "2022-07-08T12:48:08.432354",
     "exception": false,
     "start_time": "2022-07-08T12:48:08.391020",
     "status": "completed"
    },
    "tags": []
   },
   "source": [
    "# Data Preprocessing"
   ]
  },
  {
   "cell_type": "markdown",
   "id": "bf8b7479",
   "metadata": {
    "papermill": {
     "duration": 0.041218,
     "end_time": "2022-07-08T12:48:08.515352",
     "exception": false,
     "start_time": "2022-07-08T12:48:08.474134",
     "status": "completed"
    },
    "tags": []
   },
   "source": [
    "### Import Library "
   ]
  },
  {
   "cell_type": "code",
   "execution_count": 37,
   "id": "e3c98f2f",
   "metadata": {
    "execution": {
     "iopub.execute_input": "2022-07-08T12:48:08.600592Z",
     "iopub.status.busy": "2022-07-08T12:48:08.600193Z",
     "iopub.status.idle": "2022-07-08T12:48:08.664306Z",
     "shell.execute_reply": "2022-07-08T12:48:08.663353Z"
    },
    "papermill": {
     "duration": 0.109315,
     "end_time": "2022-07-08T12:48:08.666584",
     "exception": false,
     "start_time": "2022-07-08T12:48:08.557269",
     "status": "completed"
    },
    "tags": []
   },
   "outputs": [],
   "source": [
    "from sklearn.pipeline import make_pipeline\n",
    "from sklearn.model_selection import StratifiedShuffleSplit, StratifiedKFold\n",
    "from sklearn.model_selection import cross_val_score\n",
    "from sklearn.model_selection import GridSearchCV"
   ]
  },
  {
   "cell_type": "markdown",
   "id": "6a157391",
   "metadata": {
    "papermill": {
     "duration": 0.041904,
     "end_time": "2022-07-08T12:48:08.750743",
     "exception": false,
     "start_time": "2022-07-08T12:48:08.708839",
     "status": "completed"
    },
    "tags": []
   },
   "source": [
    "### Split Inputs and Output features\n",
    "* X -  **Independent Varables** (Inputs features)\n",
    "* Y -  **Dependent Varables** (target or output variable)"
   ]
  },
  {
   "cell_type": "code",
   "execution_count": 38,
   "id": "60f6503b",
   "metadata": {
    "execution": {
     "iopub.execute_input": "2022-07-08T12:48:08.835890Z",
     "iopub.status.busy": "2022-07-08T12:48:08.835514Z",
     "iopub.status.idle": "2022-07-08T12:48:08.842547Z",
     "shell.execute_reply": "2022-07-08T12:48:08.841458Z"
    },
    "papermill": {
     "duration": 0.052142,
     "end_time": "2022-07-08T12:48:08.844769",
     "exception": false,
     "start_time": "2022-07-08T12:48:08.792627",
     "status": "completed"
    },
    "tags": []
   },
   "outputs": [],
   "source": [
    "X = df.drop('deposit',axis=1)\n",
    "Y = df['deposit']"
   ]
  },
  {
   "cell_type": "code",
   "execution_count": 39,
   "id": "fcdf268d",
   "metadata": {
    "execution": {
     "iopub.execute_input": "2022-07-08T12:48:08.931829Z",
     "iopub.status.busy": "2022-07-08T12:48:08.931093Z",
     "iopub.status.idle": "2022-07-08T12:48:08.937914Z",
     "shell.execute_reply": "2022-07-08T12:48:08.937085Z"
    },
    "papermill": {
     "duration": 0.05245,
     "end_time": "2022-07-08T12:48:08.939980",
     "exception": false,
     "start_time": "2022-07-08T12:48:08.887530",
     "status": "completed"
    },
    "tags": []
   },
   "outputs": [
    {
     "data": {
      "text/plain": [
       "0        1\n",
       "1        1\n",
       "2        1\n",
       "3        1\n",
       "4        1\n",
       "        ..\n",
       "10444    0\n",
       "10445    0\n",
       "10446    0\n",
       "10447    0\n",
       "10448    0\n",
       "Name: deposit, Length: 10449, dtype: int64"
      ]
     },
     "execution_count": 39,
     "metadata": {},
     "output_type": "execute_result"
    }
   ],
   "source": [
    "Y"
   ]
  },
  {
   "cell_type": "markdown",
   "id": "e7522280",
   "metadata": {
    "papermill": {
     "duration": 0.042112,
     "end_time": "2022-07-08T12:48:09.025718",
     "exception": false,
     "start_time": "2022-07-08T12:48:08.983606",
     "status": "completed"
    },
    "tags": []
   },
   "source": [
    "### StratifiedShuffleSplit -- To make equal category ratio for train and test data set\n",
    "* StratifiedShuffleSplit is a combination of both ShuffleSplit and StratifiedKFold. Using StratifiedShuffleSplit the proportion of distribution of class labels is almost even between train and test dataset. \n",
    "* The major difference between StratifiedShuffleSplit and StratifiedKFold (shuffle=True) is that in StratifiedKFold, the dataset is shuffled only once in the beginning and then split into the specified number of folds. This discards any chances of overlapping of the train-test sets. \n",
    "* However, in StratifiedShuffleSplit the data is shuffled each time before the split is done and this is why there’s a greater chance that overlapping might be possible between train-test sets. "
   ]
  },
  {
   "cell_type": "code",
   "execution_count": 40,
   "id": "7656ebbe",
   "metadata": {
    "execution": {
     "iopub.execute_input": "2022-07-08T12:48:09.113056Z",
     "iopub.status.busy": "2022-07-08T12:48:09.112291Z",
     "iopub.status.idle": "2022-07-08T12:48:09.125998Z",
     "shell.execute_reply": "2022-07-08T12:48:09.125090Z"
    },
    "papermill": {
     "duration": 0.06007,
     "end_time": "2022-07-08T12:48:09.128359",
     "exception": false,
     "start_time": "2022-07-08T12:48:09.068289",
     "status": "completed"
    },
    "tags": []
   },
   "outputs": [],
   "source": [
    "sss = StratifiedShuffleSplit(n_splits=1,test_size=0.3,random_state=1)\n",
    "for train_index,test_index in sss.split(X,Y):\n",
    "    train_df = df.loc[train_index]\n",
    "    test_df = df.loc[test_index]"
   ]
  },
  {
   "cell_type": "markdown",
   "id": "bd5bf07f",
   "metadata": {
    "papermill": {
     "duration": 0.041685,
     "end_time": "2022-07-08T12:48:09.212362",
     "exception": false,
     "start_time": "2022-07-08T12:48:09.170677",
     "status": "completed"
    },
    "tags": []
   },
   "source": [
    "### Category Ratio for Train & Test dataset"
   ]
  },
  {
   "cell_type": "code",
   "execution_count": 41,
   "id": "4d9abfbe",
   "metadata": {
    "execution": {
     "iopub.execute_input": "2022-07-08T12:48:09.300008Z",
     "iopub.status.busy": "2022-07-08T12:48:09.299286Z",
     "iopub.status.idle": "2022-07-08T12:48:09.307685Z",
     "shell.execute_reply": "2022-07-08T12:48:09.306677Z"
    },
    "papermill": {
     "duration": 0.055931,
     "end_time": "2022-07-08T12:48:09.310208",
     "exception": false,
     "start_time": "2022-07-08T12:48:09.254277",
     "status": "completed"
    },
    "tags": []
   },
   "outputs": [
    {
     "name": "stdout",
     "output_type": "stream",
     "text": [
      "Ratio for train dataset\n",
      "0    0.51504\n",
      "1    0.48496\n",
      "Name: deposit, dtype: float64\n",
      "\n",
      "ratio for test dataset\n",
      "0    0.515152\n",
      "1    0.484848\n",
      "Name: deposit, dtype: float64\n"
     ]
    }
   ],
   "source": [
    "print(\"Ratio for train dataset\")\n",
    "print(train_df['deposit'].value_counts()/train_df.shape[0])\n",
    "print()\n",
    "print(\"ratio for test dataset\")\n",
    "print(test_df['deposit'].value_counts()/test_df.shape[0])"
   ]
  },
  {
   "cell_type": "markdown",
   "id": "8ce69810",
   "metadata": {
    "papermill": {
     "duration": 0.042124,
     "end_time": "2022-07-08T12:48:09.394813",
     "exception": false,
     "start_time": "2022-07-08T12:48:09.352689",
     "status": "completed"
    },
    "tags": []
   },
   "source": [
    "### Train and Test dataset"
   ]
  },
  {
   "cell_type": "code",
   "execution_count": 42,
   "id": "bbb35aaa",
   "metadata": {
    "execution": {
     "iopub.execute_input": "2022-07-08T12:48:09.481025Z",
     "iopub.status.busy": "2022-07-08T12:48:09.480326Z",
     "iopub.status.idle": "2022-07-08T12:48:09.487428Z",
     "shell.execute_reply": "2022-07-08T12:48:09.486630Z"
    },
    "papermill": {
     "duration": 0.053084,
     "end_time": "2022-07-08T12:48:09.489823",
     "exception": false,
     "start_time": "2022-07-08T12:48:09.436739",
     "status": "completed"
    },
    "tags": []
   },
   "outputs": [],
   "source": [
    "X_train = train_df.drop(\"deposit\",axis=1)\n",
    "Y_train = train_df['deposit']\n",
    "\n",
    "X_test = test_df.drop(\"deposit\",axis=1)\n",
    "Y_test = test_df['deposit']"
   ]
  },
  {
   "cell_type": "code",
   "execution_count": 43,
   "id": "c3a49161",
   "metadata": {
    "execution": {
     "iopub.execute_input": "2022-07-08T12:48:09.577362Z",
     "iopub.status.busy": "2022-07-08T12:48:09.576667Z",
     "iopub.status.idle": "2022-07-08T12:48:09.595116Z",
     "shell.execute_reply": "2022-07-08T12:48:09.594375Z"
    },
    "papermill": {
     "duration": 0.064563,
     "end_time": "2022-07-08T12:48:09.597107",
     "exception": false,
     "start_time": "2022-07-08T12:48:09.532544",
     "status": "completed"
    },
    "tags": []
   },
   "outputs": [
    {
     "data": {
      "text/html": [
       "<div>\n",
       "<style scoped>\n",
       "    .dataframe tbody tr th:only-of-type {\n",
       "        vertical-align: middle;\n",
       "    }\n",
       "\n",
       "    .dataframe tbody tr th {\n",
       "        vertical-align: top;\n",
       "    }\n",
       "\n",
       "    .dataframe thead th {\n",
       "        text-align: right;\n",
       "    }\n",
       "</style>\n",
       "<table border=\"1\" class=\"dataframe\">\n",
       "  <thead>\n",
       "    <tr style=\"text-align: right;\">\n",
       "      <th></th>\n",
       "      <th>age</th>\n",
       "      <th>default</th>\n",
       "      <th>balance</th>\n",
       "      <th>housing</th>\n",
       "      <th>loan</th>\n",
       "      <th>contact</th>\n",
       "      <th>day</th>\n",
       "      <th>month</th>\n",
       "      <th>duration</th>\n",
       "      <th>campaign</th>\n",
       "      <th>...</th>\n",
       "      <th>job_technician</th>\n",
       "      <th>job_unemployed</th>\n",
       "      <th>job_unknown</th>\n",
       "      <th>marital_divorced</th>\n",
       "      <th>marital_married</th>\n",
       "      <th>marital_single</th>\n",
       "      <th>education_primary</th>\n",
       "      <th>education_secondary</th>\n",
       "      <th>education_tertiary</th>\n",
       "      <th>education_unknown</th>\n",
       "    </tr>\n",
       "  </thead>\n",
       "  <tbody>\n",
       "    <tr>\n",
       "      <th>5461</th>\n",
       "      <td>28</td>\n",
       "      <td>0</td>\n",
       "      <td>674</td>\n",
       "      <td>1</td>\n",
       "      <td>0</td>\n",
       "      <td>1</td>\n",
       "      <td>14</td>\n",
       "      <td>8</td>\n",
       "      <td>921</td>\n",
       "      <td>4</td>\n",
       "      <td>...</td>\n",
       "      <td>0</td>\n",
       "      <td>0</td>\n",
       "      <td>0</td>\n",
       "      <td>0</td>\n",
       "      <td>1</td>\n",
       "      <td>0</td>\n",
       "      <td>1</td>\n",
       "      <td>0</td>\n",
       "      <td>0</td>\n",
       "      <td>0</td>\n",
       "    </tr>\n",
       "    <tr>\n",
       "      <th>4220</th>\n",
       "      <td>36</td>\n",
       "      <td>0</td>\n",
       "      <td>324</td>\n",
       "      <td>1</td>\n",
       "      <td>1</td>\n",
       "      <td>0</td>\n",
       "      <td>16</td>\n",
       "      <td>5</td>\n",
       "      <td>830</td>\n",
       "      <td>1</td>\n",
       "      <td>...</td>\n",
       "      <td>0</td>\n",
       "      <td>0</td>\n",
       "      <td>0</td>\n",
       "      <td>0</td>\n",
       "      <td>1</td>\n",
       "      <td>0</td>\n",
       "      <td>0</td>\n",
       "      <td>1</td>\n",
       "      <td>0</td>\n",
       "      <td>0</td>\n",
       "    </tr>\n",
       "    <tr>\n",
       "      <th>5530</th>\n",
       "      <td>56</td>\n",
       "      <td>0</td>\n",
       "      <td>1480</td>\n",
       "      <td>1</td>\n",
       "      <td>1</td>\n",
       "      <td>0</td>\n",
       "      <td>5</td>\n",
       "      <td>3</td>\n",
       "      <td>576</td>\n",
       "      <td>1</td>\n",
       "      <td>...</td>\n",
       "      <td>1</td>\n",
       "      <td>0</td>\n",
       "      <td>0</td>\n",
       "      <td>1</td>\n",
       "      <td>0</td>\n",
       "      <td>0</td>\n",
       "      <td>0</td>\n",
       "      <td>1</td>\n",
       "      <td>0</td>\n",
       "      <td>0</td>\n",
       "    </tr>\n",
       "    <tr>\n",
       "      <th>4249</th>\n",
       "      <td>31</td>\n",
       "      <td>0</td>\n",
       "      <td>26965</td>\n",
       "      <td>0</td>\n",
       "      <td>0</td>\n",
       "      <td>0</td>\n",
       "      <td>21</td>\n",
       "      <td>0</td>\n",
       "      <td>654</td>\n",
       "      <td>2</td>\n",
       "      <td>...</td>\n",
       "      <td>0</td>\n",
       "      <td>0</td>\n",
       "      <td>0</td>\n",
       "      <td>0</td>\n",
       "      <td>0</td>\n",
       "      <td>1</td>\n",
       "      <td>1</td>\n",
       "      <td>0</td>\n",
       "      <td>0</td>\n",
       "      <td>0</td>\n",
       "    </tr>\n",
       "    <tr>\n",
       "      <th>9514</th>\n",
       "      <td>30</td>\n",
       "      <td>0</td>\n",
       "      <td>177</td>\n",
       "      <td>1</td>\n",
       "      <td>0</td>\n",
       "      <td>0</td>\n",
       "      <td>9</td>\n",
       "      <td>0</td>\n",
       "      <td>62</td>\n",
       "      <td>2</td>\n",
       "      <td>...</td>\n",
       "      <td>0</td>\n",
       "      <td>0</td>\n",
       "      <td>0</td>\n",
       "      <td>0</td>\n",
       "      <td>1</td>\n",
       "      <td>0</td>\n",
       "      <td>0</td>\n",
       "      <td>1</td>\n",
       "      <td>0</td>\n",
       "      <td>0</td>\n",
       "    </tr>\n",
       "    <tr>\n",
       "      <th>...</th>\n",
       "      <td>...</td>\n",
       "      <td>...</td>\n",
       "      <td>...</td>\n",
       "      <td>...</td>\n",
       "      <td>...</td>\n",
       "      <td>...</td>\n",
       "      <td>...</td>\n",
       "      <td>...</td>\n",
       "      <td>...</td>\n",
       "      <td>...</td>\n",
       "      <td>...</td>\n",
       "      <td>...</td>\n",
       "      <td>...</td>\n",
       "      <td>...</td>\n",
       "      <td>...</td>\n",
       "      <td>...</td>\n",
       "      <td>...</td>\n",
       "      <td>...</td>\n",
       "      <td>...</td>\n",
       "      <td>...</td>\n",
       "      <td>...</td>\n",
       "    </tr>\n",
       "    <tr>\n",
       "      <th>8100</th>\n",
       "      <td>34</td>\n",
       "      <td>0</td>\n",
       "      <td>425</td>\n",
       "      <td>1</td>\n",
       "      <td>0</td>\n",
       "      <td>0</td>\n",
       "      <td>16</td>\n",
       "      <td>5</td>\n",
       "      <td>1389</td>\n",
       "      <td>7</td>\n",
       "      <td>...</td>\n",
       "      <td>0</td>\n",
       "      <td>0</td>\n",
       "      <td>0</td>\n",
       "      <td>0</td>\n",
       "      <td>1</td>\n",
       "      <td>0</td>\n",
       "      <td>1</td>\n",
       "      <td>0</td>\n",
       "      <td>0</td>\n",
       "      <td>0</td>\n",
       "    </tr>\n",
       "    <tr>\n",
       "      <th>4223</th>\n",
       "      <td>27</td>\n",
       "      <td>0</td>\n",
       "      <td>11862</td>\n",
       "      <td>0</td>\n",
       "      <td>0</td>\n",
       "      <td>0</td>\n",
       "      <td>25</td>\n",
       "      <td>9</td>\n",
       "      <td>285</td>\n",
       "      <td>2</td>\n",
       "      <td>...</td>\n",
       "      <td>1</td>\n",
       "      <td>0</td>\n",
       "      <td>0</td>\n",
       "      <td>0</td>\n",
       "      <td>0</td>\n",
       "      <td>1</td>\n",
       "      <td>0</td>\n",
       "      <td>0</td>\n",
       "      <td>1</td>\n",
       "      <td>0</td>\n",
       "    </tr>\n",
       "    <tr>\n",
       "      <th>343</th>\n",
       "      <td>26</td>\n",
       "      <td>0</td>\n",
       "      <td>551</td>\n",
       "      <td>0</td>\n",
       "      <td>0</td>\n",
       "      <td>0</td>\n",
       "      <td>8</td>\n",
       "      <td>5</td>\n",
       "      <td>531</td>\n",
       "      <td>1</td>\n",
       "      <td>...</td>\n",
       "      <td>0</td>\n",
       "      <td>0</td>\n",
       "      <td>0</td>\n",
       "      <td>0</td>\n",
       "      <td>0</td>\n",
       "      <td>1</td>\n",
       "      <td>0</td>\n",
       "      <td>1</td>\n",
       "      <td>0</td>\n",
       "      <td>0</td>\n",
       "    </tr>\n",
       "    <tr>\n",
       "      <th>4449</th>\n",
       "      <td>41</td>\n",
       "      <td>0</td>\n",
       "      <td>5517</td>\n",
       "      <td>1</td>\n",
       "      <td>0</td>\n",
       "      <td>0</td>\n",
       "      <td>10</td>\n",
       "      <td>5</td>\n",
       "      <td>584</td>\n",
       "      <td>1</td>\n",
       "      <td>...</td>\n",
       "      <td>0</td>\n",
       "      <td>0</td>\n",
       "      <td>0</td>\n",
       "      <td>0</td>\n",
       "      <td>1</td>\n",
       "      <td>0</td>\n",
       "      <td>0</td>\n",
       "      <td>1</td>\n",
       "      <td>0</td>\n",
       "      <td>0</td>\n",
       "    </tr>\n",
       "    <tr>\n",
       "      <th>2983</th>\n",
       "      <td>76</td>\n",
       "      <td>0</td>\n",
       "      <td>2223</td>\n",
       "      <td>0</td>\n",
       "      <td>0</td>\n",
       "      <td>1</td>\n",
       "      <td>4</td>\n",
       "      <td>3</td>\n",
       "      <td>429</td>\n",
       "      <td>1</td>\n",
       "      <td>...</td>\n",
       "      <td>0</td>\n",
       "      <td>0</td>\n",
       "      <td>0</td>\n",
       "      <td>0</td>\n",
       "      <td>1</td>\n",
       "      <td>0</td>\n",
       "      <td>1</td>\n",
       "      <td>0</td>\n",
       "      <td>0</td>\n",
       "      <td>0</td>\n",
       "    </tr>\n",
       "  </tbody>\n",
       "</table>\n",
       "<p>7314 rows × 31 columns</p>\n",
       "</div>"
      ],
      "text/plain": [
       "      age  default  balance  housing  loan  contact  day  month  duration  \\\n",
       "5461   28        0      674        1     0        1   14      8       921   \n",
       "4220   36        0      324        1     1        0   16      5       830   \n",
       "5530   56        0     1480        1     1        0    5      3       576   \n",
       "4249   31        0    26965        0     0        0   21      0       654   \n",
       "9514   30        0      177        1     0        0    9      0        62   \n",
       "...   ...      ...      ...      ...   ...      ...  ...    ...       ...   \n",
       "8100   34        0      425        1     0        0   16      5      1389   \n",
       "4223   27        0    11862        0     0        0   25      9       285   \n",
       "343    26        0      551        0     0        0    8      5       531   \n",
       "4449   41        0     5517        1     0        0   10      5       584   \n",
       "2983   76        0     2223        0     0        1    4      3       429   \n",
       "\n",
       "      campaign  ...  job_technician  job_unemployed  job_unknown  \\\n",
       "5461         4  ...               0               0            0   \n",
       "4220         1  ...               0               0            0   \n",
       "5530         1  ...               1               0            0   \n",
       "4249         2  ...               0               0            0   \n",
       "9514         2  ...               0               0            0   \n",
       "...        ...  ...             ...             ...          ...   \n",
       "8100         7  ...               0               0            0   \n",
       "4223         2  ...               1               0            0   \n",
       "343          1  ...               0               0            0   \n",
       "4449         1  ...               0               0            0   \n",
       "2983         1  ...               0               0            0   \n",
       "\n",
       "      marital_divorced  marital_married  marital_single  education_primary  \\\n",
       "5461                 0                1               0                  1   \n",
       "4220                 0                1               0                  0   \n",
       "5530                 1                0               0                  0   \n",
       "4249                 0                0               1                  1   \n",
       "9514                 0                1               0                  0   \n",
       "...                ...              ...             ...                ...   \n",
       "8100                 0                1               0                  1   \n",
       "4223                 0                0               1                  0   \n",
       "343                  0                0               1                  0   \n",
       "4449                 0                1               0                  0   \n",
       "2983                 0                1               0                  1   \n",
       "\n",
       "      education_secondary  education_tertiary  education_unknown  \n",
       "5461                    0                   0                  0  \n",
       "4220                    1                   0                  0  \n",
       "5530                    1                   0                  0  \n",
       "4249                    0                   0                  0  \n",
       "9514                    1                   0                  0  \n",
       "...                   ...                 ...                ...  \n",
       "8100                    0                   0                  0  \n",
       "4223                    0                   1                  0  \n",
       "343                     1                   0                  0  \n",
       "4449                    1                   0                  0  \n",
       "2983                    0                   0                  0  \n",
       "\n",
       "[7314 rows x 31 columns]"
      ]
     },
     "execution_count": 43,
     "metadata": {},
     "output_type": "execute_result"
    }
   ],
   "source": [
    "X_train"
   ]
  },
  {
   "cell_type": "markdown",
   "id": "fb23b8cd",
   "metadata": {
    "papermill": {
     "duration": 0.041791,
     "end_time": "2022-07-08T12:48:09.681298",
     "exception": false,
     "start_time": "2022-07-08T12:48:09.639507",
     "status": "completed"
    },
    "tags": []
   },
   "source": [
    "## Features Scaling -\n",
    "* Feature Scaling is a technique to normalize/standardize the independent features present in the dataset in a fixed range.\n",
    "* As there are some algorithms such as Logistic regression KNN SVM that required scaling data to maximize accuracy\n",
    "\n",
    "### Why Feature Scaling?\n",
    "* Some machine learning algorithms are sensitive, they work on distance formulas and use gradient descent as an optimizer. Having values on the same scales helps gradient descent to reach global minima smoothly. For example, Logistic regression, Support Vector Machine, K Nearest Neighbours, K-Means…"
   ]
  },
  {
   "cell_type": "code",
   "execution_count": 44,
   "id": "5eceb36b",
   "metadata": {
    "execution": {
     "iopub.execute_input": "2022-07-08T12:48:09.767332Z",
     "iopub.status.busy": "2022-07-08T12:48:09.766656Z",
     "iopub.status.idle": "2022-07-08T12:48:09.780630Z",
     "shell.execute_reply": "2022-07-08T12:48:09.779675Z"
    },
    "papermill": {
     "duration": 0.059729,
     "end_time": "2022-07-08T12:48:09.782979",
     "exception": false,
     "start_time": "2022-07-08T12:48:09.723250",
     "status": "completed"
    },
    "tags": []
   },
   "outputs": [],
   "source": [
    "from sklearn.preprocessing import StandardScaler\n",
    "ss = StandardScaler()\n",
    "X_train_s = ss.fit_transform(X_train)\n",
    "X_test_s = ss.transform(X_test)"
   ]
  },
  {
   "cell_type": "markdown",
   "id": "735ac4b1",
   "metadata": {
    "papermill": {
     "duration": 0.042637,
     "end_time": "2022-07-08T12:48:09.868343",
     "exception": false,
     "start_time": "2022-07-08T12:48:09.825706",
     "status": "completed"
    },
    "tags": []
   },
   "source": [
    "<div style=\"color:white;\n",
    "           display:fill;\n",
    "           border-radius:15px;\n",
    "           background-color:blue;\n",
    "           font-size:120%;\n",
    "           font-family:#afd511;\n",
    "           letter-spacing:0.5px\">\n",
    "\n",
    "<h3 style=\"padding: 15px; color:white; text-align:center\"><b>Model Training and Model Evaluation</b></h3>\n",
    "</div>"
   ]
  },
  {
   "cell_type": "markdown",
   "id": "bdea4884",
   "metadata": {
    "papermill": {
     "duration": 0.042973,
     "end_time": "2022-07-08T12:48:09.953590",
     "exception": false,
     "start_time": "2022-07-08T12:48:09.910617",
     "status": "completed"
    },
    "tags": []
   },
   "source": [
    "# Model Training"
   ]
  },
  {
   "cell_type": "markdown",
   "id": "618cf46a",
   "metadata": {
    "papermill": {
     "duration": 0.042143,
     "end_time": "2022-07-08T12:48:10.038071",
     "exception": false,
     "start_time": "2022-07-08T12:48:09.995928",
     "status": "completed"
    },
    "tags": []
   },
   "source": [
    "* Train model with differents classification algorithms \n",
    "* compare performance and accuray of differents algorithms\n",
    "* Calculate cross validation score \n",
    "* Compare their recall score "
   ]
  },
  {
   "cell_type": "markdown",
   "id": "3279b0eb",
   "metadata": {
    "papermill": {
     "duration": 0.042541,
     "end_time": "2022-07-08T12:48:10.123491",
     "exception": false,
     "start_time": "2022-07-08T12:48:10.080950",
     "status": "completed"
    },
    "tags": []
   },
   "source": [
    "## Import all library need for model training"
   ]
  },
  {
   "cell_type": "code",
   "execution_count": 45,
   "id": "a41b94ce",
   "metadata": {
    "execution": {
     "iopub.execute_input": "2022-07-08T12:48:10.211059Z",
     "iopub.status.busy": "2022-07-08T12:48:10.210378Z",
     "iopub.status.idle": "2022-07-08T12:48:10.469467Z",
     "shell.execute_reply": "2022-07-08T12:48:10.468015Z"
    },
    "papermill": {
     "duration": 0.306046,
     "end_time": "2022-07-08T12:48:10.472370",
     "exception": false,
     "start_time": "2022-07-08T12:48:10.166324",
     "status": "completed"
    },
    "tags": []
   },
   "outputs": [],
   "source": [
    "#importing all the required ML packages\n",
    "from sklearn.linear_model import LogisticRegression #logistic regression\n",
    "from sklearn import svm #support vector Machine\n",
    "from sklearn.ensemble import RandomForestClassifier #Random Forest\n",
    "from sklearn.neighbors import KNeighborsClassifier #KNN\n",
    "from sklearn.naive_bayes import GaussianNB #Naive bayes\n",
    "from sklearn.tree import DecisionTreeClassifier #Decision Tree\n",
    "from sklearn.model_selection import train_test_split #training and testing data split\n",
    "from sklearn import metrics #accuracy measure\n",
    "from sklearn.metrics import confusion_matrix #for confusion matrix\n",
    "from sklearn.metrics import classification_report\n",
    "from sklearn.preprocessing import StandardScaler"
   ]
  },
  {
   "cell_type": "markdown",
   "id": "93d354e8",
   "metadata": {
    "papermill": {
     "duration": 0.042925,
     "end_time": "2022-07-08T12:48:10.557611",
     "exception": false,
     "start_time": "2022-07-08T12:48:10.514686",
     "status": "completed"
    },
    "tags": []
   },
   "source": [
    "### Logistic Regression"
   ]
  },
  {
   "cell_type": "code",
   "execution_count": 46,
   "id": "b4841c51",
   "metadata": {
    "execution": {
     "iopub.execute_input": "2022-07-08T12:48:10.647971Z",
     "iopub.status.busy": "2022-07-08T12:48:10.647564Z",
     "iopub.status.idle": "2022-07-08T12:48:10.689454Z",
     "shell.execute_reply": "2022-07-08T12:48:10.687394Z"
    },
    "papermill": {
     "duration": 0.093924,
     "end_time": "2022-07-08T12:48:10.694805",
     "exception": false,
     "start_time": "2022-07-08T12:48:10.600881",
     "status": "completed"
    },
    "tags": []
   },
   "outputs": [
    {
     "name": "stdout",
     "output_type": "stream",
     "text": [
      "Testing Accuracy of LogisticRegression :  0.7894736842105263\n",
      "Training Accuracy of LogisticRegression :  0.7950505879135904\n"
     ]
    }
   ],
   "source": [
    "lr= LogisticRegression()\n",
    "\n",
    "lr.fit(X_train_s,Y_train)\n",
    "Y_pred_lr = lr.predict(X_test_s)\n",
    "\n",
    "print(\"Testing Accuracy of LogisticRegression : \",metrics.accuracy_score(Y_test,Y_pred_lr))\n",
    "#print(\"Accuracy of LogisticRegression\",pipe_lr.score(X_test,Y_test))\n",
    "\n",
    "print(\"Training Accuracy of LogisticRegression : \",lr.score(X_train_s,Y_train))"
   ]
  },
  {
   "cell_type": "markdown",
   "id": "47e5b723",
   "metadata": {
    "papermill": {
     "duration": 0.052021,
     "end_time": "2022-07-08T12:48:10.837109",
     "exception": false,
     "start_time": "2022-07-08T12:48:10.785088",
     "status": "completed"
    },
    "tags": []
   },
   "source": [
    "### SVM (Suport Vector Machine)"
   ]
  },
  {
   "cell_type": "code",
   "execution_count": 47,
   "id": "d1f44128",
   "metadata": {
    "execution": {
     "iopub.execute_input": "2022-07-08T12:48:10.925497Z",
     "iopub.status.busy": "2022-07-08T12:48:10.925081Z",
     "iopub.status.idle": "2022-07-08T12:48:16.933775Z",
     "shell.execute_reply": "2022-07-08T12:48:16.932210Z"
    },
    "papermill": {
     "duration": 6.055878,
     "end_time": "2022-07-08T12:48:16.936445",
     "exception": false,
     "start_time": "2022-07-08T12:48:10.880567",
     "status": "completed"
    },
    "tags": []
   },
   "outputs": [
    {
     "name": "stdout",
     "output_type": "stream",
     "text": [
      "Testing Accuracy of SVM :  0.7933014354066986\n",
      "Training Accuracy of SVM :  0.7955974842767296\n"
     ]
    }
   ],
   "source": [
    "svm=svm.SVC(kernel='linear')\n",
    "\n",
    "svm.fit(X_train_s,Y_train)\n",
    "Y_pred_svm = svm.predict(X_test_s)\n",
    "\n",
    "print(\"Testing Accuracy of SVM : \",metrics.accuracy_score(Y_test,Y_pred_svm))\n",
    "#print(\"Accuracy of LogisticRegression\",pipe_lr.score(X_test,Y_test))\n",
    "\n",
    "print(\"Training Accuracy of SVM : \",svm.score(X_train_s,Y_train))"
   ]
  },
  {
   "cell_type": "markdown",
   "id": "fc2bdc1b",
   "metadata": {
    "papermill": {
     "duration": 0.042797,
     "end_time": "2022-07-08T12:48:17.023520",
     "exception": false,
     "start_time": "2022-07-08T12:48:16.980723",
     "status": "completed"
    },
    "tags": []
   },
   "source": [
    "### Decision Tree"
   ]
  },
  {
   "cell_type": "code",
   "execution_count": 48,
   "id": "795457d9",
   "metadata": {
    "execution": {
     "iopub.execute_input": "2022-07-08T12:48:17.112330Z",
     "iopub.status.busy": "2022-07-08T12:48:17.111273Z",
     "iopub.status.idle": "2022-07-08T12:48:17.171929Z",
     "shell.execute_reply": "2022-07-08T12:48:17.170290Z"
    },
    "papermill": {
     "duration": 0.106977,
     "end_time": "2022-07-08T12:48:17.174460",
     "exception": false,
     "start_time": "2022-07-08T12:48:17.067483",
     "status": "completed"
    },
    "tags": []
   },
   "outputs": [
    {
     "name": "stdout",
     "output_type": "stream",
     "text": [
      "Testing Accuracy of Decision Tree :  0.7859649122807018\n",
      "Training Accuracy of Decision Tree :  1.0\n"
     ]
    }
   ],
   "source": [
    "dt= DecisionTreeClassifier()\n",
    "\n",
    "dt.fit(X_train_s,Y_train)\n",
    "Y_pred_dt = dt.predict(X_test_s)\n",
    "\n",
    "print(\"Testing Accuracy of Decision Tree : \",metrics.accuracy_score(Y_test,Y_pred_dt))\n",
    "#print(\"Accuracy of LogisticRegression\",pipe_lr.score(X_test,Y_test))\n",
    "\n",
    "print(\"Training Accuracy of Decision Tree : \",dt.score(X_train_s,Y_train))"
   ]
  },
  {
   "cell_type": "markdown",
   "id": "34811aa6",
   "metadata": {
    "papermill": {
     "duration": 0.042278,
     "end_time": "2022-07-08T12:48:17.259943",
     "exception": false,
     "start_time": "2022-07-08T12:48:17.217665",
     "status": "completed"
    },
    "tags": []
   },
   "source": [
    "### K-Nearest Neighbours(KNN)"
   ]
  },
  {
   "cell_type": "code",
   "execution_count": 49,
   "id": "d8f33ded",
   "metadata": {
    "execution": {
     "iopub.execute_input": "2022-07-08T12:48:17.350582Z",
     "iopub.status.busy": "2022-07-08T12:48:17.349424Z",
     "iopub.status.idle": "2022-07-08T12:48:19.594462Z",
     "shell.execute_reply": "2022-07-08T12:48:19.592953Z"
    },
    "papermill": {
     "duration": 2.293803,
     "end_time": "2022-07-08T12:48:19.596929",
     "exception": false,
     "start_time": "2022-07-08T12:48:17.303126",
     "status": "completed"
    },
    "tags": []
   },
   "outputs": [
    {
     "name": "stdout",
     "output_type": "stream",
     "text": [
      "Testing Accuracy of KNN :  0.7282296650717703\n",
      "Training Accuracy of KNN :  0.8185671315285753\n"
     ]
    }
   ],
   "source": [
    "knn= KNeighborsClassifier(n_neighbors=5)\n",
    "\n",
    "knn.fit(X_train_s,Y_train)\n",
    "Y_pred_knn = knn.predict(X_test_s)\n",
    "\n",
    "print(\"Testing Accuracy of KNN : \",metrics.accuracy_score(Y_test,Y_pred_knn))\n",
    "#print(\"Accuracy of LogisticRegression\",pipe_lr.score(X_test,Y_test))\n",
    "\n",
    "print(\"Training Accuracy of KNN : \",knn.score(X_train_s,Y_train))"
   ]
  },
  {
   "cell_type": "code",
   "execution_count": 50,
   "id": "8fd1d676",
   "metadata": {
    "execution": {
     "iopub.execute_input": "2022-07-08T12:48:19.684083Z",
     "iopub.status.busy": "2022-07-08T12:48:19.683377Z",
     "iopub.status.idle": "2022-07-08T12:48:44.454398Z",
     "shell.execute_reply": "2022-07-08T12:48:44.453252Z"
    },
    "papermill": {
     "duration": 24.817219,
     "end_time": "2022-07-08T12:48:44.456973",
     "exception": false,
     "start_time": "2022-07-08T12:48:19.639754",
     "status": "completed"
    },
    "tags": []
   },
   "outputs": [
    {
     "name": "stdout",
     "output_type": "stream",
     "text": [
      "For K=1 test accuracy score is 0.703030303030303 :\n",
      "For K=1 train accuracy score is 0.703030303030303 :\n",
      "\n",
      "For K=3 test accuracy score is 0.7250398724082935 :\n",
      "For K=3 train accuracy score is 0.7250398724082935 :\n",
      "\n",
      "For K=5 test accuracy score is 0.7282296650717703 :\n",
      "For K=5 train accuracy score is 0.7282296650717703 :\n",
      "\n",
      "For K=7 test accuracy score is 0.727591706539075 :\n",
      "For K=7 train accuracy score is 0.727591706539075 :\n",
      "\n",
      "For K=9 test accuracy score is 0.7355661881977671 :\n",
      "For K=9 train accuracy score is 0.7355661881977671 :\n",
      "\n",
      "For K=11 test accuracy score is 0.7349282296650718 :\n",
      "For K=11 train accuracy score is 0.7349282296650718 :\n",
      "\n",
      "For K=13 test accuracy score is 0.7317384370015949 :\n",
      "For K=13 train accuracy score is 0.7317384370015949 :\n",
      "\n",
      "For K=15 test accuracy score is 0.733652312599681 :\n",
      "For K=15 train accuracy score is 0.733652312599681 :\n",
      "\n",
      "For K=17 test accuracy score is 0.7317384370015949 :\n",
      "For K=17 train accuracy score is 0.7317384370015949 :\n",
      "\n",
      "For K=19 test accuracy score is 0.7288676236044657 :\n",
      "For K=19 train accuracy score is 0.7288676236044657 :\n",
      "\n",
      "For K=21 test accuracy score is 0.7311004784688995 :\n",
      "For K=21 train accuracy score is 0.7311004784688995 :\n",
      "\n",
      "For K=23 test accuracy score is 0.7301435406698564 :\n",
      "For K=23 train accuracy score is 0.7301435406698564 :\n",
      "\n"
     ]
    }
   ],
   "source": [
    "l = list(range(1,25,2))\n",
    "for i in l:\n",
    "    knn1= KNeighborsClassifier(n_neighbors=i)\n",
    "    knn1.fit(X_train_s,Y_train)\n",
    "    Y_pred = knn1.predict(X_test_s)\n",
    "    accuracy = metrics.accuracy_score(Y_test,Y_pred)\n",
    "    train_acc = knn1.score(X_train_s,Y_train)\n",
    "    print(f\"For K={i} test accuracy score is {accuracy} :\".format(i,accuracy))\n",
    "    print(f\"For K={i} train accuracy score is {accuracy} :\".format(i,train_acc))\n",
    "    print()"
   ]
  },
  {
   "cell_type": "markdown",
   "id": "7ca4cee5",
   "metadata": {
    "papermill": {
     "duration": 0.044392,
     "end_time": "2022-07-08T12:48:44.546076",
     "exception": false,
     "start_time": "2022-07-08T12:48:44.501684",
     "status": "completed"
    },
    "tags": []
   },
   "source": [
    "### Gaussian Naive Bayes"
   ]
  },
  {
   "cell_type": "code",
   "execution_count": 51,
   "id": "f09378b3",
   "metadata": {
    "execution": {
     "iopub.execute_input": "2022-07-08T12:48:44.640696Z",
     "iopub.status.busy": "2022-07-08T12:48:44.639500Z",
     "iopub.status.idle": "2022-07-08T12:48:44.659094Z",
     "shell.execute_reply": "2022-07-08T12:48:44.657730Z"
    },
    "papermill": {
     "duration": 0.06918,
     "end_time": "2022-07-08T12:48:44.662071",
     "exception": false,
     "start_time": "2022-07-08T12:48:44.592891",
     "status": "completed"
    },
    "tags": []
   },
   "outputs": [
    {
     "name": "stdout",
     "output_type": "stream",
     "text": [
      "Testing Accuracy of Naive Bayes :  0.7282296650717703\n",
      "Training Accuracy of Naive Bayes :  0.7108285479901558\n"
     ]
    }
   ],
   "source": [
    "nb= GaussianNB()\n",
    "\n",
    "nb.fit(X_train_s,Y_train)\n",
    "Y_pred_nb = nb.predict(X_test_s)\n",
    "\n",
    "print(\"Testing Accuracy of Naive Bayes : \",metrics.accuracy_score(Y_test,Y_pred_knn))\n",
    "#print(\"Accuracy of LogisticRegression\",pipe_lr.score(X_test,Y_test))\n",
    "\n",
    "print(\"Training Accuracy of Naive Bayes : \",nb.score(X_train_s,Y_train))"
   ]
  },
  {
   "cell_type": "markdown",
   "id": "86f96ac1",
   "metadata": {
    "papermill": {
     "duration": 0.045044,
     "end_time": "2022-07-08T12:48:44.751911",
     "exception": false,
     "start_time": "2022-07-08T12:48:44.706867",
     "status": "completed"
    },
    "tags": []
   },
   "source": [
    "### Random Forest"
   ]
  },
  {
   "cell_type": "code",
   "execution_count": 52,
   "id": "da18f616",
   "metadata": {
    "execution": {
     "iopub.execute_input": "2022-07-08T12:48:44.844452Z",
     "iopub.status.busy": "2022-07-08T12:48:44.843804Z",
     "iopub.status.idle": "2022-07-08T12:48:47.089806Z",
     "shell.execute_reply": "2022-07-08T12:48:47.088478Z"
    },
    "papermill": {
     "duration": 2.296059,
     "end_time": "2022-07-08T12:48:47.092853",
     "exception": false,
     "start_time": "2022-07-08T12:48:44.796794",
     "status": "completed"
    },
    "tags": []
   },
   "outputs": [
    {
     "name": "stdout",
     "output_type": "stream",
     "text": [
      "Testing Accuracy of RF :  0.8350877192982457\n",
      "Training Accuracy of RF :  1.0\n"
     ]
    }
   ],
   "source": [
    "rf = RandomForestClassifier(n_estimators=200)\n",
    "\n",
    "rf.fit(X_train,Y_train)\n",
    "Y_pred_rf = rf.predict(X_test)\n",
    "\n",
    "print(\"Testing Accuracy of RF : \",metrics.accuracy_score(Y_test,Y_pred_rf))\n",
    "#print(\"Accuracy of LogisticRegression\",pipe_lr.score(X_test,Y_test))\n",
    "\n",
    "print(\"Training Accuracy of RF : \",rf.score(X_train,Y_train))"
   ]
  },
  {
   "cell_type": "markdown",
   "id": "1122e93d",
   "metadata": {
    "papermill": {
     "duration": 0.044607,
     "end_time": "2022-07-08T12:48:47.189530",
     "exception": false,
     "start_time": "2022-07-08T12:48:47.144923",
     "status": "completed"
    },
    "tags": []
   },
   "source": [
    "### Hyperparamter Tunning "
   ]
  },
  {
   "cell_type": "markdown",
   "id": "2b56d9f8",
   "metadata": {
    "papermill": {
     "duration": 0.044495,
     "end_time": "2022-07-08T12:48:47.278608",
     "exception": false,
     "start_time": "2022-07-08T12:48:47.234113",
     "status": "completed"
    },
    "tags": []
   },
   "source": [
    "### SVM"
   ]
  },
  {
   "cell_type": "code",
   "execution_count": 53,
   "id": "83e64c29",
   "metadata": {
    "execution": {
     "iopub.execute_input": "2022-07-08T12:48:47.371365Z",
     "iopub.status.busy": "2022-07-08T12:48:47.370081Z",
     "iopub.status.idle": "2022-07-08T12:48:47.375584Z",
     "shell.execute_reply": "2022-07-08T12:48:47.374603Z"
    },
    "papermill": {
     "duration": 0.054728,
     "end_time": "2022-07-08T12:48:47.377938",
     "exception": false,
     "start_time": "2022-07-08T12:48:47.323210",
     "status": "completed"
    },
    "tags": []
   },
   "outputs": [],
   "source": [
    "from sklearn import svm"
   ]
  },
  {
   "cell_type": "code",
   "execution_count": 54,
   "id": "dff7b360",
   "metadata": {
    "execution": {
     "iopub.execute_input": "2022-07-08T12:48:47.470318Z",
     "iopub.status.busy": "2022-07-08T12:48:47.469502Z",
     "iopub.status.idle": "2022-07-08T12:52:08.918590Z",
     "shell.execute_reply": "2022-07-08T12:52:08.917378Z"
    },
    "papermill": {
     "duration": 201.541444,
     "end_time": "2022-07-08T12:52:08.964062",
     "exception": false,
     "start_time": "2022-07-08T12:48:47.422618",
     "status": "completed"
    },
    "scrolled": true,
    "tags": []
   },
   "outputs": [
    {
     "name": "stdout",
     "output_type": "stream",
     "text": [
      "0.8024380854133494\n",
      "SVC(C=1)\n"
     ]
    }
   ],
   "source": [
    "svm1=svm.SVC()\n",
    "C=[0.05,0.2,0.4,0.6,0.8,1,2,5]\n",
    "\n",
    "hyper={'C':C}\n",
    "model=GridSearchCV(estimator=svm1, param_grid=hyper,cv=10)\n",
    "model.fit(X_train_s,Y_train)\n",
    "print(model.best_score_)\n",
    "print(model.best_estimator_)"
   ]
  },
  {
   "cell_type": "code",
   "execution_count": 55,
   "id": "a802887d",
   "metadata": {
    "execution": {
     "iopub.execute_input": "2022-07-08T12:52:09.055520Z",
     "iopub.status.busy": "2022-07-08T12:52:09.054843Z",
     "iopub.status.idle": "2022-07-08T12:52:11.667556Z",
     "shell.execute_reply": "2022-07-08T12:52:11.666373Z"
    },
    "papermill": {
     "duration": 2.659792,
     "end_time": "2022-07-08T12:52:11.669787",
     "exception": false,
     "start_time": "2022-07-08T12:52:09.009995",
     "status": "completed"
    },
    "tags": []
   },
   "outputs": [
    {
     "data": {
      "text/plain": [
       "SVC(C=1)"
      ]
     },
     "execution_count": 55,
     "metadata": {},
     "output_type": "execute_result"
    }
   ],
   "source": [
    "gd_best=model.best_estimator_\n",
    "gd_best.fit(X_train_s, Y_train)"
   ]
  },
  {
   "cell_type": "code",
   "execution_count": 56,
   "id": "242532ee",
   "metadata": {
    "execution": {
     "iopub.execute_input": "2022-07-08T12:52:11.759059Z",
     "iopub.status.busy": "2022-07-08T12:52:11.758647Z",
     "iopub.status.idle": "2022-07-08T12:52:15.377219Z",
     "shell.execute_reply": "2022-07-08T12:52:15.376003Z"
    },
    "papermill": {
     "duration": 3.666866,
     "end_time": "2022-07-08T12:52:15.380480",
     "exception": false,
     "start_time": "2022-07-08T12:52:11.713614",
     "status": "completed"
    },
    "tags": []
   },
   "outputs": [
    {
     "name": "stdout",
     "output_type": "stream",
     "text": [
      "Test Accuracy : 0.7977671451355662\n",
      "Train Accuracy : 0.8424938474159147\n"
     ]
    }
   ],
   "source": [
    "print(\"Test Accuracy :\",gd_best.score(X_test_s,Y_test))\n",
    "print(\"Train Accuracy :\",gd_best.score(X_train_s,Y_train))"
   ]
  },
  {
   "cell_type": "markdown",
   "id": "b16b3131",
   "metadata": {
    "papermill": {
     "duration": 0.043968,
     "end_time": "2022-07-08T12:52:15.468487",
     "exception": false,
     "start_time": "2022-07-08T12:52:15.424519",
     "status": "completed"
    },
    "tags": []
   },
   "source": [
    "### Gradient Boosting"
   ]
  },
  {
   "cell_type": "code",
   "execution_count": 57,
   "id": "c9d6e585",
   "metadata": {
    "execution": {
     "iopub.execute_input": "2022-07-08T12:52:15.559088Z",
     "iopub.status.busy": "2022-07-08T12:52:15.558477Z",
     "iopub.status.idle": "2022-07-08T12:52:16.752388Z",
     "shell.execute_reply": "2022-07-08T12:52:16.751109Z"
    },
    "papermill": {
     "duration": 1.243333,
     "end_time": "2022-07-08T12:52:16.755864",
     "exception": false,
     "start_time": "2022-07-08T12:52:15.512531",
     "status": "completed"
    },
    "tags": []
   },
   "outputs": [
    {
     "name": "stdout",
     "output_type": "stream",
     "text": [
      "The accuracy of the GB is 0.8373205741626795\n",
      "The accuracy of the GB is 0.8565764287667487\n"
     ]
    }
   ],
   "source": [
    "from sklearn.ensemble import GradientBoostingClassifier\n",
    "gb = GradientBoostingClassifier(random_state=5)\n",
    "\n",
    "gb.fit(X_train_s,Y_train.squeeze().values)\n",
    "y_train_preds = gb.predict(X_train_s)\n",
    "y_test_preds = gb.predict(X_test_s)\n",
    "\n",
    "print('The accuracy of the GB is',metrics.accuracy_score(Y_test,y_test_preds))\n",
    "print('The accuracy of the GB is',metrics.accuracy_score(y_train_preds,Y_train))\n",
    "#result=cross_val_score(pipe_nb,X,Y,cv=10,scoring='accuracy')\n",
    "#print('The cross validated score for Gradient Boosting is:',result.mean())"
   ]
  },
  {
   "cell_type": "markdown",
   "id": "98b54b38",
   "metadata": {
    "papermill": {
     "duration": 0.043527,
     "end_time": "2022-07-08T12:52:16.844163",
     "exception": false,
     "start_time": "2022-07-08T12:52:16.800636",
     "status": "completed"
    },
    "tags": []
   },
   "source": [
    "### XG Boost"
   ]
  },
  {
   "cell_type": "code",
   "execution_count": 58,
   "id": "24789b33",
   "metadata": {
    "execution": {
     "iopub.execute_input": "2022-07-08T12:52:16.934989Z",
     "iopub.status.busy": "2022-07-08T12:52:16.933881Z",
     "iopub.status.idle": "2022-07-08T12:52:17.048447Z",
     "shell.execute_reply": "2022-07-08T12:52:17.047299Z"
    },
    "papermill": {
     "duration": 0.162737,
     "end_time": "2022-07-08T12:52:17.050795",
     "exception": false,
     "start_time": "2022-07-08T12:52:16.888058",
     "status": "completed"
    },
    "tags": []
   },
   "outputs": [],
   "source": [
    "import xgboost "
   ]
  },
  {
   "cell_type": "code",
   "execution_count": 59,
   "id": "e849068d",
   "metadata": {
    "execution": {
     "iopub.execute_input": "2022-07-08T12:52:17.140188Z",
     "iopub.status.busy": "2022-07-08T12:52:17.139769Z",
     "iopub.status.idle": "2022-07-08T12:52:17.958903Z",
     "shell.execute_reply": "2022-07-08T12:52:17.957883Z"
    },
    "papermill": {
     "duration": 0.866948,
     "end_time": "2022-07-08T12:52:17.961544",
     "exception": false,
     "start_time": "2022-07-08T12:52:17.094596",
     "status": "completed"
    },
    "tags": []
   },
   "outputs": [],
   "source": [
    "xgb = xgboost.XGBClassifier(n_estimators=80, learning_rate=0.1, gamma=0, subsample=0.75,\n",
    "                           colsample_bytree=1, max_depth=5)\n",
    "xgb.fit(X_train_s,Y_train.squeeze().values)\n",
    "\n",
    "#calculate and print scores for the model\n",
    "y_train_preds = xgb.predict(X_train_s)\n",
    "y_test_preds = xgb.predict(X_test_s)"
   ]
  },
  {
   "cell_type": "code",
   "execution_count": 60,
   "id": "1659a450",
   "metadata": {
    "execution": {
     "iopub.execute_input": "2022-07-08T12:52:18.051976Z",
     "iopub.status.busy": "2022-07-08T12:52:18.051302Z",
     "iopub.status.idle": "2022-07-08T12:52:18.082036Z",
     "shell.execute_reply": "2022-07-08T12:52:18.080327Z"
    },
    "papermill": {
     "duration": 0.079574,
     "end_time": "2022-07-08T12:52:18.084886",
     "exception": false,
     "start_time": "2022-07-08T12:52:18.005312",
     "status": "completed"
    },
    "tags": []
   },
   "outputs": [
    {
     "name": "stdout",
     "output_type": "stream",
     "text": [
      "0.85103668261563\n",
      "0.8833743505605688\n"
     ]
    }
   ],
   "source": [
    "print(xgb.score(X_test_s,Y_test))\n",
    "print(xgb.score(X_train_s,Y_train))"
   ]
  },
  {
   "cell_type": "code",
   "execution_count": 61,
   "id": "b840cdad",
   "metadata": {
    "execution": {
     "iopub.execute_input": "2022-07-08T12:52:18.174903Z",
     "iopub.status.busy": "2022-07-08T12:52:18.173796Z",
     "iopub.status.idle": "2022-07-08T12:52:18.182092Z",
     "shell.execute_reply": "2022-07-08T12:52:18.180679Z"
    },
    "papermill": {
     "duration": 0.055667,
     "end_time": "2022-07-08T12:52:18.184435",
     "exception": false,
     "start_time": "2022-07-08T12:52:18.128768",
     "status": "completed"
    },
    "tags": []
   },
   "outputs": [
    {
     "name": "stdout",
     "output_type": "stream",
     "text": [
      "The Test accuracy of the XGB is 0.85103668261563\n",
      "The Train accuracy of the XGB is 0.8833743505605688\n"
     ]
    }
   ],
   "source": [
    "print('The Test accuracy of the XGB is',metrics.accuracy_score(Y_test,y_test_preds))\n",
    "print('The Train accuracy of the XGB is',metrics.accuracy_score(y_train_preds,Y_train))"
   ]
  },
  {
   "cell_type": "code",
   "execution_count": 62,
   "id": "358ec9b7",
   "metadata": {
    "execution": {
     "iopub.execute_input": "2022-07-08T12:52:18.275770Z",
     "iopub.status.busy": "2022-07-08T12:52:18.275146Z",
     "iopub.status.idle": "2022-07-08T12:52:18.291959Z",
     "shell.execute_reply": "2022-07-08T12:52:18.290191Z"
    },
    "papermill": {
     "duration": 0.065351,
     "end_time": "2022-07-08T12:52:18.295205",
     "exception": false,
     "start_time": "2022-07-08T12:52:18.229854",
     "status": "completed"
    },
    "tags": []
   },
   "outputs": [
    {
     "name": "stdout",
     "output_type": "stream",
     "text": [
      "              precision    recall  f1-score   support\n",
      "\n",
      "           0       0.88      0.83      0.85      1615\n",
      "           1       0.83      0.87      0.85      1520\n",
      "\n",
      "    accuracy                           0.85      3135\n",
      "   macro avg       0.85      0.85      0.85      3135\n",
      "weighted avg       0.85      0.85      0.85      3135\n",
      "\n",
      "[[1339  276]\n",
      " [ 191 1329]]\n"
     ]
    }
   ],
   "source": [
    "print(classification_report(Y_test,y_test_preds))\n",
    "print(confusion_matrix(Y_test,y_test_preds))"
   ]
  },
  {
   "cell_type": "markdown",
   "id": "531058bc",
   "metadata": {
    "papermill": {
     "duration": 0.102301,
     "end_time": "2022-07-08T12:52:18.442284",
     "exception": false,
     "start_time": "2022-07-08T12:52:18.339983",
     "status": "completed"
    },
    "tags": []
   },
   "source": [
    "* Accuracy of XG boost is very good without overfit"
   ]
  },
  {
   "cell_type": "markdown",
   "id": "2b5631f8",
   "metadata": {
    "papermill": {
     "duration": 0.046332,
     "end_time": "2022-07-08T12:52:18.533526",
     "exception": false,
     "start_time": "2022-07-08T12:52:18.487194",
     "status": "completed"
    },
    "tags": []
   },
   "source": [
    "## Confusuion Matrix :\n",
    "* A confusion matrix is a technique for summarizing the performance of a classification algorithm.\n",
    "* Calculating a confusion matrix can give you a better idea of what your classification model is getting right and what types of errors it is making."
   ]
  },
  {
   "cell_type": "markdown",
   "id": "97b0863d",
   "metadata": {
    "papermill": {
     "duration": 0.044087,
     "end_time": "2022-07-08T12:52:18.622869",
     "exception": false,
     "start_time": "2022-07-08T12:52:18.578782",
     "status": "completed"
    },
    "tags": []
   },
   "source": [
    "![](https://2.bp.blogspot.com/-EvSXDotTOwc/XMfeOGZ-CVI/AAAAAAAAEiE/oePFfvhfOQM11dgRn9FkPxlegCXbgOF4QCLcBGAs/s1600/confusionMatrxiUpdated.jpg)"
   ]
  },
  {
   "cell_type": "markdown",
   "id": "1bcc1f80",
   "metadata": {
    "papermill": {
     "duration": 0.046003,
     "end_time": "2022-07-08T12:52:18.712971",
     "exception": false,
     "start_time": "2022-07-08T12:52:18.666968",
     "status": "completed"
    },
    "tags": []
   },
   "source": [
    "### Accuracy Precision Recall and F1 Score ?"
   ]
  },
  {
   "cell_type": "markdown",
   "id": "bcf45cd3",
   "metadata": {
    "papermill": {
     "duration": 0.044307,
     "end_time": "2022-07-08T12:52:18.801344",
     "exception": false,
     "start_time": "2022-07-08T12:52:18.757037",
     "status": "completed"
    },
    "tags": []
   },
   "source": [
    "**Accuracy** - Accuracy is the measure of total performance of classification model and it is simply a ratio of correctly predicted observation to the total observations.\n",
    "\n",
    "Accuracy = TP+TN/TP+FP+FN+TN\n",
    "\n",
    "**Precision** - Precision is the ratio of correctly predicted positive observations to the total predicted positive observations.\n",
    "\n",
    "Precision = TP/TP+FP\n",
    "\n",
    "**Recall (Sensitivity)** - Recall is the ratio of correctly predicted positive observations to the all observations in actual class - yes.\n",
    "\n",
    "Recall = TP/TP+FN\n",
    "\n",
    "**F1 score** - F1 Score is the weighted average of Precision and Recall. Therefore, this score takes both false positives and false negatives into account. \n",
    "\n",
    "F1 Score = 2*(Recall * Precision) / (Recall + Precision)"
   ]
  },
  {
   "cell_type": "markdown",
   "id": "ee1c5be8",
   "metadata": {
    "papermill": {
     "duration": 0.043849,
     "end_time": "2022-07-08T12:52:18.890952",
     "exception": false,
     "start_time": "2022-07-08T12:52:18.847103",
     "status": "completed"
    },
    "tags": []
   },
   "source": [
    "## Why Recall is IMP here ?"
   ]
  },
  {
   "cell_type": "markdown",
   "id": "7a71c265",
   "metadata": {
    "papermill": {
     "duration": 0.044674,
     "end_time": "2022-07-08T12:52:18.979801",
     "exception": false,
     "start_time": "2022-07-08T12:52:18.935127",
     "status": "completed"
    },
    "tags": []
   },
   "source": [
    "### Recall -- How much percentages from total actual positive class (yes) that are predicted correctly by machine\n",
    "\n",
    "* Person who is actually going to susbcribed for terms deposit should be always predicted correctly in order to have more profit \n",
    "* Means **Recall score should be good**.\n",
    "* FN should be less as possible\n",
    "* So that bank will tagert mainly on those types of customers and increase thier profit income\n",
    "* There is no matter what machine predict for those types of customers which are not actually willing to susbcribed for terms deposit because they are not tagert customers for compnay\n",
    "* But by improving servises quality company can focus those customer in features."
   ]
  },
  {
   "cell_type": "markdown",
   "id": "a6511bba",
   "metadata": {
    "papermill": {
     "duration": 0.044124,
     "end_time": "2022-07-08T12:52:19.069843",
     "exception": false,
     "start_time": "2022-07-08T12:52:19.025719",
     "status": "completed"
    },
    "tags": []
   },
   "source": [
    "### Recall Score : \n",
    "* Here we will mainly focus on Recall Score\n",
    "* Recall score of XG boost is very good i.e **87%**"
   ]
  },
  {
   "cell_type": "markdown",
   "id": "a0d4d660",
   "metadata": {
    "papermill": {
     "duration": 0.046654,
     "end_time": "2022-07-08T12:52:19.161137",
     "exception": false,
     "start_time": "2022-07-08T12:52:19.114483",
     "status": "completed"
    },
    "tags": []
   },
   "source": [
    "### Confusion Matrix of XG boost"
   ]
  },
  {
   "cell_type": "code",
   "execution_count": 63,
   "id": "6c4ed52b",
   "metadata": {
    "execution": {
     "iopub.execute_input": "2022-07-08T12:52:19.253072Z",
     "iopub.status.busy": "2022-07-08T12:52:19.252404Z",
     "iopub.status.idle": "2022-07-08T12:52:19.470029Z",
     "shell.execute_reply": "2022-07-08T12:52:19.469118Z"
    },
    "papermill": {
     "duration": 0.266046,
     "end_time": "2022-07-08T12:52:19.472616",
     "exception": false,
     "start_time": "2022-07-08T12:52:19.206570",
     "status": "completed"
    },
    "tags": []
   },
   "outputs": [
    {
     "data": {
      "image/png": "[encoded data removed]",
      "text/plain": [
       "<Figure size 504x360 with 2 Axes>"
      ]
     },
     "metadata": {
      "needs_background": "light"
     },
     "output_type": "display_data"
    }
   ],
   "source": [
    "plt.figure(figsize=(7,5))\n",
    "sns.heatmap(confusion_matrix(Y_test,y_test_preds),annot=True,cmap=\"OrRd_r\",\n",
    "            fmt=\"d\",cbar=True,xticklabels=['Yes','No'],yticklabels=['Yes','No'],\n",
    "            annot_kws={\"fontsize\":15})\n",
    "plt.show()"
   ]
  },
  {
   "cell_type": "markdown",
   "id": "a2862a47",
   "metadata": {
    "papermill": {
     "duration": 0.044593,
     "end_time": "2022-07-08T12:52:19.563102",
     "exception": false,
     "start_time": "2022-07-08T12:52:19.518509",
     "status": "completed"
    },
    "tags": []
   },
   "source": [
    "## Feature Importance by XG Boost"
   ]
  },
  {
   "cell_type": "code",
   "execution_count": 64,
   "id": "4ad85815",
   "metadata": {
    "execution": {
     "iopub.execute_input": "2022-07-08T12:52:19.654702Z",
     "iopub.status.busy": "2022-07-08T12:52:19.654001Z",
     "iopub.status.idle": "2022-07-08T12:52:19.914962Z",
     "shell.execute_reply": "2022-07-08T12:52:19.913874Z"
    },
    "papermill": {
     "duration": 0.309009,
     "end_time": "2022-07-08T12:52:19.917366",
     "exception": false,
     "start_time": "2022-07-08T12:52:19.608357",
     "status": "completed"
    },
    "tags": []
   },
   "outputs": [
    {
     "data": {
      "image/png": "[encoded data removed]",
      "text/plain": [
       "<Figure size 576x432 with 1 Axes>"
      ]
     },
     "metadata": {
      "needs_background": "light"
     },
     "output_type": "display_data"
    }
   ],
   "source": [
    "# using random forest here to get feature importances\n",
    "plt.figure(figsize=(8,6))\n",
    "importances= xgb.feature_importances_\n",
    "feature_importances= pd.Series(importances, index=X_train.columns).sort_values(ascending=False)\n",
    "sns.barplot(x=feature_importances[:15], y=feature_importances.index[:15], palette=\"rocket\")\n",
    "sns.despine()\n",
    "plt.xlabel(\"Feature Importances\")\n",
    "plt.ylabel(\"Features\")\n",
    "plt.show()"
   ]
  },
  {
   "cell_type": "markdown",
   "id": "e851a280",
   "metadata": {
    "papermill": {
     "duration": 0.044826,
     "end_time": "2022-07-08T12:52:20.008477",
     "exception": false,
     "start_time": "2022-07-08T12:52:19.963651",
     "status": "completed"
    },
    "tags": []
   },
   "source": [
    "## Random Forest"
   ]
  },
  {
   "cell_type": "code",
   "execution_count": 65,
   "id": "6bac9ac0",
   "metadata": {
    "execution": {
     "iopub.execute_input": "2022-07-08T12:52:20.103122Z",
     "iopub.status.busy": "2022-07-08T12:52:20.102685Z",
     "iopub.status.idle": "2022-07-08T12:52:23.240766Z",
     "shell.execute_reply": "2022-07-08T12:52:23.239526Z"
    },
    "papermill": {
     "duration": 3.187434,
     "end_time": "2022-07-08T12:52:23.243388",
     "exception": false,
     "start_time": "2022-07-08T12:52:20.055954",
     "status": "completed"
    },
    "tags": []
   },
   "outputs": [],
   "source": [
    "rf1 =RandomForestClassifier(random_state=0,n_estimators=200,max_features=25,max_depth=10,min_samples_leaf=50)\n",
    "rf1.fit(X_train_s,Y_train.squeeze().values)\n",
    "\n",
    "#calculate and print scores for the model for top 15 features\n",
    "y_train_preds = rf1.predict(X_train_s)\n",
    "y_test_preds = rf1.predict(X_test_s)"
   ]
  },
  {
   "cell_type": "code",
   "execution_count": 66,
   "id": "cd3461de",
   "metadata": {
    "execution": {
     "iopub.execute_input": "2022-07-08T12:52:23.335601Z",
     "iopub.status.busy": "2022-07-08T12:52:23.334911Z",
     "iopub.status.idle": "2022-07-08T12:52:23.606008Z",
     "shell.execute_reply": "2022-07-08T12:52:23.604412Z"
    },
    "papermill": {
     "duration": 0.319675,
     "end_time": "2022-07-08T12:52:23.608547",
     "exception": false,
     "start_time": "2022-07-08T12:52:23.288872",
     "status": "completed"
    },
    "scrolled": true,
    "tags": []
   },
   "outputs": [
    {
     "name": "stdout",
     "output_type": "stream",
     "text": [
      "0.8213716108452951\n",
      "0.8311457478807766\n"
     ]
    }
   ],
   "source": [
    "print(rf1.score(X_test_s,Y_test))\n",
    "print(rf1.score(X_train_s,Y_train))"
   ]
  },
  {
   "cell_type": "code",
   "execution_count": 67,
   "id": "1f26dc47",
   "metadata": {
    "execution": {
     "iopub.execute_input": "2022-07-08T12:52:23.702669Z",
     "iopub.status.busy": "2022-07-08T12:52:23.702269Z",
     "iopub.status.idle": "2022-07-08T12:52:23.719488Z",
     "shell.execute_reply": "2022-07-08T12:52:23.717765Z"
    },
    "papermill": {
     "duration": 0.068983,
     "end_time": "2022-07-08T12:52:23.721968",
     "exception": false,
     "start_time": "2022-07-08T12:52:23.652985",
     "status": "completed"
    },
    "tags": []
   },
   "outputs": [
    {
     "name": "stdout",
     "output_type": "stream",
     "text": [
      "              precision    recall  f1-score   support\n",
      "\n",
      "           0       0.83      0.82      0.83      1615\n",
      "           1       0.81      0.82      0.82      1520\n",
      "\n",
      "    accuracy                           0.82      3135\n",
      "   macro avg       0.82      0.82      0.82      3135\n",
      "weighted avg       0.82      0.82      0.82      3135\n",
      "\n",
      "[[1324  291]\n",
      " [ 269 1251]]\n"
     ]
    }
   ],
   "source": [
    "print(classification_report(Y_test,y_test_preds))\n",
    "print(confusion_matrix(Y_test,y_test_preds))"
   ]
  },
  {
   "cell_type": "markdown",
   "id": "68ba26e7",
   "metadata": {
    "papermill": {
     "duration": 0.044678,
     "end_time": "2022-07-08T12:52:23.811519",
     "exception": false,
     "start_time": "2022-07-08T12:52:23.766841",
     "status": "completed"
    },
    "tags": []
   },
   "source": [
    "### Confusion Matrix By Random Forest"
   ]
  },
  {
   "cell_type": "code",
   "execution_count": 68,
   "id": "6adfc235",
   "metadata": {
    "execution": {
     "iopub.execute_input": "2022-07-08T12:52:23.903846Z",
     "iopub.status.busy": "2022-07-08T12:52:23.903391Z",
     "iopub.status.idle": "2022-07-08T12:52:24.111117Z",
     "shell.execute_reply": "2022-07-08T12:52:24.109793Z"
    },
    "papermill": {
     "duration": 0.257074,
     "end_time": "2022-07-08T12:52:24.113626",
     "exception": false,
     "start_time": "2022-07-08T12:52:23.856552",
     "status": "completed"
    },
    "tags": []
   },
   "outputs": [
    {
     "data": {
      "image/png": "[encoded data removed]",
      "text/plain": [
       "<Figure size 504x360 with 2 Axes>"
      ]
     },
     "metadata": {
      "needs_background": "light"
     },
     "output_type": "display_data"
    }
   ],
   "source": [
    "plt.figure(figsize=(7,5))\n",
    "sns.heatmap(confusion_matrix(Y_test,y_test_preds),annot=True,cmap=\"OrRd_r\",\n",
    "            fmt=\"d\",cbar=True,xticklabels=['Yes','No'],yticklabels=['Yes','No'],\n",
    "            annot_kws={\"fontsize\":15})\n",
    "plt.show()"
   ]
  },
  {
   "cell_type": "markdown",
   "id": "be0eadee",
   "metadata": {
    "papermill": {
     "duration": 0.044639,
     "end_time": "2022-07-08T12:52:24.203145",
     "exception": false,
     "start_time": "2022-07-08T12:52:24.158506",
     "status": "completed"
    },
    "tags": []
   },
   "source": [
    "## Feature Importances by Random Forest"
   ]
  },
  {
   "cell_type": "code",
   "execution_count": 69,
   "id": "34b3c6a0",
   "metadata": {
    "execution": {
     "iopub.execute_input": "2022-07-08T12:52:24.295973Z",
     "iopub.status.busy": "2022-07-08T12:52:24.295566Z",
     "iopub.status.idle": "2022-07-08T12:52:24.535891Z",
     "shell.execute_reply": "2022-07-08T12:52:24.534850Z"
    },
    "papermill": {
     "duration": 0.289473,
     "end_time": "2022-07-08T12:52:24.538465",
     "exception": false,
     "start_time": "2022-07-08T12:52:24.248992",
     "status": "completed"
    },
    "tags": []
   },
   "outputs": [
    {
     "data": {
      "image/png": "[encoded data removed]",
      "text/plain": [
       "<Figure size 576x432 with 1 Axes>"
      ]
     },
     "metadata": {
      "needs_background": "light"
     },
     "output_type": "display_data"
    }
   ],
   "source": [
    "plt.figure(figsize=(8,6))\n",
    "importances= rf1.feature_importances_\n",
    "feature_importances= pd.Series(importances, index=X_train.columns).sort_values(ascending=False)\n",
    "sns.barplot(x=feature_importances[0:10], y=feature_importances.index[0:10], palette=\"rocket\")\n",
    "sns.despine()\n",
    "plt.xlabel(\"Feature Importances\")\n",
    "plt.ylabel(\"Features\")\n",
    "plt.show()"
   ]
  },
  {
   "cell_type": "markdown",
   "id": "2edf082f",
   "metadata": {
    "papermill": {
     "duration": 0.045367,
     "end_time": "2022-07-08T12:52:24.630947",
     "exception": false,
     "start_time": "2022-07-08T12:52:24.585580",
     "status": "completed"
    },
    "tags": []
   },
   "source": [
    "### Conclusion\n",
    "#### Common IMP features which are consider by **xgb boost and random forest** which are:\n",
    "* **Duration**\n",
    "* **contact**\n",
    "* **poutcomes**"
   ]
  },
  {
   "cell_type": "markdown",
   "id": "e83457b1",
   "metadata": {
    "papermill": {
     "duration": 0.045363,
     "end_time": "2022-07-08T12:52:24.721677",
     "exception": false,
     "start_time": "2022-07-08T12:52:24.676314",
     "status": "completed"
    },
    "tags": []
   },
   "source": [
    "### Cross Validation Accuarcy"
   ]
  },
  {
   "cell_type": "code",
   "execution_count": 70,
   "id": "1439aa28",
   "metadata": {
    "execution": {
     "iopub.execute_input": "2022-07-08T12:52:24.816564Z",
     "iopub.status.busy": "2022-07-08T12:52:24.815410Z",
     "iopub.status.idle": "2022-07-08T12:52:30.064524Z",
     "shell.execute_reply": "2022-07-08T12:52:30.062947Z"
    },
    "papermill": {
     "duration": 5.300206,
     "end_time": "2022-07-08T12:52:30.067358",
     "exception": false,
     "start_time": "2022-07-08T12:52:24.767152",
     "status": "completed"
    },
    "tags": []
   },
   "outputs": [
    {
     "name": "stdout",
     "output_type": "stream",
     "text": [
      "CV Mean Accuracy: 84.5%\n"
     ]
    }
   ],
   "source": [
    "## XG Boost\n",
    "gs_svm_scores = cross_val_score(xgb, X=X_train_s, y=Y_train, cv=5,scoring='accuracy', n_jobs=-1)\n",
    "print('CV Mean Accuracy: {0:.1f}%'.format(np.mean(gs_svm_scores)*100))"
   ]
  },
  {
   "cell_type": "code",
   "execution_count": 71,
   "id": "8aa418c3",
   "metadata": {
    "execution": {
     "iopub.execute_input": "2022-07-08T12:52:30.160224Z",
     "iopub.status.busy": "2022-07-08T12:52:30.159780Z",
     "iopub.status.idle": "2022-07-08T12:52:36.204474Z",
     "shell.execute_reply": "2022-07-08T12:52:36.203023Z"
    },
    "papermill": {
     "duration": 6.094391,
     "end_time": "2022-07-08T12:52:36.207186",
     "exception": false,
     "start_time": "2022-07-08T12:52:30.112795",
     "status": "completed"
    },
    "scrolled": true,
    "tags": []
   },
   "outputs": [
    {
     "name": "stdout",
     "output_type": "stream",
     "text": [
      "CV Mean Accuracy: 81.7%\n"
     ]
    }
   ],
   "source": [
    "## Random Forest\n",
    "gs_svm_scores = cross_val_score(rf1, X=X_train_s, y=Y_train, cv=5,scoring='accuracy', n_jobs=-1)\n",
    "print('CV Mean Accuracy: {0:.1f}%'.format(np.mean(gs_svm_scores)*100))"
   ]
  },
  {
   "cell_type": "markdown",
   "id": "7bd952ca",
   "metadata": {
    "papermill": {
     "duration": 0.04525,
     "end_time": "2022-07-08T12:52:36.297970",
     "exception": false,
     "start_time": "2022-07-08T12:52:36.252720",
     "status": "completed"
    },
    "tags": []
   },
   "source": [
    "### Conclusion\n",
    "* Cross validation accuacry of XG boost is greater than random Forest"
   ]
  },
  {
   "cell_type": "markdown",
   "id": "04cc9d9c",
   "metadata": {
    "papermill": {
     "duration": 0.045059,
     "end_time": "2022-07-08T12:52:36.388762",
     "exception": false,
     "start_time": "2022-07-08T12:52:36.343703",
     "status": "completed"
    },
    "tags": []
   },
   "source": [
    "## Threshold parameters of Imp Features :"
   ]
  },
  {
   "cell_type": "markdown",
   "id": "7a945b0e",
   "metadata": {
    "papermill": {
     "duration": 0.045089,
     "end_time": "2022-07-08T12:52:36.479214",
     "exception": false,
     "start_time": "2022-07-08T12:52:36.434125",
     "status": "completed"
    },
    "tags": []
   },
   "source": [
    "### 1. Balance"
   ]
  },
  {
   "cell_type": "code",
   "execution_count": 72,
   "id": "bc26102b",
   "metadata": {
    "execution": {
     "iopub.execute_input": "2022-07-08T12:52:36.571626Z",
     "iopub.status.busy": "2022-07-08T12:52:36.570919Z",
     "iopub.status.idle": "2022-07-08T12:52:36.768142Z",
     "shell.execute_reply": "2022-07-08T12:52:36.766708Z"
    },
    "papermill": {
     "duration": 0.246321,
     "end_time": "2022-07-08T12:52:36.770636",
     "exception": false,
     "start_time": "2022-07-08T12:52:36.524315",
     "status": "completed"
    },
    "tags": []
   },
   "outputs": [
    {
     "data": {
      "image/png": "[encoded data removed]",
      "text/plain": [
       "<Figure size 432x288 with 1 Axes>"
      ]
     },
     "metadata": {
      "needs_background": "light"
     },
     "output_type": "display_data"
    }
   ],
   "source": [
    "#lets create one dataframe df3\n",
    "df3 = pd.DataFrame()\n",
    "df3['balance']=df['balance']\n",
    "\n",
    "df3['deposit']=df['deposit']\n",
    "df3['balance_quantile'] = pd.qcut(df3['balance'], q=25, labels=False, duplicates ='drop')\n",
    "\n",
    "#group by 'balance_buckets' and find average campaign outcome per balance bucket\n",
    "mean_deposit = df3.groupby(['balance_quantile'])['deposit'].mean()\n",
    "\n",
    "#plot\n",
    "plt.plot(mean_deposit.index, mean_deposit.values)\n",
    "plt.title('Mean % subscription depending on account balance')\n",
    "plt.xlabel('balance Quantile')\n",
    "plt.ylabel('Mean probabilty %')\n",
    "plt.show()"
   ]
  },
  {
   "cell_type": "code",
   "execution_count": 73,
   "id": "0eacce10",
   "metadata": {
    "execution": {
     "iopub.execute_input": "2022-07-08T12:52:36.865384Z",
     "iopub.status.busy": "2022-07-08T12:52:36.864075Z",
     "iopub.status.idle": "2022-07-08T12:52:36.891485Z",
     "shell.execute_reply": "2022-07-08T12:52:36.890546Z"
    },
    "papermill": {
     "duration": 0.076866,
     "end_time": "2022-07-08T12:52:36.893510",
     "exception": false,
     "start_time": "2022-07-08T12:52:36.816644",
     "status": "completed"
    },
    "tags": []
   },
   "outputs": [
    {
     "data": {
      "text/plain": [
       "balance_group\n",
       "(2879.0, 3586.0]     0.610048\n",
       "(3586.0, 4721.0]     0.582339\n",
       "(7102.0, 37127.0]    0.574163\n",
       "(2360.0, 2879.0]     0.568345\n",
       "(1938.0, 2360.0]     0.568019\n",
       "(4721.0, 7102.0]     0.565947\n",
       "(1610.0, 1938.0]     0.565947\n",
       "(948.0, 1133.0]      0.529833\n",
       "(1133.0, 1337.0]     0.516827\n",
       "(805.0, 948.0]       0.497608\n",
       "Name: deposit, dtype: float64"
      ]
     },
     "execution_count": 73,
     "metadata": {},
     "output_type": "execute_result"
    }
   ],
   "source": [
    "df3['balance_group'] = pd.qcut(df3['balance'], q=25, precision=0,duplicates ='drop')\n",
    "mean_deposit = df3.groupby(['balance_group'])['deposit'].mean()\n",
    "mean_deposit.sort_values(ascending=False).head(10)"
   ]
  },
  {
   "cell_type": "code",
   "execution_count": 74,
   "id": "09b4111e",
   "metadata": {
    "execution": {
     "iopub.execute_input": "2022-07-08T12:52:36.988689Z",
     "iopub.status.busy": "2022-07-08T12:52:36.987459Z",
     "iopub.status.idle": "2022-07-08T12:52:37.026039Z",
     "shell.execute_reply": "2022-07-08T12:52:37.024330Z"
    },
    "papermill": {
     "duration": 0.090232,
     "end_time": "2022-07-08T12:52:37.029753",
     "exception": false,
     "start_time": "2022-07-08T12:52:36.939521",
     "status": "completed"
    },
    "tags": []
   },
   "outputs": [
    {
     "name": "stdout",
     "output_type": "stream",
     "text": [
      "0 -- (-1.0, 2.0]  Mean prob 0.38416075650118203\n",
      "1 -- (2.0, 32.0]  Mean prob 0.30392156862745096\n",
      "2 -- (32.0, 76.0]  Mean prob 0.4028436018957346\n",
      "3 -- (76.0, 121.0]  Mean prob 0.41204819277108434\n",
      "4 -- (121.0, 169.0]  Mean prob 0.46335697399527187\n",
      "5 -- (169.0, 222.0]  Mean prob 0.38954869358669836\n",
      "6 -- (222.0, 280.0]  Mean prob 0.4819277108433735\n",
      "7 -- (280.0, 336.0]  Mean prob 0.46265060240963857\n",
      "8 -- (336.0, 408.0]  Mean prob 0.4819277108433735\n",
      "9 -- (408.0, 488.0]  Mean prob 0.47494033412887826\n",
      "10 -- (488.0, 577.0]  Mean prob 0.47129186602870815\n",
      "11 -- (577.0, 679.0]  Mean prob 0.4714285714285714\n",
      "12 -- (679.0, 805.0]  Mean prob 0.4650602409638554\n",
      "13 -- (805.0, 948.0]  Mean prob 0.49760765550239233\n",
      "14 -- (948.0, 1133.0]  Mean prob 0.5298329355608592\n",
      "15 -- (1133.0, 1337.0]  Mean prob 0.5168269230769231\n",
      "16 -- (1337.0, 1610.0]  Mean prob 0.49403341288782815\n",
      "17 -- (1610.0, 1938.0]  Mean prob 0.565947242206235\n",
      "18 -- (1938.0, 2360.0]  Mean prob 0.568019093078759\n",
      "19 -- (2360.0, 2879.0]  Mean prob 0.5683453237410072\n",
      "20 -- (2879.0, 3586.0]  Mean prob 0.6100478468899522\n",
      "21 -- (3586.0, 4721.0]  Mean prob 0.5823389021479713\n",
      "22 -- (4721.0, 7102.0]  Mean prob 0.565947242206235\n",
      "23 -- (7102.0, 37127.0]  Mean prob 0.5741626794258373\n"
     ]
    }
   ],
   "source": [
    "for i in range(0,24):\n",
    "    mean=df3[df3['balance_quantile']==i]['deposit'].mean()\n",
    "    print(i,\"--\" ,df3[df3['balance_quantile']==i]['balance_group'].values[0],\" Mean prob\", mean)"
   ]
  },
  {
   "cell_type": "markdown",
   "id": "974df307",
   "metadata": {
    "papermill": {
     "duration": 0.046923,
     "end_time": "2022-07-08T12:52:37.125418",
     "exception": false,
     "start_time": "2022-07-08T12:52:37.078495",
     "status": "completed"
    },
    "tags": []
   },
   "source": [
    "### conclusion\n",
    "* Balace Above 2700 has more has more prob that they will susbriced for deposit "
   ]
  },
  {
   "cell_type": "markdown",
   "id": "d5af79a5",
   "metadata": {
    "papermill": {
     "duration": 0.055783,
     "end_time": "2022-07-08T12:52:37.231786",
     "exception": false,
     "start_time": "2022-07-08T12:52:37.176003",
     "status": "completed"
    },
    "tags": []
   },
   "source": [
    "### 2. Age"
   ]
  },
  {
   "cell_type": "code",
   "execution_count": 75,
   "id": "c12d60e4",
   "metadata": {
    "execution": {
     "iopub.execute_input": "2022-07-08T12:52:37.329042Z",
     "iopub.status.busy": "2022-07-08T12:52:37.328206Z",
     "iopub.status.idle": "2022-07-08T12:52:37.516050Z",
     "shell.execute_reply": "2022-07-08T12:52:37.514895Z"
    },
    "papermill": {
     "duration": 0.240048,
     "end_time": "2022-07-08T12:52:37.518706",
     "exception": false,
     "start_time": "2022-07-08T12:52:37.278658",
     "status": "completed"
    },
    "scrolled": true,
    "tags": []
   },
   "outputs": [
    {
     "data": {
      "image/png": "[encoded data removed]",
      "text/plain": [
       "<Figure size 432x288 with 1 Axes>"
      ]
     },
     "metadata": {
      "needs_background": "light"
     },
     "output_type": "display_data"
    }
   ],
   "source": [
    "df3['age']=df['age']\n",
    "df3['age_quantile'] = pd.qcut(df3['age'], q=25, labels=False, duplicates ='drop')\n",
    "\n",
    "#group by 'age_quantile' and find average campaign outcome per balance bucket\n",
    "mean_deposit = df3.groupby(['age_quantile'])['deposit'].mean()\n",
    "\n",
    "#plot\n",
    "plt.plot(mean_deposit.index, mean_deposit.values)\n",
    "plt.title('Mean % prob for differents age group')\n",
    "plt.xlabel('Age Quantile')\n",
    "plt.ylabel('Mean probabilty %')\n",
    "plt.show()"
   ]
  },
  {
   "cell_type": "code",
   "execution_count": 76,
   "id": "1337deba",
   "metadata": {
    "execution": {
     "iopub.execute_input": "2022-07-08T12:52:37.644528Z",
     "iopub.status.busy": "2022-07-08T12:52:37.643871Z",
     "iopub.status.idle": "2022-07-08T12:52:37.661934Z",
     "shell.execute_reply": "2022-07-08T12:52:37.660910Z"
    },
    "papermill": {
     "duration": 0.089216,
     "end_time": "2022-07-08T12:52:37.664262",
     "exception": false,
     "start_time": "2022-07-08T12:52:37.575046",
     "status": "completed"
    },
    "tags": []
   },
   "outputs": [
    {
     "data": {
      "text/plain": [
       "age_group\n",
       "(65.0, 95.0]    0.803030\n",
       "(59.0, 65.0]    0.742547\n",
       "(17.0, 25.0]    0.723256\n",
       "(25.0, 27.0]    0.578231\n",
       "(27.0, 29.0]    0.550877\n",
       "(29.0, 30.0]    0.487119\n",
       "(57.0, 59.0]    0.478395\n",
       "(31.0, 32.0]    0.475225\n",
       "(36.0, 37.0]    0.472779\n",
       "(34.0, 35.0]    0.467442\n",
       "Name: deposit, dtype: float64"
      ]
     },
     "execution_count": 76,
     "metadata": {},
     "output_type": "execute_result"
    }
   ],
   "source": [
    "df3['age_group'] = pd.qcut(df3['age'], q=25, precision=0,duplicates ='drop')\n",
    "mean_deposit = df3.groupby(['age_group'])['deposit'].mean()\n",
    "mean_deposit.sort_values(ascending=False).head(10)"
   ]
  },
  {
   "cell_type": "code",
   "execution_count": 77,
   "id": "51c55fb5",
   "metadata": {
    "execution": {
     "iopub.execute_input": "2022-07-08T12:52:37.760004Z",
     "iopub.status.busy": "2022-07-08T12:52:37.759590Z",
     "iopub.status.idle": "2022-07-08T12:52:37.800684Z",
     "shell.execute_reply": "2022-07-08T12:52:37.799467Z"
    },
    "papermill": {
     "duration": 0.092465,
     "end_time": "2022-07-08T12:52:37.803798",
     "exception": false,
     "start_time": "2022-07-08T12:52:37.711333",
     "status": "completed"
    },
    "tags": []
   },
   "outputs": [
    {
     "name": "stdout",
     "output_type": "stream",
     "text": [
      "0 -- (17.0, 25.0]  Mean prob 0.7232558139534884\n",
      "1 -- (25.0, 27.0]  Mean prob 0.5782312925170068\n",
      "2 -- (27.0, 29.0]  Mean prob 0.5508771929824562\n",
      "3 -- (29.0, 30.0]  Mean prob 0.48711943793911006\n",
      "4 -- (30.0, 31.0]  Mean prob 0.4329004329004329\n",
      "5 -- (31.0, 32.0]  Mean prob 0.4752252252252252\n",
      "6 -- (32.0, 33.0]  Mean prob 0.4601366742596811\n",
      "7 -- (33.0, 34.0]  Mean prob 0.428246013667426\n",
      "8 -- (34.0, 35.0]  Mean prob 0.46744186046511627\n",
      "9 -- (35.0, 36.0]  Mean prob 0.45742092457420924\n",
      "10 -- (36.0, 37.0]  Mean prob 0.47277936962750716\n",
      "11 -- (37.0, 38.0]  Mean prob 0.42686567164179107\n",
      "12 -- (38.0, 39.0]  Mean prob 0.4228395061728395\n",
      "13 -- (39.0, 41.0]  Mean prob 0.3836805555555556\n",
      "14 -- (41.0, 42.0]  Mean prob 0.39622641509433965\n",
      "15 -- (42.0, 44.0]  Mean prob 0.4088888888888889\n",
      "16 -- (44.0, 46.0]  Mean prob 0.4475374732334047\n",
      "17 -- (46.0, 48.0]  Mean prob 0.42857142857142855\n",
      "18 -- (48.0, 50.0]  Mean prob 0.41265822784810124\n",
      "19 -- (50.0, 52.0]  Mean prob 0.41530054644808745\n",
      "20 -- (52.0, 54.0]  Mean prob 0.4327956989247312\n",
      "21 -- (54.0, 57.0]  Mean prob 0.40417457305502846\n",
      "22 -- (57.0, 59.0]  Mean prob 0.4783950617283951\n",
      "23 -- (59.0, 65.0]  Mean prob 0.7425474254742548\n",
      "24 -- (65.0, 95.0]  Mean prob 0.803030303030303\n"
     ]
    }
   ],
   "source": [
    "for i in range(0,25):\n",
    "    mean=df3[df3['age_quantile']==i]['deposit'].mean()\n",
    "    print(i,\"--\" ,df3[df3['age_quantile']==i]['age_group'].values[0],\" Mean prob\", mean)"
   ]
  },
  {
   "cell_type": "markdown",
   "id": "d6310311",
   "metadata": {
    "papermill": {
     "duration": 0.048628,
     "end_time": "2022-07-08T12:52:37.906460",
     "exception": false,
     "start_time": "2022-07-08T12:52:37.857832",
     "status": "completed"
    },
    "tags": []
   },
   "source": [
    "### concusion\n",
    "* Age group between 17 to 32 and above 57 to 95 are dominate more "
   ]
  },
  {
   "cell_type": "markdown",
   "id": "623909ba",
   "metadata": {
    "papermill": {
     "duration": 0.046924,
     "end_time": "2022-07-08T12:52:38.001893",
     "exception": false,
     "start_time": "2022-07-08T12:52:37.954969",
     "status": "completed"
    },
    "tags": []
   },
   "source": [
    "### 3. Duration"
   ]
  },
  {
   "cell_type": "code",
   "execution_count": 78,
   "id": "9b22b519",
   "metadata": {
    "execution": {
     "iopub.execute_input": "2022-07-08T12:52:38.101501Z",
     "iopub.status.busy": "2022-07-08T12:52:38.100005Z",
     "iopub.status.idle": "2022-07-08T12:52:38.230689Z",
     "shell.execute_reply": "2022-07-08T12:52:38.229340Z"
    },
    "papermill": {
     "duration": 0.184401,
     "end_time": "2022-07-08T12:52:38.234166",
     "exception": false,
     "start_time": "2022-07-08T12:52:38.049765",
     "status": "completed"
    },
    "tags": []
   },
   "outputs": [
    {
     "data": {
      "image/png": "[encoded data removed]",
      "text/plain": [
       "<Figure size 432x288 with 1 Axes>"
      ]
     },
     "metadata": {
      "needs_background": "light"
     },
     "output_type": "display_data"
    }
   ],
   "source": [
    "df3['duration']=df['duration']\n",
    "df3['duration_quantile'] = pd.qcut(df3['duration'], q=25, labels=False, duplicates ='drop')\n",
    "\n",
    "#group by 'age_quantile' and find average campaign outcome per balance bucket\n",
    "mean_deposit = df3.groupby(['duration_quantile'])['deposit'].mean()\n",
    "\n",
    "#plot\n",
    "plt.plot(mean_deposit.index, mean_deposit.values)\n",
    "plt.title('Mean % prob for differents Duartion')\n",
    "plt.xlabel('Duration Quantile')\n",
    "plt.ylabel('Mean probabilty %')\n",
    "plt.show()"
   ]
  },
  {
   "cell_type": "code",
   "execution_count": 79,
   "id": "9420f7f3",
   "metadata": {
    "execution": {
     "iopub.execute_input": "2022-07-08T12:52:38.339175Z",
     "iopub.status.busy": "2022-07-08T12:52:38.338463Z",
     "iopub.status.idle": "2022-07-08T12:52:38.352788Z",
     "shell.execute_reply": "2022-07-08T12:52:38.351605Z"
    },
    "papermill": {
     "duration": 0.066026,
     "end_time": "2022-07-08T12:52:38.355665",
     "exception": false,
     "start_time": "2022-07-08T12:52:38.289639",
     "status": "completed"
    },
    "tags": []
   },
   "outputs": [
    {
     "name": "stdout",
     "output_type": "stream",
     "text": [
      "duration_group\n",
      "(910.0, 1141.0]     0.897375\n",
      "(1141.0, 2775.0]    0.889423\n",
      "(763.0, 910.0]      0.850602\n",
      "(660.0, 763.0]      0.821429\n",
      "(580.0, 660.0]      0.746411\n",
      "(510.0, 580.0]      0.732057\n",
      "(448.0, 510.0]      0.708134\n",
      "(397.0, 448.0]      0.638095\n",
      "(355.0, 397.0]      0.585132\n",
      "(293.0, 323.0]      0.529976\n",
      "Name: deposit, dtype: float64\n"
     ]
    }
   ],
   "source": [
    "df3['duration_group'] = pd.qcut(df3['duration'], q=25, precision=0,duplicates ='drop')\n",
    "mean_deposit = df3.groupby(['duration_group'])['deposit'].mean()\n",
    "print(mean_deposit.sort_values(ascending=False).head(10))"
   ]
  },
  {
   "cell_type": "code",
   "execution_count": 80,
   "id": "cc871290",
   "metadata": {
    "execution": {
     "iopub.execute_input": "2022-07-08T12:52:38.453286Z",
     "iopub.status.busy": "2022-07-08T12:52:38.452647Z",
     "iopub.status.idle": "2022-07-08T12:52:38.495817Z",
     "shell.execute_reply": "2022-07-08T12:52:38.493869Z"
    },
    "papermill": {
     "duration": 0.094973,
     "end_time": "2022-07-08T12:52:38.499061",
     "exception": false,
     "start_time": "2022-07-08T12:52:38.404088",
     "status": "completed"
    },
    "tags": []
   },
   "outputs": [
    {
     "name": "stdout",
     "output_type": "stream",
     "text": [
      "0 -- (1.0, 45.0]  Mean prob 0.016317016317016316\n",
      "1 -- (45.0, 68.0]  Mean prob 0.02457002457002457\n",
      "2 -- (68.0, 86.0]  Mean prob 0.08767772511848342\n",
      "3 -- (86.0, 102.0]  Mean prob 0.16028708133971292\n",
      "4 -- (102.0, 119.0]  Mean prob 0.18867924528301888\n",
      "5 -- (119.0, 135.0]  Mean prob 0.24939467312348668\n",
      "6 -- (135.0, 151.0]  Mean prob 0.3115942028985507\n",
      "7 -- (151.0, 166.0]  Mean prob 0.33573141486810554\n",
      "8 -- (166.0, 185.0]  Mean prob 0.408675799086758\n",
      "9 -- (185.0, 205.0]  Mean prob 0.4083129584352078\n",
      "10 -- (205.0, 225.0]  Mean prob 0.5\n",
      "11 -- (225.0, 245.0]  Mean prob 0.49876543209876545\n",
      "12 -- (245.0, 266.0]  Mean prob 0.495260663507109\n",
      "13 -- (266.0, 293.0]  Mean prob 0.5216346153846154\n",
      "14 -- (293.0, 323.0]  Mean prob 0.5299760191846523\n",
      "15 -- (323.0, 355.0]  Mean prob 0.5253012048192771\n",
      "16 -- (355.0, 397.0]  Mean prob 0.5851318944844125\n",
      "17 -- (397.0, 448.0]  Mean prob 0.638095238095238\n",
      "18 -- (448.0, 510.0]  Mean prob 0.7081339712918661\n",
      "19 -- (510.0, 580.0]  Mean prob 0.7320574162679426\n",
      "20 -- (580.0, 660.0]  Mean prob 0.7464114832535885\n",
      "21 -- (660.0, 763.0]  Mean prob 0.8214285714285714\n",
      "22 -- (763.0, 910.0]  Mean prob 0.8506024096385543\n",
      "23 -- (910.0, 1141.0]  Mean prob 0.8973747016706444\n",
      "24 -- (1141.0, 2775.0]  Mean prob 0.8894230769230769\n"
     ]
    }
   ],
   "source": [
    "for i in range(0,25):\n",
    "    mean=df3[df3['duration_quantile']==i]['deposit'].mean()\n",
    "    print(i,\"--\" ,df3[df3['duration_quantile']==i]['duration_group'].values[0],\" Mean prob\", mean)"
   ]
  },
  {
   "cell_type": "markdown",
   "id": "fea12ff7",
   "metadata": {
    "papermill": {
     "duration": 0.046761,
     "end_time": "2022-07-08T12:52:38.592906",
     "exception": false,
     "start_time": "2022-07-08T12:52:38.546145",
     "status": "completed"
    },
    "tags": []
   },
   "source": [
    "### Conclusion\n",
    "* Duration dominate very high as seen from above \n",
    "* Higher Duration i.e above 720 higher the prob  above 80% that person will accept term deposit"
   ]
  },
  {
   "cell_type": "markdown",
   "id": "148228f4",
   "metadata": {
    "papermill": {
     "duration": 0.047058,
     "end_time": "2022-07-08T12:52:38.686821",
     "exception": false,
     "start_time": "2022-07-08T12:52:38.639763",
     "status": "completed"
    },
    "tags": []
   },
   "source": [
    "<div style=\"color:white;\n",
    "           display:fill;\n",
    "           border-radius:15px;\n",
    "           background-color:blue;\n",
    "           font-size:120%;\n",
    "           font-family:#afd511;\n",
    "           letter-spacing:0.5px\">\n",
    "\n",
    "<h3 style=\"padding: 15px; color:white; text-align:center\"><b>Conclusion</b></h3>\n",
    "</div>"
   ]
  },
  {
   "cell_type": "markdown",
   "id": "6fd9e31f",
   "metadata": {
    "papermill": {
     "duration": 0.047452,
     "end_time": "2022-07-08T12:52:38.781254",
     "exception": false,
     "start_time": "2022-07-08T12:52:38.733802",
     "status": "completed"
    },
    "tags": []
   },
   "source": [
    "### **Duration**\n",
    "* **Duration play very important role** to predict either customer will subscribed term deposit or not?\n",
    "* Because if company has **more call duraction** with thier customers and explain them their services , **higher the chances** that they will subscribed for term deposit but these will not work if target customer did not receive the call \n",
    "* For **Duration more than 700** has **more than 80% possibility** that person will subscribed term deposit \n",
    "\n",
    "### **Contact**\n",
    "* Contact also very much important features, should prefer **cellular contact** \n",
    "* unknown contact means **new customers or 1st time involving in campaign** have very **less chances** that they will susbscibed for deposit\n",
    "\n",
    "### **poutcomes**\n",
    "* **poutcomes** - outcome of the previous marketing campaign\n",
    "* customers those subcribed for term deposit in previous campaign has more chances that they will subscribed for this one too  \n",
    "* while unknown has very less chances\n",
    "\n",
    "### **previous and loan**\n",
    "* company should have **more contact with thier customers** so that they always be activate \n",
    "* Peoples with **No housing loan** are more likely to subscribed for terms depoist so these will be target \n",
    "\n",
    "### Job\n",
    "* peoples with **blue collar job** are not likely to subscribed for deposit while job students as they actually are\n",
    "* **lower age has less chances** while middle & higher age will be target\n",
    "\n",
    "### Age and Balance\n",
    "* **Age group between(59-95) and (17-29)** has on average possiblity above **70%** to subscribed term deposit\n",
    "* Balance peoples with **higher bank balance has more chances** to subscribed\n",
    "* **Balance Above 2700** has prob of on average **55-60%** to subscribed term deposit"
   ]
  },
  {
   "cell_type": "markdown",
   "id": "08d65efd",
   "metadata": {
    "papermill": {
     "duration": 0.047273,
     "end_time": "2022-07-08T12:52:38.875609",
     "exception": false,
     "start_time": "2022-07-08T12:52:38.828336",
     "status": "completed"
    },
    "tags": []
   },
   "source": [
    "<div style=\"color:white;\n",
    "           display:fill;\n",
    "           border-radius:15px;\n",
    "           background-color:blue;\n",
    "           font-size:120%;\n",
    "           font-family:#afd511;\n",
    "           letter-spacing:0.5px\">\n",
    "\n",
    "<h3 style=\"padding: 15px; color:white; text-align:center\"><b>Model Deployment</b></h3>\n",
    "</div>"
   ]
  },
  {
   "cell_type": "code",
   "execution_count": 81,
   "id": "82ef4199",
   "metadata": {
    "execution": {
     "iopub.execute_input": "2022-07-08T12:52:38.971487Z",
     "iopub.status.busy": "2022-07-08T12:52:38.971024Z",
     "iopub.status.idle": "2022-07-08T12:52:38.988440Z",
     "shell.execute_reply": "2022-07-08T12:52:38.987446Z"
    },
    "papermill": {
     "duration": 0.067914,
     "end_time": "2022-07-08T12:52:38.990627",
     "exception": false,
     "start_time": "2022-07-08T12:52:38.922713",
     "status": "completed"
    },
    "tags": []
   },
   "outputs": [],
   "source": [
    "#Import Library\n",
    "from sklearn.base import BaseEstimator, TransformerMixin\n",
    "from sklearn.preprocessing import OneHotEncoder, MinMaxScaler,LabelEncoder,OrdinalEncoder\n",
    "from sklearn.impute import SimpleImputer\n",
    "from sklearn.pipeline import Pipeline\n",
    "from sklearn.compose import ColumnTransformer\n",
    "import xgboost"
   ]
  },
  {
   "cell_type": "code",
   "execution_count": 82,
   "id": "4c208cda",
   "metadata": {
    "execution": {
     "iopub.execute_input": "2022-07-08T12:52:39.090808Z",
     "iopub.status.busy": "2022-07-08T12:52:39.090101Z",
     "iopub.status.idle": "2022-07-08T12:52:39.112567Z",
     "shell.execute_reply": "2022-07-08T12:52:39.111610Z"
    },
    "papermill": {
     "duration": 0.075369,
     "end_time": "2022-07-08T12:52:39.114893",
     "exception": false,
     "start_time": "2022-07-08T12:52:39.039524",
     "status": "completed"
    },
    "tags": []
   },
   "outputs": [
    {
     "data": {
      "text/html": [
       "<div>\n",
       "<style scoped>\n",
       "    .dataframe tbody tr th:only-of-type {\n",
       "        vertical-align: middle;\n",
       "    }\n",
       "\n",
       "    .dataframe tbody tr th {\n",
       "        vertical-align: top;\n",
       "    }\n",
       "\n",
       "    .dataframe thead th {\n",
       "        text-align: right;\n",
       "    }\n",
       "</style>\n",
       "<table border=\"1\" class=\"dataframe\">\n",
       "  <thead>\n",
       "    <tr style=\"text-align: right;\">\n",
       "      <th></th>\n",
       "      <th>age</th>\n",
       "      <th>job</th>\n",
       "      <th>marital</th>\n",
       "      <th>education</th>\n",
       "      <th>default</th>\n",
       "      <th>balance</th>\n",
       "      <th>housing</th>\n",
       "      <th>loan</th>\n",
       "      <th>contact</th>\n",
       "      <th>day</th>\n",
       "      <th>month</th>\n",
       "      <th>duration</th>\n",
       "      <th>campaign</th>\n",
       "      <th>previous</th>\n",
       "      <th>poutcome</th>\n",
       "      <th>deposit</th>\n",
       "    </tr>\n",
       "  </thead>\n",
       "  <tbody>\n",
       "    <tr>\n",
       "      <th>0</th>\n",
       "      <td>59</td>\n",
       "      <td>admin.</td>\n",
       "      <td>married</td>\n",
       "      <td>secondary</td>\n",
       "      <td>no</td>\n",
       "      <td>2343</td>\n",
       "      <td>yes</td>\n",
       "      <td>no</td>\n",
       "      <td>unknown</td>\n",
       "      <td>5</td>\n",
       "      <td>may</td>\n",
       "      <td>1042</td>\n",
       "      <td>1</td>\n",
       "      <td>0</td>\n",
       "      <td>unknown</td>\n",
       "      <td>yes</td>\n",
       "    </tr>\n",
       "    <tr>\n",
       "      <th>1</th>\n",
       "      <td>56</td>\n",
       "      <td>admin.</td>\n",
       "      <td>married</td>\n",
       "      <td>secondary</td>\n",
       "      <td>no</td>\n",
       "      <td>45</td>\n",
       "      <td>no</td>\n",
       "      <td>no</td>\n",
       "      <td>unknown</td>\n",
       "      <td>5</td>\n",
       "      <td>may</td>\n",
       "      <td>1467</td>\n",
       "      <td>1</td>\n",
       "      <td>0</td>\n",
       "      <td>unknown</td>\n",
       "      <td>yes</td>\n",
       "    </tr>\n",
       "    <tr>\n",
       "      <th>2</th>\n",
       "      <td>41</td>\n",
       "      <td>technician</td>\n",
       "      <td>married</td>\n",
       "      <td>secondary</td>\n",
       "      <td>no</td>\n",
       "      <td>1270</td>\n",
       "      <td>yes</td>\n",
       "      <td>no</td>\n",
       "      <td>unknown</td>\n",
       "      <td>5</td>\n",
       "      <td>may</td>\n",
       "      <td>1389</td>\n",
       "      <td>1</td>\n",
       "      <td>0</td>\n",
       "      <td>unknown</td>\n",
       "      <td>yes</td>\n",
       "    </tr>\n",
       "    <tr>\n",
       "      <th>3</th>\n",
       "      <td>55</td>\n",
       "      <td>services</td>\n",
       "      <td>married</td>\n",
       "      <td>secondary</td>\n",
       "      <td>no</td>\n",
       "      <td>2476</td>\n",
       "      <td>yes</td>\n",
       "      <td>no</td>\n",
       "      <td>unknown</td>\n",
       "      <td>5</td>\n",
       "      <td>may</td>\n",
       "      <td>579</td>\n",
       "      <td>1</td>\n",
       "      <td>0</td>\n",
       "      <td>unknown</td>\n",
       "      <td>yes</td>\n",
       "    </tr>\n",
       "    <tr>\n",
       "      <th>4</th>\n",
       "      <td>54</td>\n",
       "      <td>admin.</td>\n",
       "      <td>married</td>\n",
       "      <td>tertiary</td>\n",
       "      <td>no</td>\n",
       "      <td>184</td>\n",
       "      <td>no</td>\n",
       "      <td>no</td>\n",
       "      <td>unknown</td>\n",
       "      <td>5</td>\n",
       "      <td>may</td>\n",
       "      <td>673</td>\n",
       "      <td>2</td>\n",
       "      <td>0</td>\n",
       "      <td>unknown</td>\n",
       "      <td>yes</td>\n",
       "    </tr>\n",
       "    <tr>\n",
       "      <th>...</th>\n",
       "      <td>...</td>\n",
       "      <td>...</td>\n",
       "      <td>...</td>\n",
       "      <td>...</td>\n",
       "      <td>...</td>\n",
       "      <td>...</td>\n",
       "      <td>...</td>\n",
       "      <td>...</td>\n",
       "      <td>...</td>\n",
       "      <td>...</td>\n",
       "      <td>...</td>\n",
       "      <td>...</td>\n",
       "      <td>...</td>\n",
       "      <td>...</td>\n",
       "      <td>...</td>\n",
       "      <td>...</td>\n",
       "    </tr>\n",
       "    <tr>\n",
       "      <th>11157</th>\n",
       "      <td>33</td>\n",
       "      <td>blue-collar</td>\n",
       "      <td>single</td>\n",
       "      <td>primary</td>\n",
       "      <td>no</td>\n",
       "      <td>1</td>\n",
       "      <td>yes</td>\n",
       "      <td>no</td>\n",
       "      <td>cellular</td>\n",
       "      <td>20</td>\n",
       "      <td>apr</td>\n",
       "      <td>257</td>\n",
       "      <td>1</td>\n",
       "      <td>0</td>\n",
       "      <td>unknown</td>\n",
       "      <td>no</td>\n",
       "    </tr>\n",
       "    <tr>\n",
       "      <th>11158</th>\n",
       "      <td>39</td>\n",
       "      <td>services</td>\n",
       "      <td>married</td>\n",
       "      <td>secondary</td>\n",
       "      <td>no</td>\n",
       "      <td>733</td>\n",
       "      <td>no</td>\n",
       "      <td>no</td>\n",
       "      <td>unknown</td>\n",
       "      <td>16</td>\n",
       "      <td>jun</td>\n",
       "      <td>83</td>\n",
       "      <td>4</td>\n",
       "      <td>0</td>\n",
       "      <td>unknown</td>\n",
       "      <td>no</td>\n",
       "    </tr>\n",
       "    <tr>\n",
       "      <th>11159</th>\n",
       "      <td>32</td>\n",
       "      <td>technician</td>\n",
       "      <td>single</td>\n",
       "      <td>secondary</td>\n",
       "      <td>no</td>\n",
       "      <td>29</td>\n",
       "      <td>no</td>\n",
       "      <td>no</td>\n",
       "      <td>cellular</td>\n",
       "      <td>19</td>\n",
       "      <td>aug</td>\n",
       "      <td>156</td>\n",
       "      <td>2</td>\n",
       "      <td>0</td>\n",
       "      <td>unknown</td>\n",
       "      <td>no</td>\n",
       "    </tr>\n",
       "    <tr>\n",
       "      <th>11160</th>\n",
       "      <td>43</td>\n",
       "      <td>technician</td>\n",
       "      <td>married</td>\n",
       "      <td>secondary</td>\n",
       "      <td>no</td>\n",
       "      <td>0</td>\n",
       "      <td>no</td>\n",
       "      <td>yes</td>\n",
       "      <td>cellular</td>\n",
       "      <td>8</td>\n",
       "      <td>may</td>\n",
       "      <td>9</td>\n",
       "      <td>2</td>\n",
       "      <td>5</td>\n",
       "      <td>failure</td>\n",
       "      <td>no</td>\n",
       "    </tr>\n",
       "    <tr>\n",
       "      <th>11161</th>\n",
       "      <td>34</td>\n",
       "      <td>technician</td>\n",
       "      <td>married</td>\n",
       "      <td>secondary</td>\n",
       "      <td>no</td>\n",
       "      <td>0</td>\n",
       "      <td>no</td>\n",
       "      <td>no</td>\n",
       "      <td>cellular</td>\n",
       "      <td>9</td>\n",
       "      <td>jul</td>\n",
       "      <td>628</td>\n",
       "      <td>1</td>\n",
       "      <td>0</td>\n",
       "      <td>unknown</td>\n",
       "      <td>no</td>\n",
       "    </tr>\n",
       "  </tbody>\n",
       "</table>\n",
       "<p>10449 rows × 16 columns</p>\n",
       "</div>"
      ],
      "text/plain": [
       "       age          job  marital  education default  balance housing loan  \\\n",
       "0       59       admin.  married  secondary      no     2343     yes   no   \n",
       "1       56       admin.  married  secondary      no       45      no   no   \n",
       "2       41   technician  married  secondary      no     1270     yes   no   \n",
       "3       55     services  married  secondary      no     2476     yes   no   \n",
       "4       54       admin.  married   tertiary      no      184      no   no   \n",
       "...    ...          ...      ...        ...     ...      ...     ...  ...   \n",
       "11157   33  blue-collar   single    primary      no        1     yes   no   \n",
       "11158   39     services  married  secondary      no      733      no   no   \n",
       "11159   32   technician   single  secondary      no       29      no   no   \n",
       "11160   43   technician  married  secondary      no        0      no  yes   \n",
       "11161   34   technician  married  secondary      no        0      no   no   \n",
       "\n",
       "        contact  day month  duration  campaign  previous poutcome deposit  \n",
       "0       unknown    5   may      1042         1         0  unknown     yes  \n",
       "1       unknown    5   may      1467         1         0  unknown     yes  \n",
       "2       unknown    5   may      1389         1         0  unknown     yes  \n",
       "3       unknown    5   may       579         1         0  unknown     yes  \n",
       "4       unknown    5   may       673         2         0  unknown     yes  \n",
       "...         ...  ...   ...       ...       ...       ...      ...     ...  \n",
       "11157  cellular   20   apr       257         1         0  unknown      no  \n",
       "11158   unknown   16   jun        83         4         0  unknown      no  \n",
       "11159  cellular   19   aug       156         2         0  unknown      no  \n",
       "11160  cellular    8   may         9         2         5  failure      no  \n",
       "11161  cellular    9   jul       628         1         0  unknown      no  \n",
       "\n",
       "[10449 rows x 16 columns]"
      ]
     },
     "execution_count": 82,
     "metadata": {},
     "output_type": "execute_result"
    }
   ],
   "source": [
    "#Dataframe\n",
    "df1"
   ]
  },
  {
   "cell_type": "code",
   "execution_count": 83,
   "id": "661126f1",
   "metadata": {
    "execution": {
     "iopub.execute_input": "2022-07-08T12:52:39.214187Z",
     "iopub.status.busy": "2022-07-08T12:52:39.213581Z",
     "iopub.status.idle": "2022-07-08T12:52:39.222378Z",
     "shell.execute_reply": "2022-07-08T12:52:39.221408Z"
    },
    "papermill": {
     "duration": 0.061457,
     "end_time": "2022-07-08T12:52:39.224907",
     "exception": false,
     "start_time": "2022-07-08T12:52:39.163450",
     "status": "completed"
    },
    "tags": []
   },
   "outputs": [],
   "source": [
    "#Correct Index\n",
    "df1=df1.reset_index()\n",
    "df1.drop('index',axis=1,inplace=True)"
   ]
  },
  {
   "cell_type": "code",
   "execution_count": 84,
   "id": "1bad90a5",
   "metadata": {
    "execution": {
     "iopub.execute_input": "2022-07-08T12:52:39.323951Z",
     "iopub.status.busy": "2022-07-08T12:52:39.323331Z",
     "iopub.status.idle": "2022-07-08T12:52:39.344353Z",
     "shell.execute_reply": "2022-07-08T12:52:39.343453Z"
    },
    "papermill": {
     "duration": 0.072645,
     "end_time": "2022-07-08T12:52:39.346729",
     "exception": false,
     "start_time": "2022-07-08T12:52:39.274084",
     "status": "completed"
    },
    "tags": []
   },
   "outputs": [
    {
     "data": {
      "text/html": [
       "<div>\n",
       "<style scoped>\n",
       "    .dataframe tbody tr th:only-of-type {\n",
       "        vertical-align: middle;\n",
       "    }\n",
       "\n",
       "    .dataframe tbody tr th {\n",
       "        vertical-align: top;\n",
       "    }\n",
       "\n",
       "    .dataframe thead th {\n",
       "        text-align: right;\n",
       "    }\n",
       "</style>\n",
       "<table border=\"1\" class=\"dataframe\">\n",
       "  <thead>\n",
       "    <tr style=\"text-align: right;\">\n",
       "      <th></th>\n",
       "      <th>age</th>\n",
       "      <th>job</th>\n",
       "      <th>marital</th>\n",
       "      <th>education</th>\n",
       "      <th>default</th>\n",
       "      <th>balance</th>\n",
       "      <th>housing</th>\n",
       "      <th>loan</th>\n",
       "      <th>contact</th>\n",
       "      <th>day</th>\n",
       "      <th>month</th>\n",
       "      <th>duration</th>\n",
       "      <th>campaign</th>\n",
       "      <th>previous</th>\n",
       "      <th>poutcome</th>\n",
       "      <th>deposit</th>\n",
       "    </tr>\n",
       "  </thead>\n",
       "  <tbody>\n",
       "    <tr>\n",
       "      <th>0</th>\n",
       "      <td>59</td>\n",
       "      <td>admin.</td>\n",
       "      <td>married</td>\n",
       "      <td>secondary</td>\n",
       "      <td>no</td>\n",
       "      <td>2343</td>\n",
       "      <td>yes</td>\n",
       "      <td>no</td>\n",
       "      <td>unknown</td>\n",
       "      <td>5</td>\n",
       "      <td>may</td>\n",
       "      <td>1042</td>\n",
       "      <td>1</td>\n",
       "      <td>0</td>\n",
       "      <td>unknown</td>\n",
       "      <td>yes</td>\n",
       "    </tr>\n",
       "    <tr>\n",
       "      <th>1</th>\n",
       "      <td>56</td>\n",
       "      <td>admin.</td>\n",
       "      <td>married</td>\n",
       "      <td>secondary</td>\n",
       "      <td>no</td>\n",
       "      <td>45</td>\n",
       "      <td>no</td>\n",
       "      <td>no</td>\n",
       "      <td>unknown</td>\n",
       "      <td>5</td>\n",
       "      <td>may</td>\n",
       "      <td>1467</td>\n",
       "      <td>1</td>\n",
       "      <td>0</td>\n",
       "      <td>unknown</td>\n",
       "      <td>yes</td>\n",
       "    </tr>\n",
       "    <tr>\n",
       "      <th>2</th>\n",
       "      <td>41</td>\n",
       "      <td>technician</td>\n",
       "      <td>married</td>\n",
       "      <td>secondary</td>\n",
       "      <td>no</td>\n",
       "      <td>1270</td>\n",
       "      <td>yes</td>\n",
       "      <td>no</td>\n",
       "      <td>unknown</td>\n",
       "      <td>5</td>\n",
       "      <td>may</td>\n",
       "      <td>1389</td>\n",
       "      <td>1</td>\n",
       "      <td>0</td>\n",
       "      <td>unknown</td>\n",
       "      <td>yes</td>\n",
       "    </tr>\n",
       "    <tr>\n",
       "      <th>3</th>\n",
       "      <td>55</td>\n",
       "      <td>services</td>\n",
       "      <td>married</td>\n",
       "      <td>secondary</td>\n",
       "      <td>no</td>\n",
       "      <td>2476</td>\n",
       "      <td>yes</td>\n",
       "      <td>no</td>\n",
       "      <td>unknown</td>\n",
       "      <td>5</td>\n",
       "      <td>may</td>\n",
       "      <td>579</td>\n",
       "      <td>1</td>\n",
       "      <td>0</td>\n",
       "      <td>unknown</td>\n",
       "      <td>yes</td>\n",
       "    </tr>\n",
       "    <tr>\n",
       "      <th>4</th>\n",
       "      <td>54</td>\n",
       "      <td>admin.</td>\n",
       "      <td>married</td>\n",
       "      <td>tertiary</td>\n",
       "      <td>no</td>\n",
       "      <td>184</td>\n",
       "      <td>no</td>\n",
       "      <td>no</td>\n",
       "      <td>unknown</td>\n",
       "      <td>5</td>\n",
       "      <td>may</td>\n",
       "      <td>673</td>\n",
       "      <td>2</td>\n",
       "      <td>0</td>\n",
       "      <td>unknown</td>\n",
       "      <td>yes</td>\n",
       "    </tr>\n",
       "    <tr>\n",
       "      <th>...</th>\n",
       "      <td>...</td>\n",
       "      <td>...</td>\n",
       "      <td>...</td>\n",
       "      <td>...</td>\n",
       "      <td>...</td>\n",
       "      <td>...</td>\n",
       "      <td>...</td>\n",
       "      <td>...</td>\n",
       "      <td>...</td>\n",
       "      <td>...</td>\n",
       "      <td>...</td>\n",
       "      <td>...</td>\n",
       "      <td>...</td>\n",
       "      <td>...</td>\n",
       "      <td>...</td>\n",
       "      <td>...</td>\n",
       "    </tr>\n",
       "    <tr>\n",
       "      <th>10444</th>\n",
       "      <td>33</td>\n",
       "      <td>blue-collar</td>\n",
       "      <td>single</td>\n",
       "      <td>primary</td>\n",
       "      <td>no</td>\n",
       "      <td>1</td>\n",
       "      <td>yes</td>\n",
       "      <td>no</td>\n",
       "      <td>cellular</td>\n",
       "      <td>20</td>\n",
       "      <td>apr</td>\n",
       "      <td>257</td>\n",
       "      <td>1</td>\n",
       "      <td>0</td>\n",
       "      <td>unknown</td>\n",
       "      <td>no</td>\n",
       "    </tr>\n",
       "    <tr>\n",
       "      <th>10445</th>\n",
       "      <td>39</td>\n",
       "      <td>services</td>\n",
       "      <td>married</td>\n",
       "      <td>secondary</td>\n",
       "      <td>no</td>\n",
       "      <td>733</td>\n",
       "      <td>no</td>\n",
       "      <td>no</td>\n",
       "      <td>unknown</td>\n",
       "      <td>16</td>\n",
       "      <td>jun</td>\n",
       "      <td>83</td>\n",
       "      <td>4</td>\n",
       "      <td>0</td>\n",
       "      <td>unknown</td>\n",
       "      <td>no</td>\n",
       "    </tr>\n",
       "    <tr>\n",
       "      <th>10446</th>\n",
       "      <td>32</td>\n",
       "      <td>technician</td>\n",
       "      <td>single</td>\n",
       "      <td>secondary</td>\n",
       "      <td>no</td>\n",
       "      <td>29</td>\n",
       "      <td>no</td>\n",
       "      <td>no</td>\n",
       "      <td>cellular</td>\n",
       "      <td>19</td>\n",
       "      <td>aug</td>\n",
       "      <td>156</td>\n",
       "      <td>2</td>\n",
       "      <td>0</td>\n",
       "      <td>unknown</td>\n",
       "      <td>no</td>\n",
       "    </tr>\n",
       "    <tr>\n",
       "      <th>10447</th>\n",
       "      <td>43</td>\n",
       "      <td>technician</td>\n",
       "      <td>married</td>\n",
       "      <td>secondary</td>\n",
       "      <td>no</td>\n",
       "      <td>0</td>\n",
       "      <td>no</td>\n",
       "      <td>yes</td>\n",
       "      <td>cellular</td>\n",
       "      <td>8</td>\n",
       "      <td>may</td>\n",
       "      <td>9</td>\n",
       "      <td>2</td>\n",
       "      <td>5</td>\n",
       "      <td>failure</td>\n",
       "      <td>no</td>\n",
       "    </tr>\n",
       "    <tr>\n",
       "      <th>10448</th>\n",
       "      <td>34</td>\n",
       "      <td>technician</td>\n",
       "      <td>married</td>\n",
       "      <td>secondary</td>\n",
       "      <td>no</td>\n",
       "      <td>0</td>\n",
       "      <td>no</td>\n",
       "      <td>no</td>\n",
       "      <td>cellular</td>\n",
       "      <td>9</td>\n",
       "      <td>jul</td>\n",
       "      <td>628</td>\n",
       "      <td>1</td>\n",
       "      <td>0</td>\n",
       "      <td>unknown</td>\n",
       "      <td>no</td>\n",
       "    </tr>\n",
       "  </tbody>\n",
       "</table>\n",
       "<p>10449 rows × 16 columns</p>\n",
       "</div>"
      ],
      "text/plain": [
       "       age          job  marital  education default  balance housing loan  \\\n",
       "0       59       admin.  married  secondary      no     2343     yes   no   \n",
       "1       56       admin.  married  secondary      no       45      no   no   \n",
       "2       41   technician  married  secondary      no     1270     yes   no   \n",
       "3       55     services  married  secondary      no     2476     yes   no   \n",
       "4       54       admin.  married   tertiary      no      184      no   no   \n",
       "...    ...          ...      ...        ...     ...      ...     ...  ...   \n",
       "10444   33  blue-collar   single    primary      no        1     yes   no   \n",
       "10445   39     services  married  secondary      no      733      no   no   \n",
       "10446   32   technician   single  secondary      no       29      no   no   \n",
       "10447   43   technician  married  secondary      no        0      no  yes   \n",
       "10448   34   technician  married  secondary      no        0      no   no   \n",
       "\n",
       "        contact  day month  duration  campaign  previous poutcome deposit  \n",
       "0       unknown    5   may      1042         1         0  unknown     yes  \n",
       "1       unknown    5   may      1467         1         0  unknown     yes  \n",
       "2       unknown    5   may      1389         1         0  unknown     yes  \n",
       "3       unknown    5   may       579         1         0  unknown     yes  \n",
       "4       unknown    5   may       673         2         0  unknown     yes  \n",
       "...         ...  ...   ...       ...       ...       ...      ...     ...  \n",
       "10444  cellular   20   apr       257         1         0  unknown      no  \n",
       "10445   unknown   16   jun        83         4         0  unknown      no  \n",
       "10446  cellular   19   aug       156         2         0  unknown      no  \n",
       "10447  cellular    8   may         9         2         5  failure      no  \n",
       "10448  cellular    9   jul       628         1         0  unknown      no  \n",
       "\n",
       "[10449 rows x 16 columns]"
      ]
     },
     "execution_count": 84,
     "metadata": {},
     "output_type": "execute_result"
    }
   ],
   "source": [
    "#dataframe\n",
    "df1"
   ]
  },
  {
   "cell_type": "code",
   "execution_count": 85,
   "id": "d0028419",
   "metadata": {
    "execution": {
     "iopub.execute_input": "2022-07-08T12:52:39.444936Z",
     "iopub.status.busy": "2022-07-08T12:52:39.444349Z",
     "iopub.status.idle": "2022-07-08T12:52:39.455807Z",
     "shell.execute_reply": "2022-07-08T12:52:39.454886Z"
    },
    "papermill": {
     "duration": 0.063104,
     "end_time": "2022-07-08T12:52:39.458096",
     "exception": false,
     "start_time": "2022-07-08T12:52:39.394992",
     "status": "completed"
    },
    "tags": []
   },
   "outputs": [],
   "source": [
    "#Binary Encoding \n",
    "dic = {\"yes\":1,\"no\":0}\n",
    "lst = [\"loan\",\"default\",\"housing\"]\n",
    "for i in lst:\n",
    "    df1[i] = df1[i].map(dic)"
   ]
  },
  {
   "cell_type": "code",
   "execution_count": 86,
   "id": "205caadc",
   "metadata": {
    "execution": {
     "iopub.execute_input": "2022-07-08T12:52:39.556687Z",
     "iopub.status.busy": "2022-07-08T12:52:39.556082Z",
     "iopub.status.idle": "2022-07-08T12:52:39.562710Z",
     "shell.execute_reply": "2022-07-08T12:52:39.561726Z"
    },
    "papermill": {
     "duration": 0.058072,
     "end_time": "2022-07-08T12:52:39.564664",
     "exception": false,
     "start_time": "2022-07-08T12:52:39.506592",
     "status": "completed"
    },
    "tags": []
   },
   "outputs": [],
   "source": [
    "#Encode of target variable(deposit)\n",
    "dic = {\"yes\":1,\"no\":0}\n",
    "df1[\"deposit\"] = df1[\"deposit\"].map(dic)"
   ]
  },
  {
   "cell_type": "code",
   "execution_count": 87,
   "id": "657669c6",
   "metadata": {
    "execution": {
     "iopub.execute_input": "2022-07-08T12:52:39.663305Z",
     "iopub.status.busy": "2022-07-08T12:52:39.662711Z",
     "iopub.status.idle": "2022-07-08T12:52:39.682611Z",
     "shell.execute_reply": "2022-07-08T12:52:39.681687Z"
    },
    "papermill": {
     "duration": 0.071612,
     "end_time": "2022-07-08T12:52:39.684606",
     "exception": false,
     "start_time": "2022-07-08T12:52:39.612994",
     "status": "completed"
    },
    "tags": []
   },
   "outputs": [
    {
     "data": {
      "text/html": [
       "<div>\n",
       "<style scoped>\n",
       "    .dataframe tbody tr th:only-of-type {\n",
       "        vertical-align: middle;\n",
       "    }\n",
       "\n",
       "    .dataframe tbody tr th {\n",
       "        vertical-align: top;\n",
       "    }\n",
       "\n",
       "    .dataframe thead th {\n",
       "        text-align: right;\n",
       "    }\n",
       "</style>\n",
       "<table border=\"1\" class=\"dataframe\">\n",
       "  <thead>\n",
       "    <tr style=\"text-align: right;\">\n",
       "      <th></th>\n",
       "      <th>age</th>\n",
       "      <th>job</th>\n",
       "      <th>marital</th>\n",
       "      <th>education</th>\n",
       "      <th>default</th>\n",
       "      <th>balance</th>\n",
       "      <th>housing</th>\n",
       "      <th>loan</th>\n",
       "      <th>contact</th>\n",
       "      <th>day</th>\n",
       "      <th>month</th>\n",
       "      <th>duration</th>\n",
       "      <th>campaign</th>\n",
       "      <th>previous</th>\n",
       "      <th>poutcome</th>\n",
       "      <th>deposit</th>\n",
       "    </tr>\n",
       "  </thead>\n",
       "  <tbody>\n",
       "    <tr>\n",
       "      <th>0</th>\n",
       "      <td>59</td>\n",
       "      <td>admin.</td>\n",
       "      <td>married</td>\n",
       "      <td>secondary</td>\n",
       "      <td>0</td>\n",
       "      <td>2343</td>\n",
       "      <td>1</td>\n",
       "      <td>0</td>\n",
       "      <td>unknown</td>\n",
       "      <td>5</td>\n",
       "      <td>may</td>\n",
       "      <td>1042</td>\n",
       "      <td>1</td>\n",
       "      <td>0</td>\n",
       "      <td>unknown</td>\n",
       "      <td>1</td>\n",
       "    </tr>\n",
       "    <tr>\n",
       "      <th>1</th>\n",
       "      <td>56</td>\n",
       "      <td>admin.</td>\n",
       "      <td>married</td>\n",
       "      <td>secondary</td>\n",
       "      <td>0</td>\n",
       "      <td>45</td>\n",
       "      <td>0</td>\n",
       "      <td>0</td>\n",
       "      <td>unknown</td>\n",
       "      <td>5</td>\n",
       "      <td>may</td>\n",
       "      <td>1467</td>\n",
       "      <td>1</td>\n",
       "      <td>0</td>\n",
       "      <td>unknown</td>\n",
       "      <td>1</td>\n",
       "    </tr>\n",
       "    <tr>\n",
       "      <th>2</th>\n",
       "      <td>41</td>\n",
       "      <td>technician</td>\n",
       "      <td>married</td>\n",
       "      <td>secondary</td>\n",
       "      <td>0</td>\n",
       "      <td>1270</td>\n",
       "      <td>1</td>\n",
       "      <td>0</td>\n",
       "      <td>unknown</td>\n",
       "      <td>5</td>\n",
       "      <td>may</td>\n",
       "      <td>1389</td>\n",
       "      <td>1</td>\n",
       "      <td>0</td>\n",
       "      <td>unknown</td>\n",
       "      <td>1</td>\n",
       "    </tr>\n",
       "    <tr>\n",
       "      <th>3</th>\n",
       "      <td>55</td>\n",
       "      <td>services</td>\n",
       "      <td>married</td>\n",
       "      <td>secondary</td>\n",
       "      <td>0</td>\n",
       "      <td>2476</td>\n",
       "      <td>1</td>\n",
       "      <td>0</td>\n",
       "      <td>unknown</td>\n",
       "      <td>5</td>\n",
       "      <td>may</td>\n",
       "      <td>579</td>\n",
       "      <td>1</td>\n",
       "      <td>0</td>\n",
       "      <td>unknown</td>\n",
       "      <td>1</td>\n",
       "    </tr>\n",
       "    <tr>\n",
       "      <th>4</th>\n",
       "      <td>54</td>\n",
       "      <td>admin.</td>\n",
       "      <td>married</td>\n",
       "      <td>tertiary</td>\n",
       "      <td>0</td>\n",
       "      <td>184</td>\n",
       "      <td>0</td>\n",
       "      <td>0</td>\n",
       "      <td>unknown</td>\n",
       "      <td>5</td>\n",
       "      <td>may</td>\n",
       "      <td>673</td>\n",
       "      <td>2</td>\n",
       "      <td>0</td>\n",
       "      <td>unknown</td>\n",
       "      <td>1</td>\n",
       "    </tr>\n",
       "    <tr>\n",
       "      <th>...</th>\n",
       "      <td>...</td>\n",
       "      <td>...</td>\n",
       "      <td>...</td>\n",
       "      <td>...</td>\n",
       "      <td>...</td>\n",
       "      <td>...</td>\n",
       "      <td>...</td>\n",
       "      <td>...</td>\n",
       "      <td>...</td>\n",
       "      <td>...</td>\n",
       "      <td>...</td>\n",
       "      <td>...</td>\n",
       "      <td>...</td>\n",
       "      <td>...</td>\n",
       "      <td>...</td>\n",
       "      <td>...</td>\n",
       "    </tr>\n",
       "    <tr>\n",
       "      <th>10444</th>\n",
       "      <td>33</td>\n",
       "      <td>blue-collar</td>\n",
       "      <td>single</td>\n",
       "      <td>primary</td>\n",
       "      <td>0</td>\n",
       "      <td>1</td>\n",
       "      <td>1</td>\n",
       "      <td>0</td>\n",
       "      <td>cellular</td>\n",
       "      <td>20</td>\n",
       "      <td>apr</td>\n",
       "      <td>257</td>\n",
       "      <td>1</td>\n",
       "      <td>0</td>\n",
       "      <td>unknown</td>\n",
       "      <td>0</td>\n",
       "    </tr>\n",
       "    <tr>\n",
       "      <th>10445</th>\n",
       "      <td>39</td>\n",
       "      <td>services</td>\n",
       "      <td>married</td>\n",
       "      <td>secondary</td>\n",
       "      <td>0</td>\n",
       "      <td>733</td>\n",
       "      <td>0</td>\n",
       "      <td>0</td>\n",
       "      <td>unknown</td>\n",
       "      <td>16</td>\n",
       "      <td>jun</td>\n",
       "      <td>83</td>\n",
       "      <td>4</td>\n",
       "      <td>0</td>\n",
       "      <td>unknown</td>\n",
       "      <td>0</td>\n",
       "    </tr>\n",
       "    <tr>\n",
       "      <th>10446</th>\n",
       "      <td>32</td>\n",
       "      <td>technician</td>\n",
       "      <td>single</td>\n",
       "      <td>secondary</td>\n",
       "      <td>0</td>\n",
       "      <td>29</td>\n",
       "      <td>0</td>\n",
       "      <td>0</td>\n",
       "      <td>cellular</td>\n",
       "      <td>19</td>\n",
       "      <td>aug</td>\n",
       "      <td>156</td>\n",
       "      <td>2</td>\n",
       "      <td>0</td>\n",
       "      <td>unknown</td>\n",
       "      <td>0</td>\n",
       "    </tr>\n",
       "    <tr>\n",
       "      <th>10447</th>\n",
       "      <td>43</td>\n",
       "      <td>technician</td>\n",
       "      <td>married</td>\n",
       "      <td>secondary</td>\n",
       "      <td>0</td>\n",
       "      <td>0</td>\n",
       "      <td>0</td>\n",
       "      <td>1</td>\n",
       "      <td>cellular</td>\n",
       "      <td>8</td>\n",
       "      <td>may</td>\n",
       "      <td>9</td>\n",
       "      <td>2</td>\n",
       "      <td>5</td>\n",
       "      <td>failure</td>\n",
       "      <td>0</td>\n",
       "    </tr>\n",
       "    <tr>\n",
       "      <th>10448</th>\n",
       "      <td>34</td>\n",
       "      <td>technician</td>\n",
       "      <td>married</td>\n",
       "      <td>secondary</td>\n",
       "      <td>0</td>\n",
       "      <td>0</td>\n",
       "      <td>0</td>\n",
       "      <td>0</td>\n",
       "      <td>cellular</td>\n",
       "      <td>9</td>\n",
       "      <td>jul</td>\n",
       "      <td>628</td>\n",
       "      <td>1</td>\n",
       "      <td>0</td>\n",
       "      <td>unknown</td>\n",
       "      <td>0</td>\n",
       "    </tr>\n",
       "  </tbody>\n",
       "</table>\n",
       "<p>10449 rows × 16 columns</p>\n",
       "</div>"
      ],
      "text/plain": [
       "       age          job  marital  education  default  balance  housing  loan  \\\n",
       "0       59       admin.  married  secondary        0     2343        1     0   \n",
       "1       56       admin.  married  secondary        0       45        0     0   \n",
       "2       41   technician  married  secondary        0     1270        1     0   \n",
       "3       55     services  married  secondary        0     2476        1     0   \n",
       "4       54       admin.  married   tertiary        0      184        0     0   \n",
       "...    ...          ...      ...        ...      ...      ...      ...   ...   \n",
       "10444   33  blue-collar   single    primary        0        1        1     0   \n",
       "10445   39     services  married  secondary        0      733        0     0   \n",
       "10446   32   technician   single  secondary        0       29        0     0   \n",
       "10447   43   technician  married  secondary        0        0        0     1   \n",
       "10448   34   technician  married  secondary        0        0        0     0   \n",
       "\n",
       "        contact  day month  duration  campaign  previous poutcome  deposit  \n",
       "0       unknown    5   may      1042         1         0  unknown        1  \n",
       "1       unknown    5   may      1467         1         0  unknown        1  \n",
       "2       unknown    5   may      1389         1         0  unknown        1  \n",
       "3       unknown    5   may       579         1         0  unknown        1  \n",
       "4       unknown    5   may       673         2         0  unknown        1  \n",
       "...         ...  ...   ...       ...       ...       ...      ...      ...  \n",
       "10444  cellular   20   apr       257         1         0  unknown        0  \n",
       "10445   unknown   16   jun        83         4         0  unknown        0  \n",
       "10446  cellular   19   aug       156         2         0  unknown        0  \n",
       "10447  cellular    8   may         9         2         5  failure        0  \n",
       "10448  cellular    9   jul       628         1         0  unknown        0  \n",
       "\n",
       "[10449 rows x 16 columns]"
      ]
     },
     "execution_count": 87,
     "metadata": {},
     "output_type": "execute_result"
    }
   ],
   "source": [
    "df1"
   ]
  },
  {
   "cell_type": "code",
   "execution_count": 88,
   "id": "0b688165",
   "metadata": {
    "execution": {
     "iopub.execute_input": "2022-07-08T12:52:39.783227Z",
     "iopub.status.busy": "2022-07-08T12:52:39.782554Z",
     "iopub.status.idle": "2022-07-08T12:52:39.789015Z",
     "shell.execute_reply": "2022-07-08T12:52:39.788277Z"
    },
    "papermill": {
     "duration": 0.058457,
     "end_time": "2022-07-08T12:52:39.791111",
     "exception": false,
     "start_time": "2022-07-08T12:52:39.732654",
     "status": "completed"
    },
    "tags": []
   },
   "outputs": [],
   "source": [
    "#Ordinal Encoding\n",
    "contact_list = df1['contact'].unique().tolist()\n",
    "poutcome_list = ['success','unknown', 'other','failure']\n",
    "month_list = df1['month'].unique().tolist()\n",
    "month_list = list(reversed(month_list))"
   ]
  },
  {
   "cell_type": "code",
   "execution_count": 89,
   "id": "2bd52c3a",
   "metadata": {
    "execution": {
     "iopub.execute_input": "2022-07-08T12:52:39.891196Z",
     "iopub.status.busy": "2022-07-08T12:52:39.890477Z",
     "iopub.status.idle": "2022-07-08T12:52:39.895838Z",
     "shell.execute_reply": "2022-07-08T12:52:39.894483Z"
    },
    "papermill": {
     "duration": 0.059184,
     "end_time": "2022-07-08T12:52:39.898620",
     "exception": false,
     "start_time": "2022-07-08T12:52:39.839436",
     "status": "completed"
    },
    "tags": []
   },
   "outputs": [
    {
     "name": "stdout",
     "output_type": "stream",
     "text": [
      "['unknown', 'cellular', 'telephone']\n",
      "['success', 'unknown', 'other', 'failure']\n",
      "['sep', 'apr', 'mar', 'feb', 'jan', 'dec', 'nov', 'oct', 'aug', 'jul', 'jun', 'may']\n"
     ]
    }
   ],
   "source": [
    "print(contact_list)\n",
    "print(poutcome_list)\n",
    "print(month_list)"
   ]
  },
  {
   "cell_type": "code",
   "execution_count": 90,
   "id": "b1988cd6",
   "metadata": {
    "execution": {
     "iopub.execute_input": "2022-07-08T12:52:40.001501Z",
     "iopub.status.busy": "2022-07-08T12:52:40.000435Z",
     "iopub.status.idle": "2022-07-08T12:52:40.006511Z",
     "shell.execute_reply": "2022-07-08T12:52:40.005470Z"
    },
    "papermill": {
     "duration": 0.059878,
     "end_time": "2022-07-08T12:52:40.008896",
     "exception": false,
     "start_time": "2022-07-08T12:52:39.949018",
     "status": "completed"
    },
    "tags": []
   },
   "outputs": [],
   "source": [
    "contact_label=list(range(0,3,1))\n",
    "poutcome_label=list(range(0,4,1))\n",
    "month_label=list(range(0,12,1))"
   ]
  },
  {
   "cell_type": "code",
   "execution_count": 91,
   "id": "bc4196f6",
   "metadata": {
    "execution": {
     "iopub.execute_input": "2022-07-08T12:52:40.109630Z",
     "iopub.status.busy": "2022-07-08T12:52:40.109136Z",
     "iopub.status.idle": "2022-07-08T12:52:40.114536Z",
     "shell.execute_reply": "2022-07-08T12:52:40.113344Z"
    },
    "papermill": {
     "duration": 0.059578,
     "end_time": "2022-07-08T12:52:40.116915",
     "exception": false,
     "start_time": "2022-07-08T12:52:40.057337",
     "status": "completed"
    },
    "tags": []
   },
   "outputs": [],
   "source": [
    "dic_contact=dict(zip(contact_list,contact_label))\n",
    "dic_poutcome=dict(zip(poutcome_list,poutcome_label))\n",
    "dic_month=dict(zip(month_list,month_label))"
   ]
  },
  {
   "cell_type": "code",
   "execution_count": 92,
   "id": "bf6e4377",
   "metadata": {
    "execution": {
     "iopub.execute_input": "2022-07-08T12:52:40.215163Z",
     "iopub.status.busy": "2022-07-08T12:52:40.214773Z",
     "iopub.status.idle": "2022-07-08T12:52:40.220285Z",
     "shell.execute_reply": "2022-07-08T12:52:40.219069Z"
    },
    "papermill": {
     "duration": 0.059433,
     "end_time": "2022-07-08T12:52:40.224932",
     "exception": false,
     "start_time": "2022-07-08T12:52:40.165499",
     "status": "completed"
    },
    "tags": []
   },
   "outputs": [
    {
     "name": "stdout",
     "output_type": "stream",
     "text": [
      "{'unknown': 0, 'cellular': 1, 'telephone': 2}\n",
      "{'success': 0, 'unknown': 1, 'other': 2, 'failure': 3}\n",
      "{'sep': 0, 'apr': 1, 'mar': 2, 'feb': 3, 'jan': 4, 'dec': 5, 'nov': 6, 'oct': 7, 'aug': 8, 'jul': 9, 'jun': 10, 'may': 11}\n"
     ]
    }
   ],
   "source": [
    "print(dic_contact)\n",
    "print(dic_poutcome)\n",
    "print(dic_month)"
   ]
  },
  {
   "cell_type": "code",
   "execution_count": 93,
   "id": "4c66fc4a",
   "metadata": {
    "execution": {
     "iopub.execute_input": "2022-07-08T12:52:40.327530Z",
     "iopub.status.busy": "2022-07-08T12:52:40.326551Z",
     "iopub.status.idle": "2022-07-08T12:52:40.339075Z",
     "shell.execute_reply": "2022-07-08T12:52:40.338188Z"
    },
    "papermill": {
     "duration": 0.065689,
     "end_time": "2022-07-08T12:52:40.341455",
     "exception": false,
     "start_time": "2022-07-08T12:52:40.275766",
     "status": "completed"
    },
    "tags": []
   },
   "outputs": [],
   "source": [
    "#mapping dict with ordinal categ features\n",
    "df1[\"contact\"] = df1[\"contact\"].map(dic_contact)\n",
    "df1[\"poutcome\"] = df1[\"poutcome\"].map(dic_poutcome)\n",
    "df1[\"month\"] = df1[\"month\"].map(dic_month)"
   ]
  },
  {
   "cell_type": "code",
   "execution_count": 94,
   "id": "0c6c8008",
   "metadata": {
    "execution": {
     "iopub.execute_input": "2022-07-08T12:52:40.495142Z",
     "iopub.status.busy": "2022-07-08T12:52:40.494419Z",
     "iopub.status.idle": "2022-07-08T12:52:40.502702Z",
     "shell.execute_reply": "2022-07-08T12:52:40.501614Z"
    },
    "papermill": {
     "duration": 0.116057,
     "end_time": "2022-07-08T12:52:40.505397",
     "exception": false,
     "start_time": "2022-07-08T12:52:40.389340",
     "status": "completed"
    },
    "tags": []
   },
   "outputs": [],
   "source": [
    "#X and Y split\n",
    "X = df1.drop('deposit',axis=1)\n",
    "Y = df1['deposit']"
   ]
  },
  {
   "cell_type": "code",
   "execution_count": 95,
   "id": "a4e6fff8",
   "metadata": {
    "execution": {
     "iopub.execute_input": "2022-07-08T12:52:40.603315Z",
     "iopub.status.busy": "2022-07-08T12:52:40.602913Z",
     "iopub.status.idle": "2022-07-08T12:52:40.614124Z",
     "shell.execute_reply": "2022-07-08T12:52:40.613318Z"
    },
    "papermill": {
     "duration": 0.062928,
     "end_time": "2022-07-08T12:52:40.616206",
     "exception": false,
     "start_time": "2022-07-08T12:52:40.553278",
     "status": "completed"
    },
    "tags": []
   },
   "outputs": [],
   "source": [
    "#StratifiedShuffleSplit\n",
    "sss = StratifiedShuffleSplit(n_splits=1,test_size=0.3,random_state=1)\n",
    "for train_index,test_index in sss.split(X,Y):\n",
    "    train_df = df1.loc[train_index]\n",
    "    test_df = df1.loc[test_index]"
   ]
  },
  {
   "cell_type": "code",
   "execution_count": 96,
   "id": "bbc4cfd5",
   "metadata": {
    "execution": {
     "iopub.execute_input": "2022-07-08T12:52:40.718189Z",
     "iopub.status.busy": "2022-07-08T12:52:40.717459Z",
     "iopub.status.idle": "2022-07-08T12:52:40.725626Z",
     "shell.execute_reply": "2022-07-08T12:52:40.724452Z"
    },
    "papermill": {
     "duration": 0.063588,
     "end_time": "2022-07-08T12:52:40.728167",
     "exception": false,
     "start_time": "2022-07-08T12:52:40.664579",
     "status": "completed"
    },
    "tags": []
   },
   "outputs": [],
   "source": [
    "#Train and Test dataset\n",
    "X_train = train_df.drop(\"deposit\",axis=1)\n",
    "Y_train = train_df['deposit']\n",
    "\n",
    "X_test = test_df.drop(\"deposit\",axis=1)\n",
    "Y_test = test_df['deposit']"
   ]
  },
  {
   "cell_type": "code",
   "execution_count": 97,
   "id": "bccd8e24",
   "metadata": {
    "execution": {
     "iopub.execute_input": "2022-07-08T12:52:40.826651Z",
     "iopub.status.busy": "2022-07-08T12:52:40.826234Z",
     "iopub.status.idle": "2022-07-08T12:52:40.844635Z",
     "shell.execute_reply": "2022-07-08T12:52:40.843483Z"
    },
    "papermill": {
     "duration": 0.070271,
     "end_time": "2022-07-08T12:52:40.846866",
     "exception": false,
     "start_time": "2022-07-08T12:52:40.776595",
     "status": "completed"
    },
    "tags": []
   },
   "outputs": [
    {
     "data": {
      "text/html": [
       "<div>\n",
       "<style scoped>\n",
       "    .dataframe tbody tr th:only-of-type {\n",
       "        vertical-align: middle;\n",
       "    }\n",
       "\n",
       "    .dataframe tbody tr th {\n",
       "        vertical-align: top;\n",
       "    }\n",
       "\n",
       "    .dataframe thead th {\n",
       "        text-align: right;\n",
       "    }\n",
       "</style>\n",
       "<table border=\"1\" class=\"dataframe\">\n",
       "  <thead>\n",
       "    <tr style=\"text-align: right;\">\n",
       "      <th></th>\n",
       "      <th>age</th>\n",
       "      <th>job</th>\n",
       "      <th>marital</th>\n",
       "      <th>education</th>\n",
       "      <th>default</th>\n",
       "      <th>balance</th>\n",
       "      <th>housing</th>\n",
       "      <th>loan</th>\n",
       "      <th>contact</th>\n",
       "      <th>day</th>\n",
       "      <th>month</th>\n",
       "      <th>duration</th>\n",
       "      <th>campaign</th>\n",
       "      <th>previous</th>\n",
       "      <th>poutcome</th>\n",
       "    </tr>\n",
       "  </thead>\n",
       "  <tbody>\n",
       "    <tr>\n",
       "      <th>5461</th>\n",
       "      <td>28</td>\n",
       "      <td>blue-collar</td>\n",
       "      <td>married</td>\n",
       "      <td>primary</td>\n",
       "      <td>0</td>\n",
       "      <td>674</td>\n",
       "      <td>1</td>\n",
       "      <td>0</td>\n",
       "      <td>2</td>\n",
       "      <td>14</td>\n",
       "      <td>11</td>\n",
       "      <td>921</td>\n",
       "      <td>4</td>\n",
       "      <td>0</td>\n",
       "      <td>1</td>\n",
       "    </tr>\n",
       "    <tr>\n",
       "      <th>4220</th>\n",
       "      <td>36</td>\n",
       "      <td>blue-collar</td>\n",
       "      <td>married</td>\n",
       "      <td>secondary</td>\n",
       "      <td>0</td>\n",
       "      <td>324</td>\n",
       "      <td>1</td>\n",
       "      <td>1</td>\n",
       "      <td>1</td>\n",
       "      <td>16</td>\n",
       "      <td>9</td>\n",
       "      <td>830</td>\n",
       "      <td>1</td>\n",
       "      <td>0</td>\n",
       "      <td>1</td>\n",
       "    </tr>\n",
       "    <tr>\n",
       "      <th>5530</th>\n",
       "      <td>56</td>\n",
       "      <td>technician</td>\n",
       "      <td>divorced</td>\n",
       "      <td>secondary</td>\n",
       "      <td>0</td>\n",
       "      <td>1480</td>\n",
       "      <td>1</td>\n",
       "      <td>1</td>\n",
       "      <td>1</td>\n",
       "      <td>5</td>\n",
       "      <td>3</td>\n",
       "      <td>576</td>\n",
       "      <td>1</td>\n",
       "      <td>0</td>\n",
       "      <td>1</td>\n",
       "    </tr>\n",
       "    <tr>\n",
       "      <th>4249</th>\n",
       "      <td>31</td>\n",
       "      <td>housemaid</td>\n",
       "      <td>single</td>\n",
       "      <td>primary</td>\n",
       "      <td>0</td>\n",
       "      <td>26965</td>\n",
       "      <td>0</td>\n",
       "      <td>0</td>\n",
       "      <td>1</td>\n",
       "      <td>21</td>\n",
       "      <td>1</td>\n",
       "      <td>654</td>\n",
       "      <td>2</td>\n",
       "      <td>0</td>\n",
       "      <td>1</td>\n",
       "    </tr>\n",
       "    <tr>\n",
       "      <th>9514</th>\n",
       "      <td>30</td>\n",
       "      <td>blue-collar</td>\n",
       "      <td>married</td>\n",
       "      <td>secondary</td>\n",
       "      <td>0</td>\n",
       "      <td>177</td>\n",
       "      <td>1</td>\n",
       "      <td>0</td>\n",
       "      <td>1</td>\n",
       "      <td>9</td>\n",
       "      <td>1</td>\n",
       "      <td>62</td>\n",
       "      <td>2</td>\n",
       "      <td>3</td>\n",
       "      <td>3</td>\n",
       "    </tr>\n",
       "    <tr>\n",
       "      <th>...</th>\n",
       "      <td>...</td>\n",
       "      <td>...</td>\n",
       "      <td>...</td>\n",
       "      <td>...</td>\n",
       "      <td>...</td>\n",
       "      <td>...</td>\n",
       "      <td>...</td>\n",
       "      <td>...</td>\n",
       "      <td>...</td>\n",
       "      <td>...</td>\n",
       "      <td>...</td>\n",
       "      <td>...</td>\n",
       "      <td>...</td>\n",
       "      <td>...</td>\n",
       "      <td>...</td>\n",
       "    </tr>\n",
       "    <tr>\n",
       "      <th>8100</th>\n",
       "      <td>34</td>\n",
       "      <td>blue-collar</td>\n",
       "      <td>married</td>\n",
       "      <td>primary</td>\n",
       "      <td>0</td>\n",
       "      <td>425</td>\n",
       "      <td>1</td>\n",
       "      <td>0</td>\n",
       "      <td>1</td>\n",
       "      <td>16</td>\n",
       "      <td>9</td>\n",
       "      <td>1389</td>\n",
       "      <td>7</td>\n",
       "      <td>0</td>\n",
       "      <td>1</td>\n",
       "    </tr>\n",
       "    <tr>\n",
       "      <th>4223</th>\n",
       "      <td>27</td>\n",
       "      <td>technician</td>\n",
       "      <td>single</td>\n",
       "      <td>tertiary</td>\n",
       "      <td>0</td>\n",
       "      <td>11862</td>\n",
       "      <td>0</td>\n",
       "      <td>0</td>\n",
       "      <td>1</td>\n",
       "      <td>25</td>\n",
       "      <td>6</td>\n",
       "      <td>285</td>\n",
       "      <td>2</td>\n",
       "      <td>7</td>\n",
       "      <td>0</td>\n",
       "    </tr>\n",
       "    <tr>\n",
       "      <th>343</th>\n",
       "      <td>26</td>\n",
       "      <td>self-employed</td>\n",
       "      <td>single</td>\n",
       "      <td>secondary</td>\n",
       "      <td>0</td>\n",
       "      <td>551</td>\n",
       "      <td>0</td>\n",
       "      <td>0</td>\n",
       "      <td>1</td>\n",
       "      <td>8</td>\n",
       "      <td>9</td>\n",
       "      <td>531</td>\n",
       "      <td>1</td>\n",
       "      <td>0</td>\n",
       "      <td>1</td>\n",
       "    </tr>\n",
       "    <tr>\n",
       "      <th>4449</th>\n",
       "      <td>41</td>\n",
       "      <td>blue-collar</td>\n",
       "      <td>married</td>\n",
       "      <td>secondary</td>\n",
       "      <td>0</td>\n",
       "      <td>5517</td>\n",
       "      <td>1</td>\n",
       "      <td>0</td>\n",
       "      <td>1</td>\n",
       "      <td>10</td>\n",
       "      <td>9</td>\n",
       "      <td>584</td>\n",
       "      <td>1</td>\n",
       "      <td>0</td>\n",
       "      <td>1</td>\n",
       "    </tr>\n",
       "    <tr>\n",
       "      <th>2983</th>\n",
       "      <td>76</td>\n",
       "      <td>retired</td>\n",
       "      <td>married</td>\n",
       "      <td>primary</td>\n",
       "      <td>0</td>\n",
       "      <td>2223</td>\n",
       "      <td>0</td>\n",
       "      <td>0</td>\n",
       "      <td>2</td>\n",
       "      <td>4</td>\n",
       "      <td>3</td>\n",
       "      <td>429</td>\n",
       "      <td>1</td>\n",
       "      <td>0</td>\n",
       "      <td>1</td>\n",
       "    </tr>\n",
       "  </tbody>\n",
       "</table>\n",
       "<p>7314 rows × 15 columns</p>\n",
       "</div>"
      ],
      "text/plain": [
       "      age            job   marital  education  default  balance  housing  \\\n",
       "5461   28    blue-collar   married    primary        0      674        1   \n",
       "4220   36    blue-collar   married  secondary        0      324        1   \n",
       "5530   56     technician  divorced  secondary        0     1480        1   \n",
       "4249   31      housemaid    single    primary        0    26965        0   \n",
       "9514   30    blue-collar   married  secondary        0      177        1   \n",
       "...   ...            ...       ...        ...      ...      ...      ...   \n",
       "8100   34    blue-collar   married    primary        0      425        1   \n",
       "4223   27     technician    single   tertiary        0    11862        0   \n",
       "343    26  self-employed    single  secondary        0      551        0   \n",
       "4449   41    blue-collar   married  secondary        0     5517        1   \n",
       "2983   76        retired   married    primary        0     2223        0   \n",
       "\n",
       "      loan  contact  day  month  duration  campaign  previous  poutcome  \n",
       "5461     0        2   14     11       921         4         0         1  \n",
       "4220     1        1   16      9       830         1         0         1  \n",
       "5530     1        1    5      3       576         1         0         1  \n",
       "4249     0        1   21      1       654         2         0         1  \n",
       "9514     0        1    9      1        62         2         3         3  \n",
       "...    ...      ...  ...    ...       ...       ...       ...       ...  \n",
       "8100     0        1   16      9      1389         7         0         1  \n",
       "4223     0        1   25      6       285         2         7         0  \n",
       "343      0        1    8      9       531         1         0         1  \n",
       "4449     0        1   10      9       584         1         0         1  \n",
       "2983     0        2    4      3       429         1         0         1  \n",
       "\n",
       "[7314 rows x 15 columns]"
      ]
     },
     "execution_count": 97,
     "metadata": {},
     "output_type": "execute_result"
    }
   ],
   "source": [
    "X_train"
   ]
  },
  {
   "cell_type": "code",
   "execution_count": 98,
   "id": "9a9edbf3",
   "metadata": {
    "execution": {
     "iopub.execute_input": "2022-07-08T12:52:40.946970Z",
     "iopub.status.busy": "2022-07-08T12:52:40.946562Z",
     "iopub.status.idle": "2022-07-08T12:52:40.951340Z",
     "shell.execute_reply": "2022-07-08T12:52:40.950012Z"
    },
    "papermill": {
     "duration": 0.05732,
     "end_time": "2022-07-08T12:52:40.953495",
     "exception": false,
     "start_time": "2022-07-08T12:52:40.896175",
     "status": "completed"
    },
    "tags": []
   },
   "outputs": [],
   "source": [
    "#Transformer"
   ]
  },
  {
   "cell_type": "code",
   "execution_count": 99,
   "id": "5b5eecfe",
   "metadata": {
    "execution": {
     "iopub.execute_input": "2022-07-08T12:52:41.057039Z",
     "iopub.status.busy": "2022-07-08T12:52:41.056354Z",
     "iopub.status.idle": "2022-07-08T12:52:41.060874Z",
     "shell.execute_reply": "2022-07-08T12:52:41.060044Z"
    },
    "papermill": {
     "duration": 0.057332,
     "end_time": "2022-07-08T12:52:41.062908",
     "exception": false,
     "start_time": "2022-07-08T12:52:41.005576",
     "status": "completed"
    },
    "tags": []
   },
   "outputs": [],
   "source": [
    "trf1 = ColumnTransformer([\n",
    "    ('ohe',OneHotEncoder(sparse=False,handle_unknown='ignore'),[1,2,3])\n",
    "],remainder='passthrough')"
   ]
  },
  {
   "cell_type": "code",
   "execution_count": 100,
   "id": "04c37100",
   "metadata": {
    "execution": {
     "iopub.execute_input": "2022-07-08T12:52:41.163951Z",
     "iopub.status.busy": "2022-07-08T12:52:41.163222Z",
     "iopub.status.idle": "2022-07-08T12:52:41.167799Z",
     "shell.execute_reply": "2022-07-08T12:52:41.166946Z"
    },
    "papermill": {
     "duration": 0.057566,
     "end_time": "2022-07-08T12:52:41.170009",
     "exception": false,
     "start_time": "2022-07-08T12:52:41.112443",
     "status": "completed"
    },
    "tags": []
   },
   "outputs": [],
   "source": [
    "trf2 = ColumnTransformer(\n",
    "    transformers=[('scaler', StandardScaler(), [0,-1])],\n",
    "    remainder='passthrough'\n",
    ")"
   ]
  },
  {
   "cell_type": "code",
   "execution_count": 101,
   "id": "76f74eb1",
   "metadata": {
    "execution": {
     "iopub.execute_input": "2022-07-08T12:52:41.272719Z",
     "iopub.status.busy": "2022-07-08T12:52:41.272042Z",
     "iopub.status.idle": "2022-07-08T12:52:41.278288Z",
     "shell.execute_reply": "2022-07-08T12:52:41.277462Z"
    },
    "papermill": {
     "duration": 0.061214,
     "end_time": "2022-07-08T12:52:41.280638",
     "exception": false,
     "start_time": "2022-07-08T12:52:41.219424",
     "status": "completed"
    },
    "tags": []
   },
   "outputs": [],
   "source": [
    "trf3 = xgboost.XGBClassifier(n_estimators=80, learning_rate=0.1, gamma=0, subsample=0.75,\n",
    "                           colsample_bytree=1, max_depth=5)"
   ]
  },
  {
   "cell_type": "code",
   "execution_count": 102,
   "id": "2d186ede",
   "metadata": {
    "execution": {
     "iopub.execute_input": "2022-07-08T12:52:41.471484Z",
     "iopub.status.busy": "2022-07-08T12:52:41.470699Z",
     "iopub.status.idle": "2022-07-08T12:52:41.474950Z",
     "shell.execute_reply": "2022-07-08T12:52:41.473781Z"
    },
    "papermill": {
     "duration": 0.05795,
     "end_time": "2022-07-08T12:52:41.477339",
     "exception": false,
     "start_time": "2022-07-08T12:52:41.419389",
     "status": "completed"
    },
    "tags": []
   },
   "outputs": [],
   "source": [
    "#Pipeline"
   ]
  },
  {
   "cell_type": "code",
   "execution_count": 103,
   "id": "3939c177",
   "metadata": {
    "execution": {
     "iopub.execute_input": "2022-07-08T12:52:41.576766Z",
     "iopub.status.busy": "2022-07-08T12:52:41.576006Z",
     "iopub.status.idle": "2022-07-08T12:52:41.580987Z",
     "shell.execute_reply": "2022-07-08T12:52:41.580297Z"
    },
    "papermill": {
     "duration": 0.056886,
     "end_time": "2022-07-08T12:52:41.583088",
     "exception": false,
     "start_time": "2022-07-08T12:52:41.526202",
     "status": "completed"
    },
    "tags": []
   },
   "outputs": [],
   "source": [
    "pipe = Pipeline([\n",
    "    ('trf1',trf1),\n",
    "    ('trf2',trf2),\n",
    "    ('trf3',trf3)\n",
    "])"
   ]
  },
  {
   "cell_type": "code",
   "execution_count": 104,
   "id": "95dbfffa",
   "metadata": {
    "execution": {
     "iopub.execute_input": "2022-07-08T12:52:41.682476Z",
     "iopub.status.busy": "2022-07-08T12:52:41.681742Z",
     "iopub.status.idle": "2022-07-08T12:52:41.691876Z",
     "shell.execute_reply": "2022-07-08T12:52:41.690733Z"
    },
    "papermill": {
     "duration": 0.062918,
     "end_time": "2022-07-08T12:52:41.694557",
     "exception": false,
     "start_time": "2022-07-08T12:52:41.631639",
     "status": "completed"
    },
    "tags": []
   },
   "outputs": [
    {
     "data": {
      "text/plain": [
       "[('trf1',\n",
       "  ColumnTransformer(remainder='passthrough',\n",
       "                    transformers=[('ohe',\n",
       "                                   OneHotEncoder(handle_unknown='ignore',\n",
       "                                                 sparse=False),\n",
       "                                   [1, 2, 3])])),\n",
       " ('trf2',\n",
       "  ColumnTransformer(remainder='passthrough',\n",
       "                    transformers=[('scaler', StandardScaler(), [0, -1])])),\n",
       " ('trf3',\n",
       "  XGBClassifier(base_score=None, booster=None, callbacks=None,\n",
       "                colsample_bylevel=None, colsample_bynode=None, colsample_bytree=1,\n",
       "                early_stopping_rounds=None, enable_categorical=False,\n",
       "                eval_metric=None, gamma=0, gpu_id=None, grow_policy=None,\n",
       "                importance_type=None, interaction_constraints=None,\n",
       "                learning_rate=0.1, max_bin=None, max_cat_to_onehot=None,\n",
       "                max_delta_step=None, max_depth=5, max_leaves=None,\n",
       "                min_child_weight=None, missing=nan, monotone_constraints=None,\n",
       "                n_estimators=80, n_jobs=None, num_parallel_tree=None,\n",
       "                predictor=None, random_state=None, reg_alpha=None,\n",
       "                reg_lambda=None, ...))]"
      ]
     },
     "execution_count": 104,
     "metadata": {},
     "output_type": "execute_result"
    }
   ],
   "source": [
    "#stpes of pipes\n",
    "pipe.steps"
   ]
  },
  {
   "cell_type": "code",
   "execution_count": 105,
   "id": "5284c815",
   "metadata": {
    "execution": {
     "iopub.execute_input": "2022-07-08T12:52:41.814476Z",
     "iopub.status.busy": "2022-07-08T12:52:41.814077Z",
     "iopub.status.idle": "2022-07-08T12:52:42.669134Z",
     "shell.execute_reply": "2022-07-08T12:52:42.668056Z"
    },
    "papermill": {
     "duration": 0.918301,
     "end_time": "2022-07-08T12:52:42.671462",
     "exception": false,
     "start_time": "2022-07-08T12:52:41.753161",
     "status": "completed"
    },
    "tags": []
   },
   "outputs": [
    {
     "data": {
      "text/plain": [
       "Pipeline(steps=[('trf1',\n",
       "                 ColumnTransformer(remainder='passthrough',\n",
       "                                   transformers=[('ohe',\n",
       "                                                  OneHotEncoder(handle_unknown='ignore',\n",
       "                                                                sparse=False),\n",
       "                                                  [1, 2, 3])])),\n",
       "                ('trf2',\n",
       "                 ColumnTransformer(remainder='passthrough',\n",
       "                                   transformers=[('scaler', StandardScaler(),\n",
       "                                                  [0, -1])])),\n",
       "                ('trf3',\n",
       "                 XGBClassifier(base_score=0.5, booster='gbtree', callbacks=None,\n",
       "                               colsample_bylevel=1, colsampl...\n",
       "                               enable_categorical=False, eval_metric=None,\n",
       "                               gamma=0, gpu_id=-1, grow_policy='depthwise',\n",
       "                               importance_type=None, interaction_constraints='',\n",
       "                               learning_rate=0.1, max_bin=256,\n",
       "                               max_cat_to_onehot=4, max_delta_step=0,\n",
       "                               max_depth=5, max_leaves=0, min_child_weight=1,\n",
       "                               missing=nan, monotone_constraints='()',\n",
       "                               n_estimators=80, n_jobs=0, num_parallel_tree=1,\n",
       "                               predictor='auto', random_state=0, reg_alpha=0,\n",
       "                               reg_lambda=1, ...))])"
      ]
     },
     "execution_count": 105,
     "metadata": {},
     "output_type": "execute_result"
    }
   ],
   "source": [
    "#Train model with 70% data set\n",
    "pipe.fit(X_train,Y_train)"
   ]
  },
  {
   "cell_type": "code",
   "execution_count": 106,
   "id": "43ea9a4f",
   "metadata": {
    "execution": {
     "iopub.execute_input": "2022-07-08T12:52:42.771514Z",
     "iopub.status.busy": "2022-07-08T12:52:42.770741Z",
     "iopub.status.idle": "2022-07-08T12:52:42.801987Z",
     "shell.execute_reply": "2022-07-08T12:52:42.800809Z"
    },
    "papermill": {
     "duration": 0.084371,
     "end_time": "2022-07-08T12:52:42.804422",
     "exception": false,
     "start_time": "2022-07-08T12:52:42.720051",
     "status": "completed"
    },
    "tags": []
   },
   "outputs": [
    {
     "data": {
      "text/plain": [
       "array([1, 0, 0, ..., 0, 1, 0])"
      ]
     },
     "execution_count": 106,
     "metadata": {},
     "output_type": "execute_result"
    }
   ],
   "source": [
    "#Predict test data\n",
    "y_pred = pipe.predict(X_test)\n",
    "y_pred"
   ]
  },
  {
   "cell_type": "code",
   "execution_count": 107,
   "id": "2df79fe8",
   "metadata": {
    "execution": {
     "iopub.execute_input": "2022-07-08T12:52:42.906480Z",
     "iopub.status.busy": "2022-07-08T12:52:42.905536Z",
     "iopub.status.idle": "2022-07-08T12:52:42.921109Z",
     "shell.execute_reply": "2022-07-08T12:52:42.919538Z"
    },
    "papermill": {
     "duration": 0.069118,
     "end_time": "2022-07-08T12:52:42.923724",
     "exception": false,
     "start_time": "2022-07-08T12:52:42.854606",
     "status": "completed"
    },
    "tags": []
   },
   "outputs": [
    {
     "name": "stdout",
     "output_type": "stream",
     "text": [
      "              precision    recall  f1-score   support\n",
      "\n",
      "           0       0.87      0.83      0.85      1615\n",
      "           1       0.83      0.87      0.85      1520\n",
      "\n",
      "    accuracy                           0.85      3135\n",
      "   macro avg       0.85      0.85      0.85      3135\n",
      "weighted avg       0.85      0.85      0.85      3135\n",
      "\n"
     ]
    }
   ],
   "source": [
    "#classification report\n",
    "print(classification_report(Y_test,y_pred))"
   ]
  },
  {
   "cell_type": "code",
   "execution_count": 108,
   "id": "f53a98ff",
   "metadata": {
    "execution": {
     "iopub.execute_input": "2022-07-08T12:52:43.023185Z",
     "iopub.status.busy": "2022-07-08T12:52:43.022809Z",
     "iopub.status.idle": "2022-07-08T12:52:43.030974Z",
     "shell.execute_reply": "2022-07-08T12:52:43.029787Z"
    },
    "papermill": {
     "duration": 0.060545,
     "end_time": "2022-07-08T12:52:43.033120",
     "exception": false,
     "start_time": "2022-07-08T12:52:42.972575",
     "status": "completed"
    },
    "tags": []
   },
   "outputs": [
    {
     "data": {
      "text/plain": [
       "0.8507177033492823"
      ]
     },
     "execution_count": 108,
     "metadata": {},
     "output_type": "execute_result"
    }
   ],
   "source": [
    "#accuacry score by model\n",
    "from sklearn.metrics import accuracy_score\n",
    "accuracy_score(Y_test,y_pred)"
   ]
  },
  {
   "cell_type": "code",
   "execution_count": 109,
   "id": "08d30d34",
   "metadata": {
    "execution": {
     "iopub.execute_input": "2022-07-08T12:52:43.139473Z",
     "iopub.status.busy": "2022-07-08T12:52:43.139051Z",
     "iopub.status.idle": "2022-07-08T12:52:51.016995Z",
     "shell.execute_reply": "2022-07-08T12:52:51.015685Z"
    },
    "papermill": {
     "duration": 7.932647,
     "end_time": "2022-07-08T12:52:51.019227",
     "exception": false,
     "start_time": "2022-07-08T12:52:43.086580",
     "status": "completed"
    },
    "tags": []
   },
   "outputs": [
    {
     "name": "stdout",
     "output_type": "stream",
     "text": [
      "mean accuarcy of XGB 0.848785816270847\n"
     ]
    }
   ],
   "source": [
    "#cross validation using cross_val_score with CV =10\n",
    "from sklearn.model_selection import cross_val_score\n",
    "score=cross_val_score(pipe, X_train, Y_train, cv=10, scoring='accuracy')\n",
    "print(\"mean accuarcy of XGB\",score.mean())"
   ]
  },
  {
   "cell_type": "code",
   "execution_count": 110,
   "id": "a036c0f2",
   "metadata": {
    "execution": {
     "iopub.execute_input": "2022-07-08T12:52:51.119541Z",
     "iopub.status.busy": "2022-07-08T12:52:51.118946Z",
     "iopub.status.idle": "2022-07-08T12:52:51.123489Z",
     "shell.execute_reply": "2022-07-08T12:52:51.122687Z"
    },
    "papermill": {
     "duration": 0.057236,
     "end_time": "2022-07-08T12:52:51.125960",
     "exception": false,
     "start_time": "2022-07-08T12:52:51.068724",
     "status": "completed"
    },
    "tags": []
   },
   "outputs": [],
   "source": [
    "#Predict Complete New Test data\n",
    "test_input2 = np.array([25,'blue-collar','married','primary',0, 5000,0,1,1,9,11,921,10,2,2],dtype=object).reshape(1,15)"
   ]
  },
  {
   "cell_type": "code",
   "execution_count": 111,
   "id": "fa3a489f",
   "metadata": {
    "execution": {
     "iopub.execute_input": "2022-07-08T12:52:51.227017Z",
     "iopub.status.busy": "2022-07-08T12:52:51.226325Z",
     "iopub.status.idle": "2022-07-08T12:52:51.231295Z",
     "shell.execute_reply": "2022-07-08T12:52:51.230512Z"
    },
    "papermill": {
     "duration": 0.057727,
     "end_time": "2022-07-08T12:52:51.233160",
     "exception": false,
     "start_time": "2022-07-08T12:52:51.175433",
     "status": "completed"
    },
    "tags": []
   },
   "outputs": [],
   "source": [
    "df4 = pd.DataFrame(test_input2,columns=X_train.columns)"
   ]
  },
  {
   "cell_type": "code",
   "execution_count": 112,
   "id": "f489cfeb",
   "metadata": {
    "execution": {
     "iopub.execute_input": "2022-07-08T12:52:51.333762Z",
     "iopub.status.busy": "2022-07-08T12:52:51.333036Z",
     "iopub.status.idle": "2022-07-08T12:52:51.348194Z",
     "shell.execute_reply": "2022-07-08T12:52:51.346923Z"
    },
    "papermill": {
     "duration": 0.068454,
     "end_time": "2022-07-08T12:52:51.350547",
     "exception": false,
     "start_time": "2022-07-08T12:52:51.282093",
     "status": "completed"
    },
    "tags": []
   },
   "outputs": [
    {
     "data": {
      "text/html": [
       "<div>\n",
       "<style scoped>\n",
       "    .dataframe tbody tr th:only-of-type {\n",
       "        vertical-align: middle;\n",
       "    }\n",
       "\n",
       "    .dataframe tbody tr th {\n",
       "        vertical-align: top;\n",
       "    }\n",
       "\n",
       "    .dataframe thead th {\n",
       "        text-align: right;\n",
       "    }\n",
       "</style>\n",
       "<table border=\"1\" class=\"dataframe\">\n",
       "  <thead>\n",
       "    <tr style=\"text-align: right;\">\n",
       "      <th></th>\n",
       "      <th>age</th>\n",
       "      <th>job</th>\n",
       "      <th>marital</th>\n",
       "      <th>education</th>\n",
       "      <th>default</th>\n",
       "      <th>balance</th>\n",
       "      <th>housing</th>\n",
       "      <th>loan</th>\n",
       "      <th>contact</th>\n",
       "      <th>day</th>\n",
       "      <th>month</th>\n",
       "      <th>duration</th>\n",
       "      <th>campaign</th>\n",
       "      <th>previous</th>\n",
       "      <th>poutcome</th>\n",
       "    </tr>\n",
       "  </thead>\n",
       "  <tbody>\n",
       "    <tr>\n",
       "      <th>0</th>\n",
       "      <td>25</td>\n",
       "      <td>blue-collar</td>\n",
       "      <td>married</td>\n",
       "      <td>primary</td>\n",
       "      <td>0</td>\n",
       "      <td>5000</td>\n",
       "      <td>0</td>\n",
       "      <td>1</td>\n",
       "      <td>1</td>\n",
       "      <td>9</td>\n",
       "      <td>11</td>\n",
       "      <td>921</td>\n",
       "      <td>10</td>\n",
       "      <td>2</td>\n",
       "      <td>2</td>\n",
       "    </tr>\n",
       "  </tbody>\n",
       "</table>\n",
       "</div>"
      ],
      "text/plain": [
       "  age          job  marital education default balance housing loan contact  \\\n",
       "0  25  blue-collar  married   primary       0    5000       0    1       1   \n",
       "\n",
       "  day month duration campaign previous poutcome  \n",
       "0   9    11      921       10        2        2  "
      ]
     },
     "execution_count": 112,
     "metadata": {},
     "output_type": "execute_result"
    }
   ],
   "source": [
    "df4"
   ]
  },
  {
   "cell_type": "code",
   "execution_count": 113,
   "id": "b4409c3a",
   "metadata": {
    "execution": {
     "iopub.execute_input": "2022-07-08T12:52:51.454335Z",
     "iopub.status.busy": "2022-07-08T12:52:51.453537Z",
     "iopub.status.idle": "2022-07-08T12:52:51.469011Z",
     "shell.execute_reply": "2022-07-08T12:52:51.467927Z"
    },
    "papermill": {
     "duration": 0.069841,
     "end_time": "2022-07-08T12:52:51.471302",
     "exception": false,
     "start_time": "2022-07-08T12:52:51.401461",
     "status": "completed"
    },
    "tags": []
   },
   "outputs": [
    {
     "data": {
      "text/plain": [
       "array([1])"
      ]
     },
     "execution_count": 113,
     "metadata": {},
     "output_type": "execute_result"
    }
   ],
   "source": [
    "pipe.predict(df4)"
   ]
  },
  {
   "cell_type": "code",
   "execution_count": 114,
   "id": "eaaa9b5b",
   "metadata": {
    "execution": {
     "iopub.execute_input": "2022-07-08T12:52:51.573568Z",
     "iopub.status.busy": "2022-07-08T12:52:51.572847Z",
     "iopub.status.idle": "2022-07-08T12:52:51.590630Z",
     "shell.execute_reply": "2022-07-08T12:52:51.589586Z"
    },
    "papermill": {
     "duration": 0.071403,
     "end_time": "2022-07-08T12:52:51.592866",
     "exception": false,
     "start_time": "2022-07-08T12:52:51.521463",
     "status": "completed"
    },
    "tags": []
   },
   "outputs": [
    {
     "data": {
      "text/plain": [
       "array([1])"
      ]
     },
     "execution_count": 114,
     "metadata": {},
     "output_type": "execute_result"
    }
   ],
   "source": [
    "pipe.predict(test_input2)"
   ]
  },
  {
   "cell_type": "code",
   "execution_count": 115,
   "id": "6e65b0b7",
   "metadata": {
    "execution": {
     "iopub.execute_input": "2022-07-08T12:52:51.695783Z",
     "iopub.status.busy": "2022-07-08T12:52:51.694773Z",
     "iopub.status.idle": "2022-07-08T12:52:51.699424Z",
     "shell.execute_reply": "2022-07-08T12:52:51.698566Z"
    },
    "papermill": {
     "duration": 0.059275,
     "end_time": "2022-07-08T12:52:51.701351",
     "exception": false,
     "start_time": "2022-07-08T12:52:51.642076",
     "status": "completed"
    },
    "tags": []
   },
   "outputs": [],
   "source": [
    "#Save Model By dump function"
   ]
  },
  {
   "cell_type": "code",
   "execution_count": 116,
   "id": "c5f0781d",
   "metadata": {
    "execution": {
     "iopub.execute_input": "2022-07-08T12:52:51.803203Z",
     "iopub.status.busy": "2022-07-08T12:52:51.801996Z",
     "iopub.status.idle": "2022-07-08T12:52:51.806363Z",
     "shell.execute_reply": "2022-07-08T12:52:51.805536Z"
    },
    "papermill": {
     "duration": 0.057234,
     "end_time": "2022-07-08T12:52:51.808358",
     "exception": false,
     "start_time": "2022-07-08T12:52:51.751124",
     "status": "completed"
    },
    "tags": []
   },
   "outputs": [],
   "source": [
    "#import pickle"
   ]
  },
  {
   "cell_type": "code",
   "execution_count": 117,
   "id": "9e17e8aa",
   "metadata": {
    "execution": {
     "iopub.execute_input": "2022-07-08T12:52:51.910454Z",
     "iopub.status.busy": "2022-07-08T12:52:51.909211Z",
     "iopub.status.idle": "2022-07-08T12:52:51.914197Z",
     "shell.execute_reply": "2022-07-08T12:52:51.913142Z"
    },
    "papermill": {
     "duration": 0.05857,
     "end_time": "2022-07-08T12:52:51.916679",
     "exception": false,
     "start_time": "2022-07-08T12:52:51.858109",
     "status": "completed"
    },
    "tags": []
   },
   "outputs": [],
   "source": [
    "#pickle.dump(rf,open('model.pkl','wb'))"
   ]
  },
  {
   "cell_type": "code",
   "execution_count": null,
   "id": "2445dee9",
   "metadata": {
    "papermill": {
     "duration": 0.050541,
     "end_time": "2022-07-08T12:52:52.017572",
     "exception": false,
     "start_time": "2022-07-08T12:52:51.967031",
     "status": "completed"
    },
    "tags": []
   },
   "outputs": [],
   "source": []
  },
  {
   "cell_type": "code",
   "execution_count": null,
   "id": "5c7999db",
   "metadata": {
    "papermill": {
     "duration": 0.04959,
     "end_time": "2022-07-08T12:52:52.116857",
     "exception": false,
     "start_time": "2022-07-08T12:52:52.067267",
     "status": "completed"
    },
    "tags": []
   },
   "outputs": [],
   "source": []
  },
  {
   "cell_type": "code",
   "execution_count": null,
   "id": "6264505c",
   "metadata": {
    "papermill": {
     "duration": 0.050077,
     "end_time": "2022-07-08T12:52:52.218122",
     "exception": false,
     "start_time": "2022-07-08T12:52:52.168045",
     "status": "completed"
    },
    "tags": []
   },
   "outputs": [],
   "source": []
  },
  {
   "cell_type": "code",
   "execution_count": null,
   "id": "e47775f8",
   "metadata": {
    "papermill": {
     "duration": 0.049257,
     "end_time": "2022-07-08T12:52:52.316869",
     "exception": false,
     "start_time": "2022-07-08T12:52:52.267612",
     "status": "completed"
    },
    "tags": []
   },
   "outputs": [],
   "source": []
  }
 ],
 "metadata": {
  "kernelspec": {
   "display_name": "Python 3",
   "language": "python",
   "name": "python3"
  },
  "language_info": {
   "codemirror_mode": {
    "name": "ipython",
    "version": 3
   },
   "file_extension": ".py",
   "mimetype": "text/x-python",
   "name": "python",
   "nbconvert_exporter": "python",
   "pygments_lexer": "ipython3",
   "version": "3.7.12"
  },
  "papermill": {
   "default_parameters": {},
   "duration": 308.932069,
   "end_time": "2022-07-08T12:52:54.988622",
   "environment_variables": {},
   "exception": null,
   "input_path": "__notebook__.ipynb",
   "output_path": "__notebook__.ipynb",
   "parameters": {},
   "start_time": "2022-07-08T12:47:46.056553",
   "version": "2.3.4"
  }
 },
 "nbformat": 4,
 "nbformat_minor": 5
}
