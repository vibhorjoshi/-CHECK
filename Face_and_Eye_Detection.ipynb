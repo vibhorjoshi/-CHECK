{
  "nbformat": 4,
  "nbformat_minor": 0,
  "metadata": {
    "colab": {
      "provenance": [],
      "toc_visible": true,
      "mount_file_id": "12p0UVjn_PgPIX2F92eTs8MZ0SpxoEt_l",
      "authorship_tag": "ABX9TyObPm23VBqPQEf+doRpzK+V",
      "include_colab_link": true
    },
    "kernelspec": {
      "name": "python3",
      "display_name": "Python 3"
    },
    "language_info": {
      "name": "python"
    }
  },
  "cells": [
    {
      "cell_type": "markdown",
      "metadata": {
        "id": "view-in-github",
        "colab_type": "text"
      },
      "source": [
        "<a href=\"https://colab.research.google.com/github/vibhorjoshi/-CHECK/blob/main/Face_and_Eye_Detection.ipynb\" target=\"_parent\"><img src=\"https://colab.research.google.com/assets/colab-badge.svg\" alt=\"Open In Colab\"/></a>"
      ]
    },
    {
      "cell_type": "code",
      "execution_count": null,
      "metadata": {
        "id": "fcFnVU_RN__3"
      },
      "outputs": [],
      "source": [
        "import numpy as np\n",
        "import cv2\n",
        "#we point classifer to the location where our classifer (XML file format) is stored\n",
        "face_classifier=cv2.CascadeClassifier('/content/haarcascade_frontalface_default.xml')"
      ]
    },
    {
      "cell_type": "code",
      "source": [
        "from google.colab.patches import cv2_imshow\n",
        "from IPython.display import display, Javascript\n",
        "from google.colab.output import eval_js\n",
        "from base64 import b64decode\n",
        "\n",
        "import cv2\n",
        "image = cv2.imread('/content/obama.jpg')\n",
        "gray=cv2.cvtColor(image,cv2.COLOR_BGR2GRAY)\n",
        "faces=face_classifier.detectMultiScale(gray,1.3,5)\n",
        "if len(faces) == 0:\n",
        "  print(\"No faces found\")\n",
        "  #we iterate through our faces array and draw a rectangle\n",
        "  for(x,y,w,h) in faces:\n",
        "    cv2.rectangle(image,(x,y),(x+w,y+h),(127,0,255),2)\n",
        "    cv2_imshow('Face Detection',image)\n",
        "    cv2.waitkey(0)\n",
        "\n",
        "    cv2.destroyAllWindows()\n",
        "\n",
        "\n",
        "\n"
      ],
      "metadata": {
        "id": "e15CeTyShWGX"
      },
      "execution_count": null,
      "outputs": []
    },
    {
      "cell_type": "code",
      "source": [
        "from google.colab.patches import cv2_imshow\n",
        "from IPython.display import display, Javascript\n",
        "from google.colab.output import eval_js\n",
        "from base64 import b64decode\n",
        "\n",
        "import cv2\n",
        "image = cv2.imread('/content/Trump.jpg')\n",
        "gray=cv2.cvtColor(image,cv2.COLOR_BGR2GRAY)\n",
        "faces=face_classifier.detectMultiScale(gray,1.3,5)\n",
        "if len(faces) == 0:\n",
        "  print(\"No faces found\")\n",
        "  #we iterate through our faces array and draw a rectangle\n",
        "  for(x,y,w,h) in faces:\n",
        "    cv2.rectangle(image,(x,y),(x+w,y+h),(127,0,255),2)\n",
        "    cv2_imshow('Face Detection',image)\n",
        "    cv2.waitkey(0)\n",
        "\n",
        "    cv2.destroyAllWindows()"
      ],
      "metadata": {
        "id": "Qpkb4GHfluwq"
      },
      "execution_count": null,
      "outputs": []
    },
    {
      "cell_type": "code",
      "source": [
        "from google.colab.patches import cv2_imshow\n",
        "from IPython.display import display, Javascript\n",
        "from google.colab.output import eval_js\n",
        "from base64 import b64decode\n",
        "\n",
        "import cv2\n",
        "image = cv2.imread('/content/Modi.jpg')\n",
        "gray=cv2.cvtColor(image,cv2.COLOR_BGR2GRAY)\n",
        "faces=face_classifier.detectMultiScale(gray,1.3,5)\n",
        "if len(faces) == 0:\n",
        "  print(\"No faces found\")\n",
        "  #we iterate through our faces array and draw a rectangle\n",
        "  for(x,y,w,h) in faces:\n",
        "    cv2.rectangle(image,(x,y),(x+w,y+h),(127,0,255),2)\n",
        "    cv2_imshow('Face Detection',image)\n",
        "    cv2.waitkey(0)\n",
        "\n",
        "    cv2.destroyAllWindows()"
      ],
      "metadata": {
        "id": "tTUDHf3OoHO1"
      },
      "execution_count": null,
      "outputs": []
    },
    {
      "cell_type": "code",
      "source": [
        "from google.colab.patches import cv2_imshow\n",
        "from google.colab.output import eval_js\n",
        "from base64 import b64decode\n",
        "\n",
        "import cv2\n",
        "face_classifier=cv2.CascadeClassifier('/content/haarcascade_frontalface_default.xml')\n",
        "eye_classifier= cv2. CascadeClassifier ('/content/haarcascade_eye.xml')\n",
        "image = cv2.imread('/content/Trump.jpg')\n",
        "gray=cv2.cvtColor(image,cv2.COLOR_BGR2GRAY)\n",
        "faces=face_classifier.detectMultiScale(gray,1.3,5)\n",
        "#when no face detected ,face classifier returns and empty tuple\n",
        "if len(faces)==0:\n",
        "  print(\"No Face Found\")\n",
        "  for (x,y,h,w) in faces:\n",
        "    cv2.rectangle(image,(x,y),(x+w,y+h),(127,0,255),2)\n",
        "    cv2_imshow('image',image)\n",
        "    cv2.waitkey(0)\n",
        "    roi_gray=gray[y:y+h,x:x+w]\n",
        "    roi_color=image[y:y+h,x:x+w]\n",
        "    eyes=eye_classifier.detectMultiScale(roi_gray)\n",
        "    for (ex,ey,ew,eh) in eyes:\n",
        "         cv2.rectangle(roi_color,(ex,ey),(ex+ew,ey+eh),(255,255,0),2)\n",
        "         cv2_imshow('image',image)\n",
        "         cv2.waitkey(0)\n",
        "\n"
      ],
      "metadata": {
        "id": "mWyNRDeFscfe"
      },
      "execution_count": null,
      "outputs": []
    },
    {
      "cell_type": "code",
      "source": [
        "from google.colab.patches import cv2_imshow\n",
        "from google.colab.output import eval_js\n",
        "from base64 import b64decode\n",
        "\n",
        "import cv2\n",
        "face_classifier=cv2.CascadeClassifier('/content/haarcascade_frontalface_default.xml')\n",
        "eye_classifier= cv2. CascadeClassifier ('/content/haarcascade_eye.xml')\n",
        "image = cv2.imread('/content/obama.jpg')\n",
        "gray=cv2.cvtColor(image,cv2.COLOR_BGR2GRAY)\n",
        "faces=face_classifier.detectMultiScale(gray,1.3,5)\n",
        "#when no face detected ,face classifier returns and empty tuple\n",
        "if len(faces)==0:\n",
        "  print(\"No Face Found\")\n",
        "  for (x,y,h,w) in faces:\n",
        "    cv2.rectangle(image,(x,y),(x+w,y+h),(127,0,255),2)\n",
        "    cv2_imshow('image',image)\n",
        "    cv2.waitkey(0)\n",
        "    roi_gray=gray[y:y+h,x:x+w]\n",
        "    roi_color=image[y:y+h,x:x+w]\n",
        "    eyes=eye_classifier.detectMultiScale(roi_gray)\n",
        "    for (ex,ey,ew,eh) in eyes:\n",
        "         cv2.rectangle(roi_color,(ex,ey),(ex+ew,ey+eh),(255,255,0),2)\n",
        "         cv2_imshow('image',image)\n",
        "         cv2.waitkey(0)"
      ],
      "metadata": {
        "id": "jlMoA-mb18ib"
      },
      "execution_count": null,
      "outputs": []
    },
    {
      "cell_type": "code",
      "source": [
        "from google.colab.patches import cv2_imshow\n",
        "from google.colab.output import eval_js\n",
        "from base64 import b64decode\n",
        "\n",
        "import cv2\n",
        "face_classifier=cv2.CascadeClassifier('/content/haarcascade_frontalface_default.xml')\n",
        "eye_classifier= cv2. CascadeClassifier ('/content/haarcascade_eye.xml')\n",
        "image = cv2.imread('/content/Modi.jpg')\n",
        "gray=cv2.cvtColor(image,cv2.COLOR_BGR2GRAY)\n",
        "faces=face_classifier.detectMultiScale(gray,1.3,5)\n",
        "#when no face detected ,face classifier returns and empty tuple\n",
        "if len(faces)==0:\n",
        "  print(\"No Face Found\")\n",
        "  for (x,y,h,w) in faces:\n",
        "    cv2.rectangle(image,(x,y),(x+w,y+h),(127,0,255),2)\n",
        "    cv2_imshow('image',image)\n",
        "    cv2.waitkey(0)\n",
        "    roi_gray=gray[y:y+h,x:x+w]\n",
        "    roi_color=image[y:y+h,x:x+w]\n",
        "    eyes=eye_classifier.detectMultiScale(roi_gray)\n",
        "    for (ex,ey,ew,eh) in eyes:\n",
        "         cv2.rectangle(roi_color,(ex,ey),(ex+ew,ey+eh),(255,255,0),2)\n",
        "         cv2_imshow('image',image)\n",
        "         cv2.waitkey(0)"
      ],
      "metadata": {
        "id": "l0fd3u-M2AQr"
      },
      "execution_count": null,
      "outputs": []
    }
  ]
}