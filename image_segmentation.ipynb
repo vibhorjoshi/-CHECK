{
  "nbformat": 4,
  "nbformat_minor": 0,
  "metadata": {
    "colab": {
      "provenance": [],
      "gpuType": "T4",
      "mount_file_id": "1RxbfDc5qGQlzmQbiuXfJsmkdj2HLL846",
      "authorship_tag": "ABX9TyNhIKRKJXWKq/HqlBWRD65/",
      "include_colab_link": true
    },
    "kernelspec": {
      "name": "python3",
      "display_name": "Python 3"
    },
    "language_info": {
      "name": "python"
    },
    "accelerator": "GPU"
  },
  "cells": [
    {
      "cell_type": "markdown",
      "metadata": {
        "id": "view-in-github",
        "colab_type": "text"
      },
      "source": [
        "<a href=\"https://colab.research.google.com/github/vibhorjoshi/-CHECK/blob/main/image_segmentation.ipynb\" target=\"_parent\"><img src=\"https://colab.research.google.com/assets/colab-badge.svg\" alt=\"Open In Colab\"/></a>"
      ]
    },
    {
      "cell_type": "code",
      "execution_count": null,
      "metadata": {
        "colab": {
          "base_uri": "https://localhost:8080/"
        },
        "id": "DkeH29aleEUa",
        "outputId": "39c960da-6f95-4f44-c7c6-586a86d43d64"
      },
      "outputs": [
        {
          "output_type": "stream",
          "name": "stdout",
          "text": [
            "Requirement already satisfied: face_recognition in /usr/local/lib/python3.10/dist-packages (1.3.0)\n",
            "Requirement already satisfied: face-recognition-models>=0.3.0 in /usr/local/lib/python3.10/dist-packages (from face_recognition) (0.3.0)\n",
            "Requirement already satisfied: Click>=6.0 in /usr/local/lib/python3.10/dist-packages (from face_recognition) (8.1.6)\n",
            "Requirement already satisfied: dlib>=19.7 in /usr/local/lib/python3.10/dist-packages (from face_recognition) (19.24.2)\n",
            "Requirement already satisfied: numpy in /usr/local/lib/python3.10/dist-packages (from face_recognition) (1.23.5)\n",
            "Requirement already satisfied: Pillow in /usr/local/lib/python3.10/dist-packages (from face_recognition) (9.4.0)\n"
          ]
        }
      ],
      "source": [
        "! pip install face_recognition"
      ]
    },
    {
      "cell_type": "code",
      "source": [
        "# Import PyDrive and associated libraries.\n",
        "# This only needs to be done once in a notebook.\n",
        "from pydrive.auth import GoogleAuth\n",
        "from pydrive.drive import GoogleDrive\n",
        "from google.colab import auth\n",
        "from oauth2client.client import GoogleCredentials\n",
        "\n",
        "# Authenticate and create the PyDrive client.\n",
        "# This only needs to be done once in a notebook.\n",
        "auth.authenticate_user()\n",
        "gauth = GoogleAuth()\n",
        "gauth.credentials = GoogleCredentials.get_application_default()\n",
        "drive = GoogleDrive(gauth)\n",
        "\n",
        "# Create & upload a text file.\n",
        "uploaded = drive.CreateFile({'title': 'Sample file.txt'})\n",
        "uploaded.SetContentString('Sample upload file content')\n",
        "uploaded.Upload()\n",
        "print('Uploaded file with ID {}'.format(uploaded.get('id')))"
      ],
      "metadata": {
        "colab": {
          "base_uri": "https://localhost:8080/"
        },
        "id": "cXYkBew36smZ",
        "outputId": "98d6f91f-2d92-4b86-b315-ee7d614fb689"
      },
      "execution_count": 81,
      "outputs": [
        {
          "output_type": "stream",
          "name": "stdout",
          "text": [
            "Uploaded file with ID 12dqngs0ZaMlrE7GwIkWzs8eIOpy_YCec\n"
          ]
        }
      ]
    },
    {
      "cell_type": "code",
      "source": [
        "# Clone the entire repo.\n",
        "!git clone -l -s git://github.com/jakevdp/PythonDataScienceHandbook.git cloned-repo\n",
        "%cd cloned-repo\n",
        "!ls"
      ],
      "metadata": {
        "colab": {
          "base_uri": "https://localhost:8080/"
        },
        "id": "TbTeebrd7bYE",
        "outputId": "ef5c56ea-491e-4ab6-c78e-765192cfb2d7"
      },
      "execution_count": 80,
      "outputs": [
        {
          "output_type": "stream",
          "name": "stdout",
          "text": [
            "Cloning into 'cloned-repo'...\n",
            "warning: --local is ignored\n",
            "fatal: unable to connect to github.com:\n",
            "github.com[0: 140.82.121.3]: errno=Connection timed out\n",
            "\n",
            "[Errno 2] No such file or directory: 'cloned-repo'\n",
            "/content\n",
            " -\n",
            " 640px-Donald_Trump_official_portrait.jpg\n",
            " 640px-Donald_Trump_official_portrait.jpg.1\n",
            " 640px-Donald_Trump_official_portrait.jpg.2\n",
            " 640px-Donald_Trump_official_portrait.jpg.3\n",
            " 640px-Donald_Trump_official_portrait.jpg.4\n",
            " 640px-Donald_Trump_official_portrait.jpg.5\n",
            " 640px-Donald_Trump_official_portrait.jpg.6\n",
            " 640px-Donald_Trump_official_portrait.jpg.7\n",
            " 640px-Donald_Trump_official_portrait.jpg.8\n",
            " 640px-Donald_Trump_official_portrait.jpg.9\n",
            " 800px-Indira_Gandhi_official_portrait.png\n",
            " 800px-Indira_Gandhi_official_portrait.png.1\n",
            " 800px-Indira_Gandhi_official_portrait.png.2\n",
            " 800px-Indira_Gandhi_official_portrait.png.3\n",
            " 800px-Indira_Gandhi_official_portrait.png.4\n",
            " 800px-Indira_Gandhi_official_portrait.png.5\n",
            " 800px-Indira_Gandhi_official_portrait.png.6\n",
            " 800px-Indira_Gandhi_official_portrait.png.7\n",
            " 800px-President_Barack_Obama.jpg\n",
            " 800px-President_Barack_Obama.jpg.1\n",
            "'Bill_Gates_2017_(cropped).jpg'\n",
            "'Bill_Gates_2017_(cropped).jpg.1'\n",
            " drive\n",
            "'Elon_Musk_Colorado_2022_(cropped2).jpg'\n",
            "'Elon_Musk_Colorado_2022_(cropped2).jpg.1'\n",
            " index.html\n",
            " index.html.1\n",
            " index.html.2\n",
            " known\n",
            " logo.png\n",
            " nbcnews_color_2_8.jpg\n",
            " nbcnews_color_2_8.jpg.1\n",
            " nbcnews_color_2_8.jpg.2\n",
            " Official_Photograph_of_Prime_Minister_Narendra_Modi_Portrait.png\n",
            " Official_Photograph_of_Prime_Minister_Narendra_Modi_Portrait.png.1\n",
            " Official_Photograph_of_Prime_Minister_Narendra_Modi_Portrait.png.2\n",
            " Official_Photograph_of_Prime_Minister_Narendra_Modi_Portrait.png.3\n",
            " Official_Photograph_of_Prime_Minister_Narendra_Modi_Portrait.png.4\n",
            " Official_Photograph_of_Prime_Minister_Narendra_Modi_Portrait.png.5\n",
            " Official_Photograph_of_Prime_Minister_Narendra_Modi_Portrait.png.6\n",
            " Official_Photograph_of_Prime_Minister_Narendra_Modi_Portrait.png.7\n",
            " Ratan_Tata_photo.jpg\n",
            " Ratan_Tata_photo.jpg.1\n",
            " Ratan_Tata_photo.jpg.2\n",
            " Ratan_Tata_photo.jpg.3\n",
            " Ratan_Tata_photo.jpg.4\n",
            " Ratan_Tata_photo.jpg.5\n",
            " Ratan_Tata_photo.jpg.6\n",
            " Ratan_Tata_photo.jpg.7\n",
            " Ratan_Tata_photo.jpg.8\n",
            " Ratan_Tata_photo.jpg.9\n",
            " sample_data\n",
            " unknown\n",
            "'url?sa=i'\n",
            "'url?sa=i.1'\n",
            "'url?sa=i.10'\n",
            "'url?sa=i.11'\n",
            "'url?sa=i.12'\n",
            "'url?sa=i.13'\n",
            "'url?sa=i.14'\n",
            "'url?sa=i.15'\n",
            "'url?sa=i.16'\n",
            "'url?sa=i.17'\n",
            "'url?sa=i.18'\n",
            "'url?sa=i.19'\n",
            "'url?sa=i.2'\n",
            "'url?sa=i.20'\n",
            "'url?sa=i.21'\n",
            "'url?sa=i.22'\n",
            "'url?sa=i.23'\n",
            "'url?sa=i.24'\n",
            "'url?sa=i.25'\n",
            "'url?sa=i.26'\n",
            "'url?sa=i.27'\n",
            "'url?sa=i.3'\n",
            "'url?sa=i.4'\n",
            "'url?sa=i.5'\n",
            "'url?sa=i.6'\n",
            "'url?sa=i.7'\n",
            "'url?sa=i.8'\n",
            "'url?sa=i.9'\n"
          ]
        }
      ]
    },
    {
      "cell_type": "code",
      "source": [
        "# Fetch a single <1MB file using the raw GitHub URL.\n",
        "!curl --remote-name \\\n",
        "     -H 'Accept: application/vnd.github.v3.raw' \\\n",
        "     --location https://api.github.com/repos/jakevdp/PythonDataScienceHandbook/contents/notebooks/data/california_cities.csv"
      ],
      "metadata": {
        "colab": {
          "base_uri": "https://localhost:8080/"
        },
        "id": "ThAftK8j7bYK",
        "outputId": "20faa55c-8554-4c55-820d-c26ec4d32e0f"
      },
      "execution_count": 85,
      "outputs": [
        {
          "output_type": "stream",
          "name": "stdout",
          "text": [
            "  % Total    % Received % Xferd  Average Speed   Time    Time     Time  Current\n",
            "                                 Dload  Upload   Total   Spent    Left  Speed\n",
            "100   122  100   122    0     0    491      0 --:--:-- --:--:-- --:--:--   489\n"
          ]
        }
      ]
    },
    {
      "cell_type": "code",
      "source": [
        "!wget https://colab.research.google.com/#snippetFileIds=%2Fv2%2Fexternal%2Fnotebooks%2Fsnippets%2Fadvanced_outputs.ipynb&snippetQuery=Camera%20Capture"
      ],
      "metadata": {
        "colab": {
          "base_uri": "https://localhost:8080/"
        },
        "id": "PHoQULg-fiyZ",
        "outputId": "70c8a504-76a9-4515-ccfc-c53e5bab05b2"
      },
      "execution_count": 86,
      "outputs": [
        {
          "output_type": "stream",
          "name": "stdout",
          "text": [
            "--2023-08-12 22:52:15--  https://colab.research.google.com/\n",
            "Resolving colab.research.google.com (colab.research.google.com)... 108.177.119.138, 108.177.119.102, 108.177.119.113, ...\n",
            "Connecting to colab.research.google.com (colab.research.google.com)|108.177.119.138|:443... connected.\n",
            "HTTP request sent, awaiting response... 200 OK\n",
            "Length: unspecified [text/html]\n",
            "Saving to: ‘index.html.4’\n",
            "\n",
            "\rindex.html.4            [<=>                 ]       0  --.-KB/s               \rindex.html.4            [ <=>                ]  77.53K  --.-KB/s    in 0.02s   \n",
            "\n",
            "2023-08-12 22:52:15 (4.50 MB/s) - ‘index.html.4’ saved [79386]\n",
            "\n"
          ]
        }
      ]
    },
    {
      "cell_type": "code",
      "source": [
        "!mkdir  known\n",
        "!wget https://upload.wikimedia.org/wikipedia/commons/9/99/Elon_Musk_Colorado_2022_%28cropped2%29.jpg  -O known/Elon_Musk.jpg\n",
        "!wget https://upload.wikimedia.org/wikipedia/commons/a/a8/Bill_Gates_2017_%28cropped%29.jpg  -O known/Bill_Gates.jpg\n",
        "!wget https://upload.wikimedia.org/wikipedia/commons/thumb/8/8d/President_Barack_Obama.jpg/800px-President_Barack_Obama.jpg  -O known/President_Barack_Obama.jpg\n"
      ],
      "metadata": {
        "colab": {
          "base_uri": "https://localhost:8080/"
        },
        "id": "cfOEvCj2h1Ih",
        "outputId": "026bb8f5-57bf-4c95-cd2d-f044c0ac1d92"
      },
      "execution_count": 87,
      "outputs": [
        {
          "output_type": "stream",
          "name": "stdout",
          "text": [
            "mkdir: cannot create directory ‘known’: File exists\n",
            "--2023-08-12 22:52:19--  https://upload.wikimedia.org/wikipedia/commons/9/99/Elon_Musk_Colorado_2022_%28cropped2%29.jpg\n",
            "Resolving upload.wikimedia.org (upload.wikimedia.org)... 185.15.58.240, 2a02:ec80:600:ed1a::2:b\n",
            "Connecting to upload.wikimedia.org (upload.wikimedia.org)|185.15.58.240|:443... connected.\n",
            "HTTP request sent, awaiting response... 200 OK\n",
            "Length: 277854 (271K) [image/jpeg]\n",
            "Saving to: ‘known/Elon_Musk.jpg’\n",
            "\n",
            "known/Elon_Musk.jpg 100%[===================>] 271.34K  --.-KB/s    in 0.08s   \n",
            "\n",
            "2023-08-12 22:52:19 (3.12 MB/s) - ‘known/Elon_Musk.jpg’ saved [277854/277854]\n",
            "\n",
            "--2023-08-12 22:52:19--  https://upload.wikimedia.org/wikipedia/commons/a/a8/Bill_Gates_2017_%28cropped%29.jpg\n",
            "Resolving upload.wikimedia.org (upload.wikimedia.org)... 185.15.58.240, 2a02:ec80:600:ed1a::2:b\n",
            "Connecting to upload.wikimedia.org (upload.wikimedia.org)|185.15.58.240|:443... connected.\n",
            "HTTP request sent, awaiting response... 200 OK\n",
            "Length: 1265579 (1.2M) [image/jpeg]\n",
            "Saving to: ‘known/Bill_Gates.jpg’\n",
            "\n",
            "known/Bill_Gates.jp 100%[===================>]   1.21M  --.-KB/s    in 0.1s    \n",
            "\n",
            "2023-08-12 22:52:19 (9.02 MB/s) - ‘known/Bill_Gates.jpg’ saved [1265579/1265579]\n",
            "\n",
            "--2023-08-12 22:52:19--  https://upload.wikimedia.org/wikipedia/commons/thumb/8/8d/President_Barack_Obama.jpg/800px-President_Barack_Obama.jpg\n",
            "Resolving upload.wikimedia.org (upload.wikimedia.org)... 185.15.58.240, 2a02:ec80:600:ed1a::2:b\n",
            "Connecting to upload.wikimedia.org (upload.wikimedia.org)|185.15.58.240|:443... connected.\n",
            "HTTP request sent, awaiting response... 200 OK\n",
            "Length: 149031 (146K) [image/jpeg]\n",
            "Saving to: ‘known/President_Barack_Obama.jpg’\n",
            "\n",
            "known/President_Bar 100%[===================>] 145.54K  --.-KB/s    in 0.06s   \n",
            "\n",
            "2023-08-12 22:52:19 (2.19 MB/s) - ‘known/President_Barack_Obama.jpg’ saved [149031/149031]\n",
            "\n"
          ]
        }
      ]
    },
    {
      "cell_type": "code",
      "source": [
        "!mkdir  unknown\n",
        "!wget https://upload.wikimedia.org/wikipedia/commons/f/f8/Ratan_Tata_photo.jpg - 0 unknown/1.jpg\n",
        "!wget https://upload.wikimedia.org/wikipedia/commons/thumb/5/56/Donald_Trump_official_portrait.jpg/640px-Donald_Trump_official_portrait.jpg - 0 unknown/2.jpg\n",
        "!wget https://upload.wikimedia.org/wikipedia/commons/c/c4/Official_Photograph_of_Prime_Minister_Narendra_Modi_Portrait.png - 0 unknown/3.jpg\n",
        "!wget https://upload.wikimedia.org/wikipedia/commons/thumb/a/a1/Indira_Gandhi_official_portrait.png/800px-Indira_Gandhi_official_portrait.png - 0 unknown/4.jpg"
      ],
      "metadata": {
        "colab": {
          "base_uri": "https://localhost:8080/"
        },
        "id": "K7ovuJoDkoku",
        "outputId": "a032ac53-3824-4267-82fe-ab03e68e4ed6"
      },
      "execution_count": 88,
      "outputs": [
        {
          "output_type": "stream",
          "name": "stdout",
          "text": [
            "mkdir: cannot create directory ‘unknown’: File exists\n",
            "--2023-08-12 22:52:21--  https://upload.wikimedia.org/wikipedia/commons/f/f8/Ratan_Tata_photo.jpg\n",
            "Resolving upload.wikimedia.org (upload.wikimedia.org)... 185.15.58.240, 2a02:ec80:600:ed1a::2:b\n",
            "Connecting to upload.wikimedia.org (upload.wikimedia.org)|185.15.58.240|:443... connected.\n",
            "HTTP request sent, awaiting response... 200 OK\n",
            "Length: 394076 (385K) [image/jpeg]\n",
            "Saving to: ‘Ratan_Tata_photo.jpg.10’\n",
            "\n",
            "Ratan_Tata_photo.jp 100%[===================>] 384.84K  --.-KB/s    in 0.1s    \n",
            "\n",
            "2023-08-12 22:52:21 (3.91 MB/s) - ‘Ratan_Tata_photo.jpg.10’ saved [394076/394076]\n",
            "\n",
            "--2023-08-12 22:52:21--  http://-/\n",
            "Resolving - (-)... failed: Name or service not known.\n",
            "wget: unable to resolve host address ‘-’\n",
            "--2023-08-12 22:52:21--  http://0/\n",
            "Resolving 0 (0)... 0.0.0.0\n",
            "Connecting to 0 (0)|0.0.0.0|:80... failed: Connection refused.\n",
            "--2023-08-12 22:52:21--  http://unknown/1.jpg\n",
            "Resolving unknown (unknown)... failed: Name or service not known.\n",
            "wget: unable to resolve host address ‘unknown’\n",
            "FINISHED --2023-08-12 22:52:22--\n",
            "Total wall clock time: 0.2s\n",
            "Downloaded: 1 files, 385K in 0.1s (3.91 MB/s)\n",
            "--2023-08-12 22:52:22--  https://upload.wikimedia.org/wikipedia/commons/thumb/5/56/Donald_Trump_official_portrait.jpg/640px-Donald_Trump_official_portrait.jpg\n",
            "Resolving upload.wikimedia.org (upload.wikimedia.org)... 185.15.58.240, 2a02:ec80:600:ed1a::2:b\n",
            "Connecting to upload.wikimedia.org (upload.wikimedia.org)|185.15.58.240|:443... connected.\n",
            "HTTP request sent, awaiting response... 200 OK\n",
            "Length: 104989 (103K) [image/jpeg]\n",
            "Saving to: ‘640px-Donald_Trump_official_portrait.jpg.10’\n",
            "\n",
            "640px-Donald_Trump_ 100%[===================>] 102.53K  --.-KB/s    in 0.06s   \n",
            "\n",
            "2023-08-12 22:52:22 (1.80 MB/s) - ‘640px-Donald_Trump_official_portrait.jpg.10’ saved [104989/104989]\n",
            "\n",
            "--2023-08-12 22:52:22--  http://-/\n",
            "Resolving - (-)... failed: Name or service not known.\n",
            "wget: unable to resolve host address ‘-’\n",
            "--2023-08-12 22:52:22--  http://0/\n",
            "Resolving 0 (0)... 0.0.0.0\n",
            "Connecting to 0 (0)|0.0.0.0|:80... failed: Connection refused.\n",
            "--2023-08-12 22:52:22--  http://unknown/2.jpg\n",
            "Resolving unknown (unknown)... failed: Name or service not known.\n",
            "wget: unable to resolve host address ‘unknown’\n",
            "FINISHED --2023-08-12 22:52:22--\n",
            "Total wall clock time: 0.2s\n",
            "Downloaded: 1 files, 103K in 0.06s (1.80 MB/s)\n",
            "--2023-08-12 22:52:22--  https://upload.wikimedia.org/wikipedia/commons/c/c4/Official_Photograph_of_Prime_Minister_Narendra_Modi_Portrait.png\n",
            "Resolving upload.wikimedia.org (upload.wikimedia.org)... 185.15.58.240, 2a02:ec80:600:ed1a::2:b\n",
            "Connecting to upload.wikimedia.org (upload.wikimedia.org)|185.15.58.240|:443... connected.\n",
            "HTTP request sent, awaiting response... 200 OK\n",
            "Length: 258732 (253K) [image/png]\n",
            "Saving to: ‘Official_Photograph_of_Prime_Minister_Narendra_Modi_Portrait.png.8’\n",
            "\n",
            "Official_Photograph 100%[===================>] 252.67K  --.-KB/s    in 0.08s   \n",
            "\n",
            "2023-08-12 22:52:22 (2.95 MB/s) - ‘Official_Photograph_of_Prime_Minister_Narendra_Modi_Portrait.png.8’ saved [258732/258732]\n",
            "\n",
            "--2023-08-12 22:52:22--  http://-/\n",
            "Resolving - (-)... failed: Name or service not known.\n",
            "wget: unable to resolve host address ‘-’\n",
            "--2023-08-12 22:52:22--  http://0/\n",
            "Resolving 0 (0)... 0.0.0.0\n",
            "Connecting to 0 (0)|0.0.0.0|:80... failed: Connection refused.\n",
            "--2023-08-12 22:52:22--  http://unknown/3.jpg\n",
            "Resolving unknown (unknown)... failed: Name or service not known.\n",
            "wget: unable to resolve host address ‘unknown’\n",
            "FINISHED --2023-08-12 22:52:22--\n",
            "Total wall clock time: 0.2s\n",
            "Downloaded: 1 files, 253K in 0.08s (2.95 MB/s)\n",
            "--2023-08-12 22:52:23--  https://upload.wikimedia.org/wikipedia/commons/thumb/a/a1/Indira_Gandhi_official_portrait.png/800px-Indira_Gandhi_official_portrait.png\n",
            "Resolving upload.wikimedia.org (upload.wikimedia.org)... 185.15.58.240, 2a02:ec80:600:ed1a::2:b\n",
            "Connecting to upload.wikimedia.org (upload.wikimedia.org)|185.15.58.240|:443... connected.\n",
            "HTTP request sent, awaiting response... 200 OK\n",
            "Length: 1242560 (1.2M) [image/png]\n",
            "Saving to: ‘800px-Indira_Gandhi_official_portrait.png.8’\n",
            "\n",
            "800px-Indira_Gandhi 100%[===================>]   1.18M  --.-KB/s    in 0.1s    \n",
            "\n",
            "2023-08-12 22:52:23 (9.01 MB/s) - ‘800px-Indira_Gandhi_official_portrait.png.8’ saved [1242560/1242560]\n",
            "\n",
            "--2023-08-12 22:52:23--  http://-/\n",
            "Resolving - (-)... failed: Name or service not known.\n",
            "wget: unable to resolve host address ‘-’\n",
            "--2023-08-12 22:52:23--  http://0/\n",
            "Resolving 0 (0)... 0.0.0.0\n",
            "Connecting to 0 (0)|0.0.0.0|:80... failed: Connection refused.\n",
            "--2023-08-12 22:52:23--  http://unknown/4.jpg\n",
            "Resolving unknown (unknown)... failed: Name or service not known.\n",
            "wget: unable to resolve host address ‘unknown’\n",
            "FINISHED --2023-08-12 22:52:23--\n",
            "Total wall clock time: 0.2s\n",
            "Downloaded: 1 files, 1.2M in 0.1s (9.01 MB/s)\n"
          ]
        }
      ]
    },
    {
      "cell_type": "code",
      "source": [
        "\n",
        "import face_recognition\n",
        "import cv2\n",
        "import os\n",
        "from google.colab.patches import cv2_imshow\n",
        "\n",
        "def read_img(path):\n",
        "  image =cv2.imread(path)\n",
        "  (h,w)=image.shape[:2]\n",
        "  width=500\n",
        "  ratio=width/float(w)\n",
        "  height=int(h* ratio)\n",
        "  return cv2.resize(image,(width,height))\n",
        "\n",
        "  known_encodings =[]\n",
        "  known_names=[]\n",
        "  known_dir=\"known\"\n",
        "\n",
        "  for file in os.listdir(known_dir):\n",
        "    image=read_image( known_dir + '/' + file)\n",
        "    image_encoding=face_recognition.face_encodings(img)[0]\n",
        "    known_encodings.append(image_encoding)\n",
        "    known_names.append(file.split('.')[0])\n",
        "\n",
        "    unknown_dir='unknown'\n",
        "    for file in os.listdir(unknown_dir):\n",
        "      print(\"Processing\",file)\n",
        "      image=read_image( unknown_dir + '/' + file)\n",
        "      image_encoding=face_recognition.face_encodings(img)[0]\n",
        "\n",
        "      results=face_recognition.compare_faces(known_encodings,image_encoding)\n",
        "      print(results)\n",
        "\n",
        "\n",
        "\n",
        "\n",
        "\n"
      ],
      "metadata": {
        "id": "lkinA2hum3IC"
      },
      "execution_count": 89,
      "outputs": []
    },
    {
      "cell_type": "code",
      "source": [],
      "metadata": {
        "id": "h7OI-VoU2MFk"
      },
      "execution_count": null,
      "outputs": []
    }
  ]
}