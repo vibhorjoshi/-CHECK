{
  "nbformat": 4,
  "nbformat_minor": 0,
  "metadata": {
    "colab": {
      "private_outputs": true,
      "provenance": [],
      "gpuType": "T4",
      "authorship_tag": "ABX9TyPpdqTVH8I1IKYU5qcKEMlQ",
      "include_colab_link": true
    },
    "kernelspec": {
      "name": "python3",
      "display_name": "Python 3"
    },
    "language_info": {
      "name": "python"
    },
    "accelerator": "GPU"
  },
  "cells": [
    {
      "cell_type": "markdown",
      "metadata": {
        "id": "view-in-github",
        "colab_type": "text"
      },
      "source": [
        "<a href=\"https://colab.research.google.com/github/vibhorjoshi/-CHECK/blob/main/Untitled4.ipynb\" target=\"_parent\"><img src=\"https://colab.research.google.com/assets/colab-badge.svg\" alt=\"Open In Colab\"/></a>"
      ]
    },
    {
      "cell_type": "markdown",
      "source": [
        "[link text](https://)\n",
        "**install** **and** **import** **dependencies**"
      ],
      "metadata": {
        "id": "XEuYUJhXfI4q"
      }
    },
    {
      "cell_type": "code",
      "execution_count": null,
      "metadata": {
        "id": "nTV7jWaJdCqf"
      },
      "outputs": [],
      "source": [
        "!pip install mediapipe opencv-python"
      ]
    },
    {
      "cell_type": "code",
      "source": [
        "import cv2\n",
        "import mediapipe as mp\n",
        "import numpy as np\n",
        "\n",
        "# Initialize Mediapipe Pose and Drawing modules\n",
        "mp_drawing = mp.solutions.drawing_utils\n",
        "mp_pose = mp.solutions.pose\n",
        "\n",
        "# Initialize webcam capture\n",
        "cap = cv2.VideoCapture(0)\n",
        "\n",
        "# Create a Pose object\n",
        "with mp_pose.Pose(min_detection_confidence=0.5, min_tracking_confidence=0.5) as pose:\n",
        "\n",
        "    while cap.isOpened():\n",
        "        ret, frame = cap.read()\n",
        "        if not ret:\n",
        "            continue\n",
        "\n",
        "        # Convert the BGR image to RGB\n",
        "        frame_rgb = cv2.cvtColor(frame, cv2.COLOR_BGR2RGB)\n",
        "\n",
        "        # Process the\n",
        "\n",
        "# Your code continues here...\n",
        "\n"
      ],
      "metadata": {
        "id": "WXh7EMPOdXdT"
      },
      "execution_count": null,
      "outputs": []
    },
    {
      "cell_type": "code",
      "source": [
        "# MAKE DETECTIONS\n",
        "# VIDEO FEED\n",
        "cap=cv2.VideoCapture(0)\n",
        "while cap.isOpened():\n",
        "  ret,frame=cap.read()\n",
        "  cv2.imshow('Mediapipe Feed',frame)\n",
        "  if cv2.waitKey(10) & 0xFF== ord('q'):\n",
        "    break\n",
        "cap.release()\n",
        "cv2.destroyAllWindows()\n",
        "\n",
        "\n",
        "\n"
      ],
      "metadata": {
        "id": "PNG3SGj_eWtB"
      },
      "execution_count": null,
      "outputs": []
    },
    {
      "cell_type": "code",
      "source": [
        "# Make detections\n",
        "cap=cv2.VideoCapture(0)\n",
        "# set up mediapipe instance\n",
        "with mp_pose.Pose(min_detection_confidence=0.5,min_tracking_confidence=0.5) as pose:\n",
        "  while cap.isOpened():\n",
        "    ret,frame=cap.read()\n",
        "    # recolor\n",
        "    image=cv2.cvtColor(frame,cv2.COLOR_BGR2RGB)\n",
        "    image.flags.writeable=False\n",
        "    # make detection\n",
        "    results=pose.process(image)\n",
        "    results.pose_landmarks\n",
        "\n",
        "    # recolor image back to BGR\n",
        "    image.flags.writeable=True\n",
        "    image=cv2.cvtColor(image,cv2.COLOR_RGB2BGR)\n",
        "    # RENDER DETECTION\n",
        "    mp_drawing.draw_landmarks(image,results.pose_landmarks,mp_pose.POSE_CONNECTIONS)\n",
        "\n",
        "    cv2.imshow('Mediapipe Feed',image)\n",
        "\n",
        "    if cv2.waitKey(10) & 0xFF ==ord('q'):\n",
        "      break\n",
        "  cap.release()\n",
        "  cv2.destroyAllWindows()\n",
        "\n",
        "\n",
        "\n",
        "\n",
        "\n",
        "\n",
        "\n",
        "\n"
      ],
      "metadata": {
        "id": "strLmyhWi-GP"
      },
      "execution_count": null,
      "outputs": []
    },
    {
      "cell_type": "code",
      "source": [
        "mp_pose.POSE_CONNECTIONS\n"
      ],
      "metadata": {
        "id": "5PrCHuBC5QGS"
      },
      "execution_count": null,
      "outputs": []
    },
    {
      "cell_type": "code",
      "source": [],
      "metadata": {
        "id": "bKLD_1Ip7EAQ"
      },
      "execution_count": null,
      "outputs": []
    }
  ]
}